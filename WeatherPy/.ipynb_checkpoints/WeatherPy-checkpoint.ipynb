{
 "cells": [
  {
   "cell_type": "markdown",
   "metadata": {},
   "source": [
    "# WeatherPy\n",
    "----\n",
    "\n",
    "#### Note\n",
    "* Instructions have been included for each segment. You do not have to follow them exactly, but they are included to help you think through the steps."
   ]
  },
  {
   "cell_type": "code",
   "execution_count": 1,
   "metadata": {
    "scrolled": true
   },
   "outputs": [],
   "source": [
    "# Dependencies and Setup\n",
    "import matplotlib.pyplot as plt\n",
    "import pandas as pd\n",
    "import numpy as np\n",
    "import requests\n",
    "import time\n",
    "from scipy.stats import linregress\n",
    "\n",
    "# Import API key\n",
    "from config import weather_api_key\n",
    "\n",
    "# Incorporated citipy to determine city based on latitude and longitude\n",
    "import citipy\n",
    "from citipy import citipy\n",
    "\n",
    "# Output File (CSV)\n",
    "output_data_file = \"output_data/cities.csv\"\n",
    "\n",
    "# Range of latitudes and longitudes\n",
    "lat_range = (-90, 90)\n",
    "lng_range = (-180, 180)"
   ]
  },
  {
   "cell_type": "markdown",
   "metadata": {},
   "source": [
    "## Generate Cities List"
   ]
  },
  {
   "cell_type": "code",
   "execution_count": 2,
   "metadata": {},
   "outputs": [
    {
     "data": {
      "text/plain": [
       "634"
      ]
     },
     "execution_count": 2,
     "metadata": {},
     "output_type": "execute_result"
    }
   ],
   "source": [
    "# List for holding lat_lngs and cities\n",
    "lat_lngs = []\n",
    "cities = []\n",
    "\n",
    "# Create a set of random lat and lng combinations\n",
    "lats = np.random.uniform(lat_range[0], lat_range[1], size=1500)\n",
    "lngs = np.random.uniform(lng_range[0], lng_range[1], size=1500)\n",
    "lat_lngs = zip(lats, lngs)\n",
    "\n",
    "# Identify nearest city for each lat, lng combination\n",
    "for lat_lng in lat_lngs:\n",
    "    city = citipy.nearest_city(lat_lng[0], lat_lng[1]).city_name\n",
    "    \n",
    "    # If the city is unique, then add it to a our cities list\n",
    "    if city not in cities:\n",
    "        cities.append(city)\n",
    "\n",
    "# Print the city count to confirm sufficient count\n",
    "len(cities)"
   ]
  },
  {
   "cell_type": "markdown",
   "metadata": {},
   "source": [
    "### Perform API Calls\n",
    "* Perform a weather check on each city using a series of successive API calls.\n",
    "* Include a print log of each city as it'sbeing processed (with the city number and city name).\n"
   ]
  },
  {
   "cell_type": "code",
   "execution_count": 3,
   "metadata": {
    "scrolled": true
   },
   "outputs": [
    {
     "name": "stdout",
     "output_type": "stream",
     "text": [
      "Beginning Data Retrieval\n",
      "-----------------------------\n",
      "Processing Record 1 of Set 1 | barrow\n",
      "Processing Record 2 of Set 1 | yellowknife\n",
      "Processing Record 3 of Set 1 | voh\n",
      "Processing Record 4 of Set 1 | ahuimanu\n",
      "Processing Record 5 of Set 1 | ozgon\n",
      "Processing Record 6 of Set 1 | nelson bay\n",
      "Processing Record 7 of Set 1 | tuktoyaktuk\n",
      "Processing Record 8 of Set 1 | murray bridge\n",
      "Processing Record 9 of Set 1 | saint-philippe\n",
      "Processing Record 10 of Set 1 | albany\n",
      "Processing Record 11 of Set 1 | hithadhoo\n",
      "Processing Record 12 of Set 1 | carnarvon\n",
      "Processing Record 13 of Set 1 | hirakud\n",
      "Processing Record 14 of Set 1 | ushuaia\n",
      "Processing Record 15 of Set 1 | yumen\n",
      "Processing Record 16 of Set 1 | vagay\n",
      "Processing Record 17 of Set 1 | chokurdakh\n",
      "Processing Record 18 of Set 1 | atuona\n",
      "Processing Record 19 of Set 1 | mahebourg\n",
      "Processing Record 20 of Set 1 | gizo\n",
      "Processing Record 21 of Set 1 | tiksi\n",
      "Processing Record 22 of Set 1 | taolanaro\n",
      "Processing Record 23 of Set 1 | ijaki\n",
      "Processing Record 24 of Set 1 | kanniyakumari\n",
      "Processing Record 25 of Set 1 | nikolskoye\n",
      "Processing Record 26 of Set 1 | port alfred\n",
      "Processing Record 27 of Set 1 | cidreira\n",
      "Processing Record 28 of Set 1 | verkh-usugli\n",
      "Processing Record 29 of Set 1 | kamiiso\n",
      "Processing Record 30 of Set 1 | santa cruz del sur\n",
      "Processing Record 31 of Set 1 | punta arenas\n",
      "Processing Record 32 of Set 1 | lebu\n",
      "Processing Record 33 of Set 1 | rio cuarto\n",
      "Processing Record 34 of Set 1 | castro\n",
      "Processing Record 35 of Set 1 | ponta do sol\n",
      "Processing Record 36 of Set 1 | illoqqortoormiut\n",
      "Processing Record 37 of Set 1 | butaritari\n",
      "Processing Record 38 of Set 1 | kostomuksha\n",
      "Processing Record 39 of Set 1 | champerico\n",
      "Processing Record 40 of Set 1 | kieta\n",
      "Processing Record 41 of Set 1 | lorengau\n",
      "Processing Record 42 of Set 1 | cayenne\n",
      "Processing Record 43 of Set 1 | belushya guba\n",
      "Processing Record 44 of Set 1 | fortuna\n",
      "Processing Record 45 of Set 1 | iqaluit\n",
      "Processing Record 46 of Set 1 | kondinskoye\n",
      "Processing Record 47 of Set 1 | santa fe\n",
      "Processing Record 48 of Set 1 | cape town\n",
      "Processing Record 49 of Set 1 | namibe\n",
      "Processing Record 50 of Set 1 | jalu\n",
      "Processing Record 51 of Set 1 | katsuura\n",
      "Processing Record 52 of Set 1 | ribeira grande\n",
      "Processing Record 53 of Set 1 | attawapiskat\n",
      "Processing Record 54 of Set 1 | avarua\n",
      "Processing Record 55 of Set 1 | mys shmidta\n",
      "Processing Record 56 of Set 1 | tanout\n",
      "Processing Record 57 of Set 1 | melbu\n",
      "Processing Record 58 of Set 1 | half moon bay\n",
      "Processing Record 59 of Set 1 | rikitea\n",
      "Processing Record 60 of Set 1 | tasiilaq\n",
      "Processing Record 61 of Set 1 | new norfolk\n",
      "Processing Record 62 of Set 1 | hsinhua\n",
      "Processing Record 63 of Set 1 | kuche\n",
      "Processing Record 64 of Set 1 | labuhan\n",
      "Processing Record 65 of Set 1 | camacha\n",
      "Processing Record 66 of Set 1 | saleaula\n",
      "Processing Record 67 of Set 1 | hobart\n",
      "Processing Record 68 of Set 1 | jamestown\n",
      "Processing Record 69 of Set 1 | bluff\n",
      "Processing Record 70 of Set 1 | nabire\n",
      "Processing Record 71 of Set 1 | puerto ayora\n",
      "Processing Record 72 of Set 1 | mataura\n",
      "Processing Record 73 of Set 1 | bathsheba\n",
      "Processing Record 74 of Set 1 | hopewell\n",
      "Processing Record 75 of Set 1 | kushmurun\n",
      "Processing Record 76 of Set 1 | aksarka\n",
      "Processing Record 77 of Set 1 | hermanus\n",
      "Processing Record 78 of Set 1 | parkes\n",
      "Processing Record 79 of Set 1 | hay river\n",
      "Processing Record 80 of Set 1 | georgetown\n",
      "Processing Record 81 of Set 1 | dharchula\n",
      "Processing Record 82 of Set 1 | tsaotun\n",
      "Processing Record 83 of Set 1 | faya\n",
      "Processing Record 84 of Set 1 | morondava\n",
      "Processing Record 85 of Set 1 | bredasdorp\n",
      "Processing Record 86 of Set 1 | vaini\n",
      "Processing Record 87 of Set 1 | yangjiang\n",
      "Processing Record 88 of Set 1 | kendari\n",
      "Processing Record 89 of Set 1 | darhan\n",
      "Processing Record 90 of Set 1 | qaanaaq\n",
      "Processing Record 91 of Set 1 | cherskiy\n",
      "Processing Record 92 of Set 1 | kahului\n",
      "Processing Record 93 of Set 1 | busselton\n",
      "Processing Record 94 of Set 1 | abadan\n",
      "Processing Record 95 of Set 1 | lannion\n",
      "Processing Record 96 of Set 1 | khatanga\n",
      "Processing Record 97 of Set 1 | longhua\n",
      "Processing Record 98 of Set 1 | atbasar\n",
      "Processing Record 99 of Set 1 | vao\n",
      "Processing Record 100 of Set 1 | garissa\n",
      "Processing Record 101 of Set 1 | illapel\n",
      "Processing Record 102 of Set 1 | umzimvubu\n",
      "Processing Record 103 of Set 1 | yamada\n",
      "Processing Record 104 of Set 1 | gondanglegi\n",
      "Processing Record 105 of Set 1 | bethel\n",
      "Processing Record 106 of Set 1 | barawe\n",
      "Processing Record 107 of Set 1 | tsihombe\n",
      "Processing Record 108 of Set 1 | amurrio\n",
      "Processing Record 109 of Set 1 | kapaa\n",
      "Processing Record 110 of Set 1 | port elizabeth\n",
      "Processing Record 111 of Set 1 | jinxiang\n",
      "Processing Record 112 of Set 1 | nanortalik\n",
      "Processing Record 113 of Set 1 | victoria\n",
      "Processing Record 114 of Set 1 | saskylakh\n",
      "Processing Record 115 of Set 1 | zyryanovsk\n",
      "Processing Record 116 of Set 1 | lavrentiya\n",
      "Processing Record 117 of Set 1 | ulaangom\n",
      "Processing Record 118 of Set 1 | nyurba\n",
      "Processing Record 119 of Set 1 | klaeng\n",
      "Processing Record 120 of Set 1 | fort nelson\n",
      "Processing Record 121 of Set 1 | sayyan\n",
      "Processing Record 122 of Set 1 | nador\n",
      "Processing Record 123 of Set 1 | macau\n",
      "Processing Record 124 of Set 1 | rio grande\n",
      "Processing Record 125 of Set 1 | los llanos de aridane\n",
      "Processing Record 126 of Set 1 | faanui\n",
      "Processing Record 127 of Set 1 | doha\n",
      "Processing Record 128 of Set 1 | marsa matruh\n",
      "Processing Record 129 of Set 1 | esperance\n",
      "Processing Record 130 of Set 1 | beringovskiy\n",
      "Processing Record 131 of Set 1 | la rioja\n",
      "Processing Record 132 of Set 1 | touros\n",
      "Processing Record 133 of Set 1 | ucluelet\n",
      "Processing Record 134 of Set 1 | asau\n",
      "Processing Record 135 of Set 1 | alagoinhas\n",
      "Processing Record 136 of Set 1 | guaruja\n",
      "Processing Record 137 of Set 1 | clyde river\n",
      "Processing Record 138 of Set 1 | hrubieszow\n",
      "Processing Record 139 of Set 1 | coruripe\n",
      "Processing Record 140 of Set 1 | sungairaya\n",
      "Processing Record 141 of Set 1 | upernavik\n",
      "Processing Record 142 of Set 1 | fort-shevchenko\n",
      "Processing Record 143 of Set 1 | kawai\n",
      "Processing Record 144 of Set 1 | chuy\n",
      "Processing Record 145 of Set 1 | zhigansk\n",
      "Processing Record 146 of Set 1 | sakakah\n",
      "Processing Record 147 of Set 1 | ilulissat\n",
      "Processing Record 148 of Set 1 | longyearbyen\n",
      "Processing Record 149 of Set 1 | tekari\n",
      "Processing Record 150 of Set 1 | petrovsk\n",
      "Processing Record 151 of Set 1 | itaquyry\n",
      "Processing Record 152 of Set 1 | tapes\n",
      "Processing Record 153 of Set 1 | baillif\n",
      "Processing Record 154 of Set 1 | bilibino\n",
      "Processing Record 155 of Set 1 | elko\n",
      "Processing Record 156 of Set 1 | korla\n",
      "Processing Record 157 of Set 1 | laranjal paulista\n",
      "Processing Record 158 of Set 1 | leshukonskoye\n",
      "Processing Record 159 of Set 1 | rio gallegos\n",
      "Processing Record 160 of Set 1 | bambous virieux\n",
      "Processing Record 161 of Set 1 | la tuque\n",
      "Processing Record 162 of Set 1 | vaitupu\n",
      "Processing Record 163 of Set 1 | narsaq\n",
      "Processing Record 164 of Set 1 | trelew\n",
      "Processing Record 165 of Set 1 | itamaraju\n",
      "Processing Record 166 of Set 1 | belaya gora\n",
      "Processing Record 167 of Set 1 | torbay\n",
      "Processing Record 168 of Set 1 | dunedin\n",
      "Processing Record 169 of Set 1 | gambela\n",
      "Processing Record 170 of Set 1 | marawi\n",
      "Processing Record 171 of Set 1 | pevek\n",
      "Processing Record 172 of Set 1 | obo\n",
      "Processing Record 173 of Set 1 | samusu\n",
      "Processing Record 174 of Set 1 | santa maria\n",
      "Processing Record 175 of Set 1 | quatre cocos\n",
      "Processing Record 176 of Set 1 | acarau\n",
      "Processing Record 177 of Set 1 | ostersund\n",
      "Processing Record 178 of Set 1 | thompson\n",
      "Processing Record 179 of Set 1 | kodiak\n",
      "Processing Record 180 of Set 1 | barentsburg\n",
      "Processing Record 181 of Set 1 | cabo san lucas\n",
      "Processing Record 182 of Set 1 | hamilton\n",
      "Processing Record 183 of Set 1 | yar-sale\n",
      "Processing Record 184 of Set 1 | mondovi\n",
      "Processing Record 185 of Set 1 | puerto suarez\n",
      "Processing Record 186 of Set 1 | kloulklubed\n",
      "Processing Record 187 of Set 1 | road town\n",
      "Processing Record 188 of Set 1 | micheweni\n",
      "Processing Record 189 of Set 1 | sinnamary\n",
      "Processing Record 190 of Set 1 | sitka\n",
      "Processing Record 191 of Set 1 | lompoc\n",
      "Processing Record 192 of Set 1 | arraial do cabo\n",
      "Processing Record 193 of Set 1 | mehamn\n",
      "Processing Record 194 of Set 1 | eslamshahr\n",
      "Processing Record 195 of Set 1 | samarai\n"
     ]
    },
    {
     "name": "stdout",
     "output_type": "stream",
     "text": [
      "Processing Record 196 of Set 1 | gasa\n",
      "Processing Record 197 of Set 1 | atasu\n",
      "Processing Record 198 of Set 1 | genhe\n",
      "Processing Record 199 of Set 1 | poum\n",
      "Processing Record 200 of Set 1 | monrovia\n",
      "Processing Record 201 of Set 1 | coahuayana\n",
      "Processing Record 202 of Set 1 | prince albert\n",
      "Processing Record 203 of Set 1 | haicheng\n",
      "Processing Record 204 of Set 1 | ternate\n",
      "Processing Record 205 of Set 1 | poco verde\n",
      "Processing Record 206 of Set 1 | khawhai\n",
      "Processing Record 207 of Set 1 | acapulco\n",
      "Processing Record 208 of Set 1 | santiago del estero\n",
      "Processing Record 209 of Set 1 | arklow\n",
      "Processing Record 210 of Set 1 | ciudad bolivar\n",
      "Processing Record 211 of Set 1 | fairbanks\n",
      "Processing Record 212 of Set 1 | coffs harbour\n",
      "Processing Record 213 of Set 1 | canora\n",
      "Processing Record 214 of Set 1 | dikson\n",
      "Processing Record 215 of Set 1 | souillac\n",
      "Processing Record 216 of Set 1 | trzebiatow\n",
      "Processing Record 217 of Set 1 | mapiripan\n",
      "Processing Record 218 of Set 1 | westport\n",
      "Processing Record 219 of Set 1 | bubaque\n",
      "Processing Record 220 of Set 1 | marcona\n",
      "Processing Record 221 of Set 1 | lasa\n",
      "Processing Record 222 of Set 1 | abu kamal\n",
      "Processing Record 223 of Set 1 | davila\n",
      "Processing Record 224 of Set 1 | hasaki\n",
      "Processing Record 225 of Set 1 | tivaouane\n",
      "Processing Record 226 of Set 1 | east london\n",
      "Processing Record 227 of Set 1 | hilo\n",
      "Processing Record 228 of Set 1 | hualmay\n",
      "Processing Record 229 of Set 1 | namtsy\n",
      "Processing Record 230 of Set 1 | anadyr\n",
      "Processing Record 231 of Set 1 | palabuhanratu\n",
      "Processing Record 232 of Set 1 | mersing\n",
      "Processing Record 233 of Set 1 | gisborne\n",
      "Processing Record 234 of Set 1 | finschhafen\n",
      "Processing Record 235 of Set 1 | lola\n",
      "Processing Record 236 of Set 1 | chagoda\n",
      "Processing Record 237 of Set 1 | warrington\n",
      "Processing Record 238 of Set 1 | seoul\n",
      "Processing Record 239 of Set 1 | san policarpo\n",
      "Processing Record 240 of Set 1 | puerto madryn\n",
      "Processing Record 241 of Set 1 | bukal\n",
      "Processing Record 242 of Set 1 | tiarei\n",
      "Processing Record 243 of Set 1 | atar\n",
      "Processing Record 244 of Set 1 | roma\n",
      "Processing Record 245 of Set 1 | ostrovnoy\n",
      "Processing Record 246 of Set 1 | dergaon\n",
      "Processing Record 247 of Set 1 | duekoue\n",
      "Processing Record 248 of Set 1 | pangnirtung\n",
      "Processing Record 249 of Set 1 | pangody\n",
      "Processing Record 250 of Set 1 | porosozero\n",
      "Processing Record 251 of Set 1 | grand centre\n",
      "Processing Record 252 of Set 1 | evensk\n",
      "Processing Record 253 of Set 1 | alice springs\n",
      "Processing Record 254 of Set 1 | inirida\n",
      "Processing Record 255 of Set 1 | kesova gora\n",
      "Processing Record 256 of Set 1 | maldonado\n",
      "Processing Record 257 of Set 1 | mogok\n",
      "Processing Record 258 of Set 1 | havoysund\n",
      "Processing Record 259 of Set 1 | yagodnoye\n",
      "Processing Record 260 of Set 1 | inhambane\n",
      "Processing Record 261 of Set 1 | ngunguru\n",
      "Processing Record 262 of Set 1 | wharton\n",
      "Processing Record 263 of Set 1 | carupano\n",
      "Processing Record 264 of Set 1 | port lincoln\n",
      "Processing Record 265 of Set 1 | de-kastri\n",
      "Processing Record 266 of Set 1 | san patricio\n",
      "Processing Record 267 of Set 1 | ust-maya\n",
      "Processing Record 268 of Set 1 | boa vista\n",
      "Processing Record 269 of Set 1 | rozkishne\n",
      "Processing Record 270 of Set 1 | bayanday\n",
      "Processing Record 271 of Set 1 | conde\n",
      "Processing Record 272 of Set 1 | aykhal\n",
      "Processing Record 273 of Set 1 | vallenar\n",
      "Processing Record 274 of Set 1 | broome\n",
      "Processing Record 275 of Set 1 | saint-jacques\n",
      "Processing Record 276 of Set 1 | changji\n",
      "Processing Record 277 of Set 1 | elat\n",
      "Processing Record 278 of Set 1 | coquimbo\n",
      "Processing Record 279 of Set 1 | provideniya\n",
      "Processing Record 280 of Set 1 | port macquarie\n",
      "Processing Record 281 of Set 1 | severo-kurilsk\n",
      "Processing Record 282 of Set 1 | sisimiut\n",
      "Processing Record 283 of Set 1 | nargana\n",
      "Processing Record 284 of Set 1 | tabas\n",
      "Processing Record 285 of Set 1 | kijang\n",
      "Processing Record 286 of Set 1 | eureka\n",
      "Processing Record 287 of Set 1 | chiang rai\n",
      "Processing Record 288 of Set 1 | highlands ranch\n",
      "Processing Record 289 of Set 1 | kavaratti\n",
      "Processing Record 290 of Set 1 | madang\n",
      "Processing Record 291 of Set 1 | guerrero negro\n",
      "Processing Record 292 of Set 1 | tautira\n",
      "Processing Record 293 of Set 1 | nizwa\n",
      "Processing Record 294 of Set 1 | lagos\n",
      "Processing Record 295 of Set 1 | cloquet\n",
      "Processing Record 296 of Set 1 | airai\n",
      "Processing Record 297 of Set 1 | barbar\n",
      "Processing Record 298 of Set 1 | kargil\n",
      "Processing Record 299 of Set 1 | sao joao da barra\n",
      "Processing Record 300 of Set 1 | castanos\n",
      "Processing Record 301 of Set 1 | ilovlya\n",
      "Processing Record 302 of Set 1 | high level\n",
      "Processing Record 303 of Set 1 | khani\n",
      "Processing Record 304 of Set 1 | pinega\n",
      "Processing Record 305 of Set 1 | denpasar\n",
      "Processing Record 306 of Set 1 | eenhana\n",
      "Processing Record 307 of Set 1 | chabahar\n",
      "Processing Record 308 of Set 1 | tsiroanomandidy\n",
      "Processing Record 309 of Set 1 | natchez\n",
      "Processing Record 310 of Set 1 | lesnoy\n",
      "Processing Record 311 of Set 1 | auray\n",
      "Processing Record 312 of Set 1 | saint george\n",
      "Processing Record 313 of Set 1 | gorontalo\n",
      "Processing Record 314 of Set 1 | vypolzovo\n",
      "Processing Record 315 of Set 1 | takoradi\n",
      "Processing Record 316 of Set 1 | aden\n",
      "Processing Record 317 of Set 1 | tomatlan\n",
      "Processing Record 318 of Set 1 | falaleu\n",
      "Processing Record 319 of Set 1 | nizhneyansk\n",
      "Processing Record 320 of Set 1 | khor\n",
      "Processing Record 321 of Set 1 | rouvroy\n",
      "Processing Record 322 of Set 1 | koprivstica\n",
      "Processing Record 323 of Set 1 | port arthur\n",
      "Processing Record 324 of Set 1 | san andres\n",
      "Processing Record 325 of Set 1 | mayo\n",
      "Processing Record 326 of Set 1 | pandan\n",
      "Processing Record 327 of Set 1 | constitucion\n",
      "Processing Record 328 of Set 1 | marienburg\n",
      "Processing Record 329 of Set 1 | rafaela\n",
      "Processing Record 330 of Set 1 | clarence town\n",
      "Processing Record 331 of Set 1 | tuy hoa\n",
      "Processing Record 332 of Set 1 | grindavik\n",
      "Processing Record 333 of Set 1 | sabha\n",
      "Processing Record 334 of Set 1 | jimani\n",
      "Processing Record 335 of Set 1 | crixas\n",
      "Processing Record 336 of Set 1 | balikpapan\n",
      "Processing Record 337 of Set 1 | orizona\n",
      "Processing Record 338 of Set 1 | manakara\n",
      "Processing Record 339 of Set 1 | nuevitas\n",
      "Processing Record 340 of Set 1 | launceston\n",
      "Processing Record 341 of Set 1 | qingdao\n",
      "Processing Record 342 of Set 1 | miranorte\n",
      "Processing Record 343 of Set 1 | pontes e lacerda\n",
      "Processing Record 344 of Set 1 | gat\n",
      "Processing Record 345 of Set 1 | panguna\n",
      "Processing Record 346 of Set 1 | nantucket\n",
      "Processing Record 347 of Set 1 | caravelas\n",
      "Processing Record 348 of Set 1 | itoman\n",
      "Processing Record 349 of Set 1 | mecca\n",
      "Processing Record 350 of Set 1 | blois\n",
      "Processing Record 351 of Set 1 | nguiu\n",
      "Processing Record 352 of Set 1 | havre-saint-pierre\n",
      "Processing Record 353 of Set 1 | taoudenni\n",
      "Processing Record 354 of Set 1 | cotonou\n",
      "Processing Record 355 of Set 1 | santa\n",
      "Processing Record 356 of Set 1 | ippy\n",
      "Processing Record 357 of Set 1 | melbourne\n",
      "Processing Record 358 of Set 1 | cerea\n",
      "Processing Record 359 of Set 1 | grand river south east\n",
      "Processing Record 360 of Set 1 | shingu\n",
      "Processing Record 361 of Set 1 | deloraine\n",
      "Processing Record 362 of Set 1 | kutum\n",
      "Processing Record 363 of Set 1 | bolivar\n",
      "Processing Record 364 of Set 1 | champasak\n",
      "Processing Record 365 of Set 1 | sola\n",
      "Processing Record 366 of Set 1 | waingapu\n",
      "Processing Record 367 of Set 1 | buala\n",
      "Processing Record 368 of Set 1 | nizhniy bestyakh\n",
      "Processing Record 369 of Set 1 | mar del plata\n",
      "Processing Record 370 of Set 1 | astara\n",
      "Processing Record 371 of Set 1 | yaan\n",
      "Processing Record 372 of Set 1 | kamina\n",
      "Processing Record 373 of Set 1 | leningradskiy\n",
      "Processing Record 374 of Set 1 | impfondo\n",
      "Processing Record 375 of Set 1 | meulaboh\n",
      "Processing Record 376 of Set 1 | rio bueno\n",
      "Processing Record 377 of Set 1 | petropavlovsk-kamchatskiy\n",
      "Processing Record 378 of Set 1 | kununurra\n",
      "Processing Record 379 of Set 1 | lima\n",
      "Processing Record 380 of Set 1 | tigil\n",
      "Processing Record 381 of Set 1 | tsabong\n",
      "Processing Record 382 of Set 1 | dongkan\n",
      "Processing Record 383 of Set 1 | yeniseysk\n",
      "Processing Record 384 of Set 1 | college\n",
      "Processing Record 385 of Set 1 | grand forks\n",
      "Processing Record 386 of Set 1 | kruisfontein\n",
      "Processing Record 387 of Set 1 | vardo\n",
      "Processing Record 388 of Set 1 | dukat\n",
      "Processing Record 389 of Set 1 | bandarbeyla\n"
     ]
    },
    {
     "name": "stdout",
     "output_type": "stream",
     "text": [
      "Processing Record 390 of Set 1 | noumea\n",
      "Processing Record 391 of Set 1 | tawkar\n",
      "Processing Record 392 of Set 1 | bengkulu\n",
      "Processing Record 393 of Set 1 | la spezia\n",
      "Processing Record 394 of Set 1 | almeirim\n",
      "Processing Record 395 of Set 1 | preili\n",
      "Processing Record 396 of Set 1 | erzin\n",
      "Processing Record 397 of Set 1 | pucara\n",
      "Processing Record 398 of Set 1 | huajuapan\n",
      "Processing Record 399 of Set 1 | rosetown\n",
      "Processing Record 400 of Set 1 | dillon\n",
      "Processing Record 401 of Set 1 | bonfim\n",
      "Processing Record 402 of Set 1 | north bend\n",
      "Processing Record 403 of Set 1 | quelimane\n",
      "Processing Record 404 of Set 1 | kibala\n",
      "Processing Record 405 of Set 1 | provost\n",
      "Processing Record 406 of Set 1 | cherepovets\n",
      "Processing Record 407 of Set 1 | maralal\n",
      "Processing Record 408 of Set 1 | samalaeulu\n",
      "Processing Record 409 of Set 1 | la ronge\n",
      "Processing Record 410 of Set 1 | nakamura\n",
      "Processing Record 411 of Set 1 | hutchinson\n",
      "Processing Record 412 of Set 1 | kampot\n",
      "Processing Record 413 of Set 1 | bonavista\n",
      "Processing Record 414 of Set 1 | kushima\n",
      "Processing Record 415 of Set 1 | lagoa\n",
      "Processing Record 416 of Set 1 | san jeronimo\n",
      "Processing Record 417 of Set 1 | kachikau\n",
      "Processing Record 418 of Set 1 | denia\n",
      "Processing Record 419 of Set 1 | richards bay\n",
      "Processing Record 420 of Set 1 | wasco\n",
      "Processing Record 421 of Set 1 | lunenburg\n",
      "Processing Record 422 of Set 1 | kalmunai\n",
      "Processing Record 423 of Set 1 | klaksvik\n",
      "Processing Record 424 of Set 1 | okhotsk\n",
      "Processing Record 425 of Set 1 | san cristobal\n",
      "Processing Record 426 of Set 1 | victor harbor\n",
      "Processing Record 427 of Set 1 | playa vicente\n",
      "Processing Record 428 of Set 1 | little current\n",
      "Processing Record 429 of Set 1 | partizanskoye\n",
      "Processing Record 430 of Set 1 | ouro preto do oeste\n",
      "Processing Record 431 of Set 1 | chachapoyas\n",
      "Processing Record 432 of Set 1 | warren\n",
      "Processing Record 433 of Set 1 | wembley\n",
      "Processing Record 434 of Set 1 | pemberton\n",
      "Processing Record 435 of Set 1 | abu zabad\n",
      "Processing Record 436 of Set 1 | tura\n",
      "Processing Record 437 of Set 1 | amderma\n",
      "Processing Record 438 of Set 1 | parintins\n",
      "Processing Record 439 of Set 1 | nyrob\n",
      "Processing Record 440 of Set 1 | tarko-sale\n",
      "Processing Record 441 of Set 1 | tuggurt\n",
      "Processing Record 442 of Set 1 | hasanabad\n",
      "Processing Record 443 of Set 1 | kaitangata\n",
      "Processing Record 444 of Set 1 | caraballeda\n",
      "Processing Record 445 of Set 1 | geraldton\n",
      "Processing Record 446 of Set 1 | krasnyy chikoy\n",
      "Processing Record 447 of Set 1 | port augusta\n",
      "Processing Record 448 of Set 1 | pangoa\n",
      "Processing Record 449 of Set 1 | yerbogachen\n",
      "Processing Record 450 of Set 1 | wichita falls\n",
      "Processing Record 451 of Set 1 | balaguer\n",
      "Processing Record 452 of Set 1 | bilma\n",
      "Processing Record 453 of Set 1 | ugoofaaru\n",
      "Processing Record 454 of Set 1 | paamiut\n",
      "Processing Record 455 of Set 1 | svetlogorsk\n",
      "Processing Record 456 of Set 1 | cabedelo\n",
      "Processing Record 457 of Set 1 | sobolevo\n",
      "Processing Record 458 of Set 1 | margate\n",
      "Processing Record 459 of Set 1 | narodychi\n",
      "Processing Record 460 of Set 1 | yoichi\n",
      "Processing Record 461 of Set 1 | shubarkuduk\n",
      "Processing Record 462 of Set 1 | vung tau\n",
      "Processing Record 463 of Set 1 | chapais\n",
      "Processing Record 464 of Set 1 | looc\n",
      "Processing Record 465 of Set 1 | saint-pierre\n",
      "Processing Record 466 of Set 1 | mopipi\n",
      "Processing Record 467 of Set 1 | moerai\n",
      "Processing Record 468 of Set 1 | nevsehir\n",
      "Processing Record 469 of Set 1 | walvis bay\n",
      "Processing Record 470 of Set 1 | codrington\n",
      "Processing Record 471 of Set 1 | verkhnevilyuysk\n",
      "Processing Record 472 of Set 1 | haikou\n",
      "Processing Record 473 of Set 1 | cockburn town\n",
      "Processing Record 474 of Set 1 | nouadhibou\n",
      "Processing Record 475 of Set 1 | plettenberg bay\n",
      "Processing Record 476 of Set 1 | dalvik\n",
      "Processing Record 477 of Set 1 | mashivka\n",
      "Processing Record 478 of Set 1 | shaunavon\n",
      "Processing Record 479 of Set 1 | waipawa\n",
      "Processing Record 480 of Set 1 | ngukurr\n",
      "Processing Record 481 of Set 1 | rundu\n",
      "Processing Record 482 of Set 1 | billings\n",
      "Processing Record 483 of Set 1 | zhezkazgan\n",
      "Processing Record 484 of Set 1 | saldanha\n",
      "Processing Record 485 of Set 1 | oranjestad\n",
      "Processing Record 486 of Set 1 | la rochelle\n",
      "Processing Record 487 of Set 1 | amnat charoen\n",
      "Processing Record 488 of Set 1 | liverpool\n",
      "Processing Record 489 of Set 1 | jalingo\n",
      "Processing Record 490 of Set 1 | ancud\n",
      "Processing Record 491 of Set 1 | opuwo\n",
      "Processing Record 492 of Set 1 | majene\n",
      "Processing Record 493 of Set 1 | predivinsk\n",
      "Processing Record 494 of Set 1 | zhanaozen\n",
      "Processing Record 495 of Set 1 | chernaya kholunitsa\n",
      "Processing Record 496 of Set 1 | talaya\n",
      "Processing Record 497 of Set 1 | vila velha\n",
      "Processing Record 498 of Set 1 | sao geraldo do araguaia\n",
      "Processing Record 499 of Set 1 | komsomolskiy\n",
      "Processing Record 500 of Set 1 | miyang\n",
      "Processing Record 501 of Set 1 | bandar-e lengeh\n",
      "Processing Record 502 of Set 1 | amazar\n",
      "Processing Record 503 of Set 1 | solnechnyy\n",
      "Processing Record 504 of Set 1 | boden\n",
      "Processing Record 505 of Set 1 | gulshat\n",
      "Processing Record 506 of Set 1 | camabatela\n",
      "Processing Record 507 of Set 1 | itarema\n",
      "Processing Record 508 of Set 1 | khash\n",
      "Processing Record 509 of Set 1 | marzuq\n",
      "Processing Record 510 of Set 1 | luderitz\n",
      "Processing Record 511 of Set 1 | starobaltachevo\n",
      "Processing Record 512 of Set 1 | lewisporte\n",
      "Processing Record 513 of Set 1 | nkoteng\n",
      "Processing Record 514 of Set 1 | kazalinsk\n",
      "Processing Record 515 of Set 1 | san quintin\n",
      "Processing Record 516 of Set 1 | mutsamudu\n",
      "Processing Record 517 of Set 1 | hohhot\n",
      "Processing Record 518 of Set 1 | padang\n",
      "Processing Record 519 of Set 1 | xining\n",
      "Processing Record 520 of Set 1 | abha\n",
      "Processing Record 521 of Set 1 | ninghai\n",
      "Processing Record 522 of Set 1 | harindanga\n",
      "Processing Record 523 of Set 1 | nemuro\n",
      "Processing Record 524 of Set 1 | hirara\n",
      "Processing Record 525 of Set 1 | sidney\n",
      "Processing Record 526 of Set 1 | talnakh\n",
      "Processing Record 527 of Set 1 | kearney\n",
      "Processing Record 528 of Set 1 | esmeraldas\n",
      "Processing Record 529 of Set 1 | paonta sahib\n",
      "Processing Record 530 of Set 1 | ahome\n",
      "Processing Record 531 of Set 1 | salalah\n",
      "Processing Record 532 of Set 1 | port hardy\n",
      "Processing Record 533 of Set 1 | alofi\n",
      "Processing Record 534 of Set 1 | tumannyy\n",
      "Processing Record 535 of Set 1 | placido de castro\n",
      "Processing Record 536 of Set 1 | tasbuget\n",
      "Processing Record 537 of Set 1 | sentyabrskiy\n",
      "Processing Record 538 of Set 1 | hami\n",
      "Processing Record 539 of Set 1 | bulaevo\n",
      "Processing Record 540 of Set 1 | iranshahr\n",
      "Processing Record 541 of Set 1 | west bay\n",
      "Processing Record 542 of Set 1 | tateyama\n",
      "Processing Record 543 of Set 1 | axim\n",
      "Processing Record 544 of Set 1 | altamont\n",
      "Processing Record 545 of Set 1 | sao filipe\n",
      "Processing Record 546 of Set 1 | lokosovo\n",
      "Processing Record 547 of Set 1 | kapoeta\n",
      "Processing Record 548 of Set 1 | urdzhar\n",
      "Processing Record 549 of Set 1 | sorland\n",
      "Processing Record 550 of Set 1 | gravdal\n",
      "Processing Record 551 of Set 1 | kantang\n",
      "Processing Record 552 of Set 1 | santa catarina de tepehuanes\n",
      "Processing Record 553 of Set 1 | isangel\n",
      "Processing Record 554 of Set 1 | ixtapa\n",
      "Processing Record 555 of Set 1 | presidencia roque saenz pena\n",
      "Processing Record 556 of Set 1 | te anau\n",
      "Processing Record 557 of Set 1 | hofn\n",
      "Processing Record 558 of Set 1 | aransas pass\n",
      "Processing Record 559 of Set 1 | tommot\n",
      "Processing Record 560 of Set 1 | charleston\n",
      "Processing Record 561 of Set 1 | kuito\n",
      "Processing Record 562 of Set 1 | luangwa\n",
      "Processing Record 563 of Set 1 | hit\n",
      "Processing Record 564 of Set 1 | dingle\n",
      "Processing Record 565 of Set 1 | coihaique\n",
      "Processing Record 566 of Set 1 | pafos\n",
      "Processing Record 567 of Set 1 | maxixe\n",
      "Processing Record 568 of Set 1 | okahandja\n",
      "Processing Record 569 of Set 1 | garowe\n",
      "Processing Record 570 of Set 1 | alizai\n",
      "Processing Record 571 of Set 1 | batagay-alyta\n",
      "Processing Record 572 of Set 1 | jutai\n",
      "Processing Record 573 of Set 1 | baykit\n",
      "Processing Record 574 of Set 1 | port-gentil\n",
      "Processing Record 575 of Set 1 | port blair\n",
      "Processing Record 576 of Set 1 | ayna\n",
      "Processing Record 577 of Set 1 | sulurpeta\n",
      "Processing Record 578 of Set 1 | alotau\n",
      "Processing Record 579 of Set 1 | kemijarvi\n",
      "Processing Record 580 of Set 1 | coro\n",
      "Processing Record 581 of Set 1 | uddevalla\n",
      "Processing Record 582 of Set 1 | zarubino\n"
     ]
    },
    {
     "name": "stdout",
     "output_type": "stream",
     "text": [
      "Processing Record 583 of Set 1 | macaboboni\n",
      "Processing Record 584 of Set 1 | deer lake\n",
      "Processing Record 585 of Set 1 | swan river\n",
      "Processing Record 586 of Set 1 | whitehorse\n",
      "Processing Record 587 of Set 1 | laguna de perlas\n",
      "Processing Record 588 of Set 1 | gualaquiza\n",
      "Processing Record 589 of Set 1 | panjab\n",
      "Processing Record 590 of Set 1 | qinzhou\n",
      "Processing Record 591 of Set 1 | dwarka\n",
      "Processing Record 592 of Set 1 | henties bay\n",
      "Processing Record 593 of Set 1 | mansa\n",
      "Processing Record 594 of Set 1 | punuare\n",
      "Processing Record 595 of Set 1 | norman wells\n",
      "Processing Record 596 of Set 1 | savannakhet\n",
      "Processing Record 597 of Set 1 | nikel\n",
      "Processing Record 598 of Set 1 | pizarro\n",
      "Processing Record 599 of Set 1 | karauzyak\n",
      "Processing Record 600 of Set 1 | nuevo progreso\n",
      "Processing Record 601 of Set 1 | jingcheng\n",
      "Processing Record 602 of Set 1 | rawson\n",
      "Processing Record 603 of Set 1 | krasnoborsk\n",
      "Processing Record 604 of Set 1 | gonzales\n",
      "Processing Record 605 of Set 1 | ferrol\n",
      "Processing Record 606 of Set 1 | singaparna\n",
      "Processing Record 607 of Set 1 | diego de almagro\n",
      "Processing Record 608 of Set 1 | honningsvag\n",
      "Processing Record 609 of Set 1 | pacific grove\n",
      "Processing Record 610 of Set 1 | mahajanga\n",
      "Processing Record 611 of Set 1 | pontianak\n",
      "Processing Record 612 of Set 1 | santa ana\n",
      "Processing Record 613 of Set 1 | pierre\n",
      "Processing Record 614 of Set 1 | tarudant\n",
      "Processing Record 615 of Set 1 | vila franca do campo\n",
      "Processing Record 616 of Set 1 | luanda\n",
      "Processing Record 617 of Set 1 | yabassi\n",
      "Processing Record 618 of Set 1 | luwuk\n",
      "Processing Record 619 of Set 1 | cap malheureux\n",
      "Processing Record 620 of Set 1 | krasnoarmeyskoye\n",
      "Processing Record 621 of Set 1 | vaitape\n",
      "Processing Record 622 of Set 1 | antalaha\n",
      "Processing Record 623 of Set 1 | point fortin\n",
      "Processing Record 624 of Set 1 | manoel urbano\n",
      "Processing Record 625 of Set 1 | mattru\n",
      "Processing Record 626 of Set 1 | talcahuano\n",
      "Processing Record 627 of Set 1 | raga\n",
      "Processing Record 628 of Set 1 | atherton\n",
      "Processing Record 629 of Set 1 | bom jesus da lapa\n",
      "Processing Record 630 of Set 1 | thano bula khan\n",
      "Processing Record 631 of Set 1 | baghdad\n",
      "Processing Record 632 of Set 1 | corinto\n",
      "Processing Record 633 of Set 1 | lensk\n",
      "Processing Record 634 of Set 1 | joensuu\n"
     ]
    }
   ],
   "source": [
    "import time\n",
    "import requests\n",
    "import json\n",
    "from pprint import pprint\n",
    "url = \"http://api.openweathermap.org/data/2.5/weather?\"\n",
    "count=1\n",
    "lats=[]\n",
    "temps=[]\n",
    "humidities=[]\n",
    "clouds=[]\n",
    "speeds=[]\n",
    "print(\"Beginning Data Retrieval\")\n",
    "print(\"-----------------------------\")\n",
    "for city in cities:\n",
    "#    url=f\"http://api.openweathermap.org/data/2.5/weather?q=\"city\"&appid={weather_api_key}\"\n",
    "    query_url = url + \"q=\" + city + \"&appid=\" + weather_api_key\n",
    "    response_json=requests.get(query_url).json()\n",
    "    #print(response_json)\n",
    "    try:\n",
    "        lats.append(response_json[\"coord\"][\"lat\"])\n",
    "        temps.append(response_json[\"main\"][\"temp\"])\n",
    "        humidities.append(response_json[\"main\"][\"humidity\"])\n",
    "        clouds.append(response_json[\"clouds\"][\"all\"])\n",
    "        speeds.append(response_json[\"wind\"][\"speed\"])\n",
    "    except:\n",
    "        next\n",
    "    print(\"Processing Record \"+str(count)+\" of Set 1 | \"+city)\n",
    "    count=count+1\n",
    "    time.sleep(1.01694915255)"
   ]
  },
  {
   "cell_type": "markdown",
   "metadata": {},
   "source": [
    "### Convert Raw Data to DataFrame\n",
    "* Export the city data into a .csv.\n",
    "* Display the DataFrame"
   ]
  },
  {
   "cell_type": "code",
   "execution_count": 20,
   "metadata": {},
   "outputs": [
    {
     "data": {
      "text/html": [
       "<div>\n",
       "<style scoped>\n",
       "    .dataframe tbody tr th:only-of-type {\n",
       "        vertical-align: middle;\n",
       "    }\n",
       "\n",
       "    .dataframe tbody tr th {\n",
       "        vertical-align: top;\n",
       "    }\n",
       "\n",
       "    .dataframe thead th {\n",
       "        text-align: right;\n",
       "    }\n",
       "</style>\n",
       "<table border=\"1\" class=\"dataframe\">\n",
       "  <thead>\n",
       "    <tr style=\"text-align: right;\">\n",
       "      <th></th>\n",
       "      <th>Latitudes</th>\n",
       "      <th>Temperatures (F)</th>\n",
       "      <th>Humidities (percents)</th>\n",
       "      <th>Cloud Cover (percents)</th>\n",
       "      <th>Wind Speeds (mph)</th>\n",
       "    </tr>\n",
       "  </thead>\n",
       "  <tbody>\n",
       "    <tr>\n",
       "      <th>0</th>\n",
       "      <td>71.2906</td>\n",
       "      <td>-35.500</td>\n",
       "      <td>78</td>\n",
       "      <td>90</td>\n",
       "      <td>4.12</td>\n",
       "    </tr>\n",
       "    <tr>\n",
       "      <th>1</th>\n",
       "      <td>62.4560</td>\n",
       "      <td>-26.500</td>\n",
       "      <td>92</td>\n",
       "      <td>90</td>\n",
       "      <td>3.09</td>\n",
       "    </tr>\n",
       "    <tr>\n",
       "      <th>2</th>\n",
       "      <td>-20.9667</td>\n",
       "      <td>165.920</td>\n",
       "      <td>75</td>\n",
       "      <td>98</td>\n",
       "      <td>1.90</td>\n",
       "    </tr>\n",
       "    <tr>\n",
       "      <th>3</th>\n",
       "      <td>21.4447</td>\n",
       "      <td>146.525</td>\n",
       "      <td>65</td>\n",
       "      <td>20</td>\n",
       "      <td>3.09</td>\n",
       "    </tr>\n",
       "    <tr>\n",
       "      <th>4</th>\n",
       "      <td>-32.7167</td>\n",
       "      <td>156.785</td>\n",
       "      <td>50</td>\n",
       "      <td>20</td>\n",
       "      <td>7.72</td>\n",
       "    </tr>\n",
       "    <tr>\n",
       "      <th>...</th>\n",
       "      <td>...</td>\n",
       "      <td>...</td>\n",
       "      <td>...</td>\n",
       "      <td>...</td>\n",
       "      <td>...</td>\n",
       "    </tr>\n",
       "    <tr>\n",
       "      <th>583</th>\n",
       "      <td>-13.2550</td>\n",
       "      <td>130.505</td>\n",
       "      <td>89</td>\n",
       "      <td>27</td>\n",
       "      <td>1.81</td>\n",
       "    </tr>\n",
       "    <tr>\n",
       "      <th>584</th>\n",
       "      <td>33.3406</td>\n",
       "      <td>50.000</td>\n",
       "      <td>81</td>\n",
       "      <td>0</td>\n",
       "      <td>2.57</td>\n",
       "    </tr>\n",
       "    <tr>\n",
       "      <th>585</th>\n",
       "      <td>37.9407</td>\n",
       "      <td>99.545</td>\n",
       "      <td>94</td>\n",
       "      <td>20</td>\n",
       "      <td>1.03</td>\n",
       "    </tr>\n",
       "    <tr>\n",
       "      <th>586</th>\n",
       "      <td>60.7253</td>\n",
       "      <td>-91.120</td>\n",
       "      <td>85</td>\n",
       "      <td>99</td>\n",
       "      <td>1.60</td>\n",
       "    </tr>\n",
       "    <tr>\n",
       "      <th>587</th>\n",
       "      <td>62.6012</td>\n",
       "      <td>-32.890</td>\n",
       "      <td>92</td>\n",
       "      <td>90</td>\n",
       "      <td>3.60</td>\n",
       "    </tr>\n",
       "  </tbody>\n",
       "</table>\n",
       "<p>588 rows × 5 columns</p>\n",
       "</div>"
      ],
      "text/plain": [
       "     Latitudes  Temperatures (F)  Humidities (percents)  \\\n",
       "0      71.2906           -35.500                     78   \n",
       "1      62.4560           -26.500                     92   \n",
       "2     -20.9667           165.920                     75   \n",
       "3      21.4447           146.525                     65   \n",
       "4     -32.7167           156.785                     50   \n",
       "..         ...               ...                    ...   \n",
       "583   -13.2550           130.505                     89   \n",
       "584    33.3406            50.000                     81   \n",
       "585    37.9407            99.545                     94   \n",
       "586    60.7253           -91.120                     85   \n",
       "587    62.6012           -32.890                     92   \n",
       "\n",
       "     Cloud Cover (percents)  Wind Speeds (mph)  \n",
       "0                        90               4.12  \n",
       "1                        90               3.09  \n",
       "2                        98               1.90  \n",
       "3                        20               3.09  \n",
       "4                        20               7.72  \n",
       "..                      ...                ...  \n",
       "583                      27               1.81  \n",
       "584                       0               2.57  \n",
       "585                      20               1.03  \n",
       "586                      99               1.60  \n",
       "587                      90               3.60  \n",
       "\n",
       "[588 rows x 5 columns]"
      ]
     },
     "execution_count": 20,
     "metadata": {},
     "output_type": "execute_result"
    }
   ],
   "source": [
    "Fs=[]\n",
    "for temp in temps:\n",
    "    Fs.append((temp-273.15)*4.5+32)\n",
    "makedict={\"Latitudes\":lats,\"Temperatures (F)\":Fs,\"Humidities (percents)\":humidities,\"Cloud Cover (percents)\":clouds,\"Wind Speeds (mph)\":speeds}\n",
    "weathercities_df=pd.DataFrame(makedict)\n",
    "weathercities_df"
   ]
  },
  {
   "cell_type": "code",
   "execution_count": 22,
   "metadata": {},
   "outputs": [
    {
     "data": {
      "text/html": [
       "<div>\n",
       "<style scoped>\n",
       "    .dataframe tbody tr th:only-of-type {\n",
       "        vertical-align: middle;\n",
       "    }\n",
       "\n",
       "    .dataframe tbody tr th {\n",
       "        vertical-align: top;\n",
       "    }\n",
       "\n",
       "    .dataframe thead th {\n",
       "        text-align: right;\n",
       "    }\n",
       "</style>\n",
       "<table border=\"1\" class=\"dataframe\">\n",
       "  <thead>\n",
       "    <tr style=\"text-align: right;\">\n",
       "      <th></th>\n",
       "      <th>Latitudes</th>\n",
       "      <th>Temperatures (F)</th>\n",
       "      <th>Humidities (percents)</th>\n",
       "      <th>Cloud Cover (percents)</th>\n",
       "      <th>Wind Speeds (mph)</th>\n",
       "    </tr>\n",
       "  </thead>\n",
       "  <tbody>\n",
       "    <tr>\n",
       "      <th>count</th>\n",
       "      <td>588.000000</td>\n",
       "      <td>588.000000</td>\n",
       "      <td>588.000000</td>\n",
       "      <td>588.000000</td>\n",
       "      <td>588.000000</td>\n",
       "    </tr>\n",
       "    <tr>\n",
       "      <th>mean</th>\n",
       "      <td>20.015190</td>\n",
       "      <td>70.126097</td>\n",
       "      <td>75.346939</td>\n",
       "      <td>55.778912</td>\n",
       "      <td>3.534405</td>\n",
       "    </tr>\n",
       "    <tr>\n",
       "      <th>std</th>\n",
       "      <td>33.288314</td>\n",
       "      <td>81.394185</td>\n",
       "      <td>19.952893</td>\n",
       "      <td>39.749927</td>\n",
       "      <td>2.568435</td>\n",
       "    </tr>\n",
       "    <tr>\n",
       "      <th>min</th>\n",
       "      <td>-54.800000</td>\n",
       "      <td>-175.000000</td>\n",
       "      <td>1.000000</td>\n",
       "      <td>0.000000</td>\n",
       "      <td>0.030000</td>\n",
       "    </tr>\n",
       "    <tr>\n",
       "      <th>25%</th>\n",
       "      <td>-7.836675</td>\n",
       "      <td>14.000000</td>\n",
       "      <td>67.000000</td>\n",
       "      <td>12.000000</td>\n",
       "      <td>1.540000</td>\n",
       "    </tr>\n",
       "    <tr>\n",
       "      <th>50%</th>\n",
       "      <td>22.925000</td>\n",
       "      <td>90.500000</td>\n",
       "      <td>81.500000</td>\n",
       "      <td>75.000000</td>\n",
       "      <td>2.780000</td>\n",
       "    </tr>\n",
       "    <tr>\n",
       "      <th>75%</th>\n",
       "      <td>48.795725</td>\n",
       "      <td>140.731250</td>\n",
       "      <td>90.000000</td>\n",
       "      <td>93.000000</td>\n",
       "      <td>5.050000</td>\n",
       "    </tr>\n",
       "    <tr>\n",
       "      <th>max</th>\n",
       "      <td>78.218600</td>\n",
       "      <td>198.500000</td>\n",
       "      <td>100.000000</td>\n",
       "      <td>100.000000</td>\n",
       "      <td>15.390000</td>\n",
       "    </tr>\n",
       "  </tbody>\n",
       "</table>\n",
       "</div>"
      ],
      "text/plain": [
       "        Latitudes  Temperatures (F)  Humidities (percents)  \\\n",
       "count  588.000000        588.000000             588.000000   \n",
       "mean    20.015190         70.126097              75.346939   \n",
       "std     33.288314         81.394185              19.952893   \n",
       "min    -54.800000       -175.000000               1.000000   \n",
       "25%     -7.836675         14.000000              67.000000   \n",
       "50%     22.925000         90.500000              81.500000   \n",
       "75%     48.795725        140.731250              90.000000   \n",
       "max     78.218600        198.500000             100.000000   \n",
       "\n",
       "       Cloud Cover (percents)  Wind Speeds (mph)  \n",
       "count              588.000000         588.000000  \n",
       "mean                55.778912           3.534405  \n",
       "std                 39.749927           2.568435  \n",
       "min                  0.000000           0.030000  \n",
       "25%                 12.000000           1.540000  \n",
       "50%                 75.000000           2.780000  \n",
       "75%                 93.000000           5.050000  \n",
       "max                100.000000          15.390000  "
      ]
     },
     "execution_count": 22,
     "metadata": {},
     "output_type": "execute_result"
    }
   ],
   "source": [
    "descript_df=weathercities_df.describe()\n",
    "descript_df"
   ]
  },
  {
   "cell_type": "markdown",
   "metadata": {},
   "source": [
    "## Inspect the data and remove the cities where the humidity > 100%.\n",
    "----\n",
    "Skip this step if there are no cities that have humidity > 100%. "
   ]
  },
  {
   "cell_type": "markdown",
   "metadata": {},
   "source": [
    "## Plotting the Data\n",
    "* Use proper labeling of the plots using plot titles (including date of analysis) and axes labels.\n",
    "* Save the plotted figures as .pngs."
   ]
  },
  {
   "cell_type": "markdown",
   "metadata": {},
   "source": [
    "## Latitude vs. Temperature Plot"
   ]
  },
  {
   "cell_type": "code",
   "execution_count": 32,
   "metadata": {
    "scrolled": true
   },
   "outputs": [
    {
     "name": "stdout",
     "output_type": "stream",
     "text": [
      "Here I am plotting temperature in fahrenheit against latitude.\n"
     ]
    },
    {
     "data": {
      "image/png": "[encoded data removed]",
      "text/plain": [
       "<Figure size 432x288 with 1 Axes>"
      ]
     },
     "metadata": {
      "needs_background": "light"
     },
     "output_type": "display_data"
    }
   ],
   "source": [
    "plt.scatter(lats,Fs)\n",
    "plt.xlabel(\"Latitudes\")\n",
    "plt.ylabel(\"Temperatures (F)\")\n",
    "plt.title(\"City Latitudes vs. City Temperatures (F)\")\n",
    "print(\"Here I am plotting temperature in fahrenheit against latitude.\")"
   ]
  },
  {
   "cell_type": "markdown",
   "metadata": {},
   "source": [
    "## Latitude vs. Humidity Plot"
   ]
  },
  {
   "cell_type": "code",
   "execution_count": 34,
   "metadata": {},
   "outputs": [
    {
     "name": "stdout",
     "output_type": "stream",
     "text": [
      "Here I am plotting % humidity against latitude.\n"
     ]
    },
    {
     "data": {
      "image/png": "[encoded data removed]",
      "text/plain": [
       "<Figure size 432x288 with 1 Axes>"
      ]
     },
     "metadata": {
      "needs_background": "light"
     },
     "output_type": "display_data"
    }
   ],
   "source": [
    "plt.scatter(lats,humidities)\n",
    "plt.xlabel(\"Latitudes\")\n",
    "plt.ylabel(\"Humidities (%)\")\n",
    "plt.title(\"City Latitudes vs. City Humidities (%)\")\n",
    "print(\"Here I am plotting % humidity against latitude.\")"
   ]
  },
  {
   "cell_type": "markdown",
   "metadata": {},
   "source": [
    "## Latitude vs. Cloudiness Plot"
   ]
  },
  {
   "cell_type": "code",
   "execution_count": 35,
   "metadata": {},
   "outputs": [
    {
     "name": "stdout",
     "output_type": "stream",
     "text": [
      "Here I am plotting % cloud cover against latitude.\n"
     ]
    },
    {
     "data": {
      "image/png": "[encoded data removed]",
      "text/plain": [
       "<Figure size 432x288 with 1 Axes>"
      ]
     },
     "metadata": {
      "needs_background": "light"
     },
     "output_type": "display_data"
    }
   ],
   "source": [
    "plt.scatter(lats,clouds)\n",
    "plt.xlabel(\"Latitudes\")\n",
    "plt.ylabel(\"Cloud Cover (%)\")\n",
    "plt.title(\"City Latitudes vs. City Cloud Cover (%)\")\n",
    "print(\"Here I am plotting % cloud cover against latitude.\")"
   ]
  },
  {
   "cell_type": "markdown",
   "metadata": {},
   "source": [
    "## Latitude vs. Wind Speed Plot"
   ]
  },
  {
   "cell_type": "code",
   "execution_count": 36,
   "metadata": {},
   "outputs": [
    {
     "name": "stdout",
     "output_type": "stream",
     "text": [
      "Here I am plotting wind speeds, in miles per hour, against latitude.\n"
     ]
    },
    {
     "data": {
      "image/png": "[encoded data removed]",
      "text/plain": [
       "<Figure size 432x288 with 1 Axes>"
      ]
     },
     "metadata": {
      "needs_background": "light"
     },
     "output_type": "display_data"
    }
   ],
   "source": [
    "plt.scatter(lats,clouds)\n",
    "plt.xlabel(\"Latitudes\")\n",
    "plt.ylabel(\"Wind Speeds (mph)\")\n",
    "plt.title(\"City Latitudes vs. City Wind Speeds (%)\")\n",
    "print(\"Here I am plotting wind speeds, in miles per hour, against latitude.\")"
   ]
  },
  {
   "cell_type": "markdown",
   "metadata": {},
   "source": [
    "## Linear Regression"
   ]
  },
  {
   "cell_type": "code",
   "execution_count": 62,
   "metadata": {},
   "outputs": [
    {
     "data": {
      "text/html": [
       "<div>\n",
       "<style scoped>\n",
       "    .dataframe tbody tr th:only-of-type {\n",
       "        vertical-align: middle;\n",
       "    }\n",
       "\n",
       "    .dataframe tbody tr th {\n",
       "        vertical-align: top;\n",
       "    }\n",
       "\n",
       "    .dataframe thead th {\n",
       "        text-align: right;\n",
       "    }\n",
       "</style>\n",
       "<table border=\"1\" class=\"dataframe\">\n",
       "  <thead>\n",
       "    <tr style=\"text-align: right;\">\n",
       "      <th></th>\n",
       "      <th>Latitudes</th>\n",
       "      <th>Temperatures (F)</th>\n",
       "      <th>Humidities (percents)</th>\n",
       "      <th>Cloud Cover (percents)</th>\n",
       "      <th>Wind Speeds (mph)</th>\n",
       "    </tr>\n",
       "  </thead>\n",
       "  <tbody>\n",
       "    <tr>\n",
       "      <th>Latitudes</th>\n",
       "      <td>1.000000</td>\n",
       "      <td>-0.800973</td>\n",
       "      <td>0.228918</td>\n",
       "      <td>0.047405</td>\n",
       "      <td>-0.049941</td>\n",
       "    </tr>\n",
       "    <tr>\n",
       "      <th>Temperatures (F)</th>\n",
       "      <td>-0.800973</td>\n",
       "      <td>1.000000</td>\n",
       "      <td>-0.254263</td>\n",
       "      <td>-0.093917</td>\n",
       "      <td>0.115673</td>\n",
       "    </tr>\n",
       "    <tr>\n",
       "      <th>Humidities (percents)</th>\n",
       "      <td>0.228918</td>\n",
       "      <td>-0.254263</td>\n",
       "      <td>1.000000</td>\n",
       "      <td>0.226188</td>\n",
       "      <td>-0.092349</td>\n",
       "    </tr>\n",
       "    <tr>\n",
       "      <th>Cloud Cover (percents)</th>\n",
       "      <td>0.047405</td>\n",
       "      <td>-0.093917</td>\n",
       "      <td>0.226188</td>\n",
       "      <td>1.000000</td>\n",
       "      <td>0.103418</td>\n",
       "    </tr>\n",
       "    <tr>\n",
       "      <th>Wind Speeds (mph)</th>\n",
       "      <td>-0.049941</td>\n",
       "      <td>0.115673</td>\n",
       "      <td>-0.092349</td>\n",
       "      <td>0.103418</td>\n",
       "      <td>1.000000</td>\n",
       "    </tr>\n",
       "  </tbody>\n",
       "</table>\n",
       "</div>"
      ],
      "text/plain": [
       "                        Latitudes  Temperatures (F)  Humidities (percents)  \\\n",
       "Latitudes                1.000000         -0.800973               0.228918   \n",
       "Temperatures (F)        -0.800973          1.000000              -0.254263   \n",
       "Humidities (percents)    0.228918         -0.254263               1.000000   \n",
       "Cloud Cover (percents)   0.047405         -0.093917               0.226188   \n",
       "Wind Speeds (mph)       -0.049941          0.115673              -0.092349   \n",
       "\n",
       "                        Cloud Cover (percents)  Wind Speeds (mph)  \n",
       "Latitudes                             0.047405          -0.049941  \n",
       "Temperatures (F)                     -0.093917           0.115673  \n",
       "Humidities (percents)                 0.226188          -0.092349  \n",
       "Cloud Cover (percents)                1.000000           0.103418  \n",
       "Wind Speeds (mph)                     0.103418           1.000000  "
      ]
     },
     "execution_count": 62,
     "metadata": {},
     "output_type": "execute_result"
    }
   ],
   "source": [
    "weathercities_df.corr()"
   ]
  },
  {
   "cell_type": "markdown",
   "metadata": {},
   "source": [
    "####  Northern Hemisphere - Max Temp vs. Latitude Linear Regression"
   ]
  },
  {
   "cell_type": "code",
   "execution_count": 61,
   "metadata": {},
   "outputs": [
    {
     "ename": "ValueError",
     "evalue": "x and y must be the same size",
     "output_type": "error",
     "traceback": [
      "\u001b[1;31m---------------------------------------------------------------------------\u001b[0m",
      "\u001b[1;31mValueError\u001b[0m                                Traceback (most recent call last)",
      "\u001b[1;32m<ipython-input-61-3c1e50a6dc0d>\u001b[0m in \u001b[0;36m<module>\u001b[1;34m\u001b[0m\n\u001b[1;32m----> 1\u001b[1;33m \u001b[0mplt\u001b[0m\u001b[1;33m.\u001b[0m\u001b[0mscatter\u001b[0m\u001b[1;33m(\u001b[0m\u001b[0mnlats\u001b[0m\u001b[1;33m,\u001b[0m\u001b[0mFs\u001b[0m\u001b[1;33m)\u001b[0m\u001b[1;33m\u001b[0m\u001b[1;33m\u001b[0m\u001b[0m\n\u001b[0m\u001b[0;32m      2\u001b[0m \u001b[0mplt\u001b[0m\u001b[1;33m.\u001b[0m\u001b[0mxlabel\u001b[0m\u001b[1;33m(\u001b[0m\u001b[1;34m\"Latitudes\"\u001b[0m\u001b[1;33m)\u001b[0m\u001b[1;33m\u001b[0m\u001b[1;33m\u001b[0m\u001b[0m\n\u001b[0;32m      3\u001b[0m \u001b[0mplt\u001b[0m\u001b[1;33m.\u001b[0m\u001b[0mylabel\u001b[0m\u001b[1;33m(\u001b[0m\u001b[1;34m\"Temperatures (F)\"\u001b[0m\u001b[1;33m)\u001b[0m\u001b[1;33m\u001b[0m\u001b[1;33m\u001b[0m\u001b[0m\n\u001b[0;32m      4\u001b[0m \u001b[0mplt\u001b[0m\u001b[1;33m.\u001b[0m\u001b[0mtitle\u001b[0m\u001b[1;33m(\u001b[0m\u001b[1;34m\"City Latitudes vs. City Temperatures (F)\"\u001b[0m\u001b[1;33m)\u001b[0m\u001b[1;33m\u001b[0m\u001b[1;33m\u001b[0m\u001b[0m\n",
      "\u001b[1;32m~\\anaconda3\\lib\\site-packages\\matplotlib\\pyplot.py\u001b[0m in \u001b[0;36mscatter\u001b[1;34m(x, y, s, c, marker, cmap, norm, vmin, vmax, alpha, linewidths, verts, edgecolors, plotnonfinite, data, **kwargs)\u001b[0m\n\u001b[0;32m   2809\u001b[0m         \u001b[0mverts\u001b[0m\u001b[1;33m=\u001b[0m\u001b[0mcbook\u001b[0m\u001b[1;33m.\u001b[0m\u001b[0mdeprecation\u001b[0m\u001b[1;33m.\u001b[0m\u001b[0m_deprecated_parameter\u001b[0m\u001b[1;33m,\u001b[0m\u001b[1;33m\u001b[0m\u001b[1;33m\u001b[0m\u001b[0m\n\u001b[0;32m   2810\u001b[0m         edgecolors=None, *, plotnonfinite=False, data=None, **kwargs):\n\u001b[1;32m-> 2811\u001b[1;33m     __ret = gca().scatter(\n\u001b[0m\u001b[0;32m   2812\u001b[0m         \u001b[0mx\u001b[0m\u001b[1;33m,\u001b[0m \u001b[0my\u001b[0m\u001b[1;33m,\u001b[0m \u001b[0ms\u001b[0m\u001b[1;33m=\u001b[0m\u001b[0ms\u001b[0m\u001b[1;33m,\u001b[0m \u001b[0mc\u001b[0m\u001b[1;33m=\u001b[0m\u001b[0mc\u001b[0m\u001b[1;33m,\u001b[0m \u001b[0mmarker\u001b[0m\u001b[1;33m=\u001b[0m\u001b[0mmarker\u001b[0m\u001b[1;33m,\u001b[0m \u001b[0mcmap\u001b[0m\u001b[1;33m=\u001b[0m\u001b[0mcmap\u001b[0m\u001b[1;33m,\u001b[0m \u001b[0mnorm\u001b[0m\u001b[1;33m=\u001b[0m\u001b[0mnorm\u001b[0m\u001b[1;33m,\u001b[0m\u001b[1;33m\u001b[0m\u001b[1;33m\u001b[0m\u001b[0m\n\u001b[0;32m   2813\u001b[0m         \u001b[0mvmin\u001b[0m\u001b[1;33m=\u001b[0m\u001b[0mvmin\u001b[0m\u001b[1;33m,\u001b[0m \u001b[0mvmax\u001b[0m\u001b[1;33m=\u001b[0m\u001b[0mvmax\u001b[0m\u001b[1;33m,\u001b[0m \u001b[0malpha\u001b[0m\u001b[1;33m=\u001b[0m\u001b[0malpha\u001b[0m\u001b[1;33m,\u001b[0m \u001b[0mlinewidths\u001b[0m\u001b[1;33m=\u001b[0m\u001b[0mlinewidths\u001b[0m\u001b[1;33m,\u001b[0m\u001b[1;33m\u001b[0m\u001b[1;33m\u001b[0m\u001b[0m\n",
      "\u001b[1;32m~\\anaconda3\\lib\\site-packages\\matplotlib\\__init__.py\u001b[0m in \u001b[0;36minner\u001b[1;34m(ax, data, *args, **kwargs)\u001b[0m\n\u001b[0;32m   1563\u001b[0m     \u001b[1;32mdef\u001b[0m \u001b[0minner\u001b[0m\u001b[1;33m(\u001b[0m\u001b[0max\u001b[0m\u001b[1;33m,\u001b[0m \u001b[1;33m*\u001b[0m\u001b[0margs\u001b[0m\u001b[1;33m,\u001b[0m \u001b[0mdata\u001b[0m\u001b[1;33m=\u001b[0m\u001b[1;32mNone\u001b[0m\u001b[1;33m,\u001b[0m \u001b[1;33m**\u001b[0m\u001b[0mkwargs\u001b[0m\u001b[1;33m)\u001b[0m\u001b[1;33m:\u001b[0m\u001b[1;33m\u001b[0m\u001b[1;33m\u001b[0m\u001b[0m\n\u001b[0;32m   1564\u001b[0m         \u001b[1;32mif\u001b[0m \u001b[0mdata\u001b[0m \u001b[1;32mis\u001b[0m \u001b[1;32mNone\u001b[0m\u001b[1;33m:\u001b[0m\u001b[1;33m\u001b[0m\u001b[1;33m\u001b[0m\u001b[0m\n\u001b[1;32m-> 1565\u001b[1;33m             \u001b[1;32mreturn\u001b[0m \u001b[0mfunc\u001b[0m\u001b[1;33m(\u001b[0m\u001b[0max\u001b[0m\u001b[1;33m,\u001b[0m \u001b[1;33m*\u001b[0m\u001b[0mmap\u001b[0m\u001b[1;33m(\u001b[0m\u001b[0msanitize_sequence\u001b[0m\u001b[1;33m,\u001b[0m \u001b[0margs\u001b[0m\u001b[1;33m)\u001b[0m\u001b[1;33m,\u001b[0m \u001b[1;33m**\u001b[0m\u001b[0mkwargs\u001b[0m\u001b[1;33m)\u001b[0m\u001b[1;33m\u001b[0m\u001b[1;33m\u001b[0m\u001b[0m\n\u001b[0m\u001b[0;32m   1566\u001b[0m \u001b[1;33m\u001b[0m\u001b[0m\n\u001b[0;32m   1567\u001b[0m         \u001b[0mbound\u001b[0m \u001b[1;33m=\u001b[0m \u001b[0mnew_sig\u001b[0m\u001b[1;33m.\u001b[0m\u001b[0mbind\u001b[0m\u001b[1;33m(\u001b[0m\u001b[0max\u001b[0m\u001b[1;33m,\u001b[0m \u001b[1;33m*\u001b[0m\u001b[0margs\u001b[0m\u001b[1;33m,\u001b[0m \u001b[1;33m**\u001b[0m\u001b[0mkwargs\u001b[0m\u001b[1;33m)\u001b[0m\u001b[1;33m\u001b[0m\u001b[1;33m\u001b[0m\u001b[0m\n",
      "\u001b[1;32m~\\anaconda3\\lib\\site-packages\\matplotlib\\cbook\\deprecation.py\u001b[0m in \u001b[0;36mwrapper\u001b[1;34m(*args, **kwargs)\u001b[0m\n\u001b[0;32m    356\u001b[0m                 \u001b[1;34mf\"%(removal)s.  If any parameter follows {name!r}, they \"\u001b[0m\u001b[1;33m\u001b[0m\u001b[1;33m\u001b[0m\u001b[0m\n\u001b[0;32m    357\u001b[0m                 f\"should be pass as keyword, not positionally.\")\n\u001b[1;32m--> 358\u001b[1;33m         \u001b[1;32mreturn\u001b[0m \u001b[0mfunc\u001b[0m\u001b[1;33m(\u001b[0m\u001b[1;33m*\u001b[0m\u001b[0margs\u001b[0m\u001b[1;33m,\u001b[0m \u001b[1;33m**\u001b[0m\u001b[0mkwargs\u001b[0m\u001b[1;33m)\u001b[0m\u001b[1;33m\u001b[0m\u001b[1;33m\u001b[0m\u001b[0m\n\u001b[0m\u001b[0;32m    359\u001b[0m \u001b[1;33m\u001b[0m\u001b[0m\n\u001b[0;32m    360\u001b[0m     \u001b[1;32mreturn\u001b[0m \u001b[0mwrapper\u001b[0m\u001b[1;33m\u001b[0m\u001b[1;33m\u001b[0m\u001b[0m\n",
      "\u001b[1;32m~\\anaconda3\\lib\\site-packages\\matplotlib\\axes\\_axes.py\u001b[0m in \u001b[0;36mscatter\u001b[1;34m(self, x, y, s, c, marker, cmap, norm, vmin, vmax, alpha, linewidths, verts, edgecolors, plotnonfinite, **kwargs)\u001b[0m\n\u001b[0;32m   4389\u001b[0m         \u001b[0my\u001b[0m \u001b[1;33m=\u001b[0m \u001b[0mnp\u001b[0m\u001b[1;33m.\u001b[0m\u001b[0mma\u001b[0m\u001b[1;33m.\u001b[0m\u001b[0mravel\u001b[0m\u001b[1;33m(\u001b[0m\u001b[0my\u001b[0m\u001b[1;33m)\u001b[0m\u001b[1;33m\u001b[0m\u001b[1;33m\u001b[0m\u001b[0m\n\u001b[0;32m   4390\u001b[0m         \u001b[1;32mif\u001b[0m \u001b[0mx\u001b[0m\u001b[1;33m.\u001b[0m\u001b[0msize\u001b[0m \u001b[1;33m!=\u001b[0m \u001b[0my\u001b[0m\u001b[1;33m.\u001b[0m\u001b[0msize\u001b[0m\u001b[1;33m:\u001b[0m\u001b[1;33m\u001b[0m\u001b[1;33m\u001b[0m\u001b[0m\n\u001b[1;32m-> 4391\u001b[1;33m             \u001b[1;32mraise\u001b[0m \u001b[0mValueError\u001b[0m\u001b[1;33m(\u001b[0m\u001b[1;34m\"x and y must be the same size\"\u001b[0m\u001b[1;33m)\u001b[0m\u001b[1;33m\u001b[0m\u001b[1;33m\u001b[0m\u001b[0m\n\u001b[0m\u001b[0;32m   4392\u001b[0m \u001b[1;33m\u001b[0m\u001b[0m\n\u001b[0;32m   4393\u001b[0m         \u001b[1;32mif\u001b[0m \u001b[0ms\u001b[0m \u001b[1;32mis\u001b[0m \u001b[1;32mNone\u001b[0m\u001b[1;33m:\u001b[0m\u001b[1;33m\u001b[0m\u001b[1;33m\u001b[0m\u001b[0m\n",
      "\u001b[1;31mValueError\u001b[0m: x and y must be the same size"
     ]
    },
    {
     "data": {
      "image/png": "[encoded data removed]",
      "text/plain": [
       "<Figure size 432x288 with 1 Axes>"
      ]
     },
     "metadata": {
      "needs_background": "light"
     },
     "output_type": "display_data"
    }
   ],
   "source": []
  },
  {
   "cell_type": "markdown",
   "metadata": {},
   "source": [
    "####  Southern Hemisphere - Max Temp vs. Latitude Linear Regression"
   ]
  },
  {
   "cell_type": "code",
   "execution_count": 45,
   "metadata": {},
   "outputs": [
    {
     "data": {
      "text/html": [
       "<div>\n",
       "<style scoped>\n",
       "    .dataframe tbody tr th:only-of-type {\n",
       "        vertical-align: middle;\n",
       "    }\n",
       "\n",
       "    .dataframe tbody tr th {\n",
       "        vertical-align: top;\n",
       "    }\n",
       "\n",
       "    .dataframe thead th {\n",
       "        text-align: right;\n",
       "    }\n",
       "</style>\n",
       "<table border=\"1\" class=\"dataframe\">\n",
       "  <thead>\n",
       "    <tr style=\"text-align: right;\">\n",
       "      <th></th>\n",
       "      <th>Latitudes</th>\n",
       "      <th>Temperatures (F)</th>\n",
       "      <th>Humidities (percents)</th>\n",
       "      <th>Cloud Cover (percents)</th>\n",
       "      <th>Wind Speeds (mph)</th>\n",
       "    </tr>\n",
       "  </thead>\n",
       "  <tbody>\n",
       "    <tr>\n",
       "      <th>2</th>\n",
       "      <td>-20.9667</td>\n",
       "      <td>165.920</td>\n",
       "      <td>75</td>\n",
       "      <td>98</td>\n",
       "      <td>1.90</td>\n",
       "    </tr>\n",
       "    <tr>\n",
       "      <th>4</th>\n",
       "      <td>-32.7167</td>\n",
       "      <td>156.785</td>\n",
       "      <td>50</td>\n",
       "      <td>20</td>\n",
       "      <td>7.72</td>\n",
       "    </tr>\n",
       "    <tr>\n",
       "      <th>6</th>\n",
       "      <td>-35.1167</td>\n",
       "      <td>187.970</td>\n",
       "      <td>19</td>\n",
       "      <td>100</td>\n",
       "      <td>8.71</td>\n",
       "    </tr>\n",
       "    <tr>\n",
       "      <th>7</th>\n",
       "      <td>-21.3585</td>\n",
       "      <td>143.960</td>\n",
       "      <td>94</td>\n",
       "      <td>90</td>\n",
       "      <td>5.14</td>\n",
       "    </tr>\n",
       "    <tr>\n",
       "      <th>9</th>\n",
       "      <td>-0.6000</td>\n",
       "      <td>155.075</td>\n",
       "      <td>76</td>\n",
       "      <td>100</td>\n",
       "      <td>6.65</td>\n",
       "    </tr>\n",
       "    <tr>\n",
       "      <th>...</th>\n",
       "      <td>...</td>\n",
       "      <td>...</td>\n",
       "      <td>...</td>\n",
       "      <td>...</td>\n",
       "      <td>...</td>\n",
       "    </tr>\n",
       "    <tr>\n",
       "      <th>575</th>\n",
       "      <td>-16.5167</td>\n",
       "      <td>156.380</td>\n",
       "      <td>69</td>\n",
       "      <td>100</td>\n",
       "      <td>7.12</td>\n",
       "    </tr>\n",
       "    <tr>\n",
       "      <th>576</th>\n",
       "      <td>-14.9003</td>\n",
       "      <td>144.635</td>\n",
       "      <td>79</td>\n",
       "      <td>19</td>\n",
       "      <td>2.19</td>\n",
       "    </tr>\n",
       "    <tr>\n",
       "      <th>578</th>\n",
       "      <td>-8.8389</td>\n",
       "      <td>136.220</td>\n",
       "      <td>94</td>\n",
       "      <td>95</td>\n",
       "      <td>1.33</td>\n",
       "    </tr>\n",
       "    <tr>\n",
       "      <th>580</th>\n",
       "      <td>-36.7167</td>\n",
       "      <td>95.000</td>\n",
       "      <td>100</td>\n",
       "      <td>90</td>\n",
       "      <td>2.57</td>\n",
       "    </tr>\n",
       "    <tr>\n",
       "      <th>583</th>\n",
       "      <td>-13.2550</td>\n",
       "      <td>130.505</td>\n",
       "      <td>89</td>\n",
       "      <td>27</td>\n",
       "      <td>1.81</td>\n",
       "    </tr>\n",
       "  </tbody>\n",
       "</table>\n",
       "<p>179 rows × 5 columns</p>\n",
       "</div>"
      ],
      "text/plain": [
       "     Latitudes  Temperatures (F)  Humidities (percents)  \\\n",
       "2     -20.9667           165.920                     75   \n",
       "4     -32.7167           156.785                     50   \n",
       "6     -35.1167           187.970                     19   \n",
       "7     -21.3585           143.960                     94   \n",
       "9      -0.6000           155.075                     76   \n",
       "..         ...               ...                    ...   \n",
       "575   -16.5167           156.380                     69   \n",
       "576   -14.9003           144.635                     79   \n",
       "578    -8.8389           136.220                     94   \n",
       "580   -36.7167            95.000                    100   \n",
       "583   -13.2550           130.505                     89   \n",
       "\n",
       "     Cloud Cover (percents)  Wind Speeds (mph)  \n",
       "2                        98               1.90  \n",
       "4                        20               7.72  \n",
       "6                       100               8.71  \n",
       "7                        90               5.14  \n",
       "9                       100               6.65  \n",
       "..                      ...                ...  \n",
       "575                     100               7.12  \n",
       "576                      19               2.19  \n",
       "578                      95               1.33  \n",
       "580                      90               2.57  \n",
       "583                      27               1.81  \n",
       "\n",
       "[179 rows x 5 columns]"
      ]
     },
     "execution_count": 45,
     "metadata": {},
     "output_type": "execute_result"
    }
   ],
   "source": [
    "weathercities_df.loc[weathercities_df[\"Latitudes\"]<0]"
   ]
  },
  {
   "cell_type": "markdown",
   "metadata": {},
   "source": [
    "####  Northern Hemisphere - Humidity (%) vs. Latitude Linear Regression"
   ]
  },
  {
   "cell_type": "code",
   "execution_count": 27,
   "metadata": {},
   "outputs": [
    {
     "name": "stdout",
     "output_type": "stream",
     "text": [
      "The r-value is: 0.000543987878808455\n"
     ]
    },
    {
     "data": {
      "image/png": "[encoded data removed]",
      "text/plain": [
       "<Figure size 432x288 with 1 Axes>"
      ]
     },
     "metadata": {
      "needs_background": "light"
     },
     "output_type": "display_data"
    }
   ],
   "source": [
    "weathercities_df.loc[weathercities_df[\"Latitudes\"]>0]"
   ]
  },
  {
   "cell_type": "markdown",
   "metadata": {},
   "source": [
    "####  Southern Hemisphere - Humidity (%) vs. Latitude Linear Regression"
   ]
  },
  {
   "cell_type": "code",
   "execution_count": 28,
   "metadata": {},
   "outputs": [
    {
     "name": "stdout",
     "output_type": "stream",
     "text": [
      "The r-value is: 0.014985174297345524\n"
     ]
    },
    {
     "data": {
      "image/png": "[encoded data removed]",
      "text/plain": [
       "<Figure size 432x288 with 1 Axes>"
      ]
     },
     "metadata": {
      "needs_background": "light"
     },
     "output_type": "display_data"
    }
   ],
   "source": [
    "weathercities_df.loc[weathercities_df[\"Latitudes\"]<0]"
   ]
  },
  {
   "cell_type": "markdown",
   "metadata": {},
   "source": [
    "####  Northern Hemisphere - Cloudiness (%) vs. Latitude Linear Regression"
   ]
  },
  {
   "cell_type": "code",
   "execution_count": 29,
   "metadata": {},
   "outputs": [
    {
     "name": "stdout",
     "output_type": "stream",
     "text": [
      "The r-value is: 0.0020898727664228514\n"
     ]
    },
    {
     "data": {
      "image/png": "[encoded data removed]",
      "text/plain": [
       "<Figure size 432x288 with 1 Axes>"
      ]
     },
     "metadata": {
      "needs_background": "light"
     },
     "output_type": "display_data"
    }
   ],
   "source": [
    "weathercities_df.loc[weathercities_df[\"Latitudes\"]>0]"
   ]
  },
  {
   "cell_type": "markdown",
   "metadata": {},
   "source": [
    "####  Southern Hemisphere - Cloudiness (%) vs. Latitude Linear Regression"
   ]
  },
  {
   "cell_type": "code",
   "execution_count": 30,
   "metadata": {},
   "outputs": [
    {
     "name": "stdout",
     "output_type": "stream",
     "text": [
      "The r-value is: 0.0035263772085582894\n"
     ]
    },
    {
     "data": {
      "image/png": "[encoded data removed]",
      "text/plain": [
       "<Figure size 432x288 with 1 Axes>"
      ]
     },
     "metadata": {
      "needs_background": "light"
     },
     "output_type": "display_data"
    }
   ],
   "source": [
    "weathercities_df.loc[weathercities_df[\"Latitudes\"]<0]"
   ]
  },
  {
   "cell_type": "markdown",
   "metadata": {},
   "source": [
    "####  Northern Hemisphere - Wind Speed (mph) vs. Latitude Linear Regression"
   ]
  },
  {
   "cell_type": "code",
   "execution_count": 31,
   "metadata": {},
   "outputs": [
    {
     "name": "stdout",
     "output_type": "stream",
     "text": [
      "The r-value is: 0.04019723576144484\n"
     ]
    },
    {
     "data": {
      "image/png": "[encoded data removed]",
      "text/plain": [
       "<Figure size 432x288 with 1 Axes>"
      ]
     },
     "metadata": {
      "needs_background": "light"
     },
     "output_type": "display_data"
    }
   ],
   "source": [
    "weathercities_df.loc[weathercities_df[\"Latitudes\"]>0]"
   ]
  },
  {
   "cell_type": "markdown",
   "metadata": {},
   "source": [
    "####  Southern Hemisphere - Wind Speed (mph) vs. Latitude Linear Regression"
   ]
  },
  {
   "cell_type": "code",
   "execution_count": 32,
   "metadata": {},
   "outputs": [
    {
     "name": "stdout",
     "output_type": "stream",
     "text": [
      "The r-value is: 0.017128274759839232\n"
     ]
    },
    {
     "data": {
      "image/png": "[encoded data removed]",
      "text/plain": [
       "<Figure size 432x288 with 1 Axes>"
      ]
     },
     "metadata": {
      "needs_background": "light"
     },
     "output_type": "display_data"
    }
   ],
   "source": [
    "weathercities_df.loc[weathercities_df[\"Latitudes\"]<0]"
   ]
  },
  {
   "cell_type": "code",
   "execution_count": null,
   "metadata": {},
   "outputs": [],
   "source": []
  }
 ],
 "metadata": {
  "anaconda-cloud": {},
  "kernel_info": {
   "name": "python3"
  },
  "kernelspec": {
   "display_name": "Python 3",
   "language": "python",
   "name": "python3"
  },
  "language_info": {
   "codemirror_mode": {
    "name": "ipython",
    "version": 3
   },
   "file_extension": ".py",
   "mimetype": "text/x-python",
   "name": "python",
   "nbconvert_exporter": "python",
   "pygments_lexer": "ipython3",
   "version": "3.8.3"
  },
  "latex_envs": {
   "LaTeX_envs_menu_present": true,
   "autoclose": false,
   "autocomplete": true,
   "bibliofile": "biblio.bib",
   "cite_by": "apalike",
   "current_citInitial": 1,
   "eqLabelWithNumbers": true,
   "eqNumInitial": 1,
   "hotkeys": {
    "equation": "Ctrl-E",
    "itemize": "Ctrl-I"
   },
   "labels_anchors": false,
   "latex_user_defs": false,
   "report_style_numbering": false,
   "user_envs_cfg": false
  },
  "nteract": {
   "version": "0.12.3"
  }
 },
 "nbformat": 4,
 "nbformat_minor": 2
}
