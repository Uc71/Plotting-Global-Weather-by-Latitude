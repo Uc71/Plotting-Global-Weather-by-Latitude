{
 "cells": [
  {
   "cell_type": "markdown",
   "metadata": {},
   "source": [
    "# Plotting Global Weather by Latitude"
   ]
  },
  {
   "cell_type": "code",
   "execution_count": 1,
   "metadata": {
    "scrolled": true
   },
   "outputs": [],
   "source": [
    "# Dependencies and Setup\n",
    "import matplotlib.pyplot as plt\n",
    "import pandas as pd\n",
    "import numpy as np\n",
    "import requests\n",
    "import time\n",
    "from scipy.stats import linregress\n",
    "\n",
    "# Import API key\n",
    "from config import weather_api_key\n",
    "\n",
    "# Incorporated citipy to determine city based on latitude and longitude\n",
    "import citipy\n",
    "from citipy import citipy\n",
    "\n",
    "# Output File (CSV)\n",
    "output_data_file = \"output_data/cities.csv\"\n",
    "\n",
    "# Range of latitudes and longitudes\n",
    "lat_range = (-90, 90)\n",
    "lng_range = (-180, 180)"
   ]
  },
  {
   "cell_type": "markdown",
   "metadata": {},
   "source": [
    "## Generate Cities List"
   ]
  },
  {
   "cell_type": "code",
   "execution_count": 2,
   "metadata": {},
   "outputs": [
    {
     "data": {
      "text/plain": [
       "605"
      ]
     },
     "execution_count": 2,
     "metadata": {},
     "output_type": "execute_result"
    }
   ],
   "source": [
    "# List for holding lat_lngs and cities\n",
    "lat_lngs = []\n",
    "cities = []\n",
    "\n",
    "# Create a set of random lat and lng combinations\n",
    "lats = np.random.uniform(lat_range[0], lat_range[1], size=1500)\n",
    "lngs = np.random.uniform(lng_range[0], lng_range[1], size=1500)\n",
    "lat_lngs = zip(lats, lngs)\n",
    "\n",
    "# Identify nearest city for each lat, lng combination\n",
    "for lat_lng in lat_lngs:\n",
    "    city = citipy.nearest_city(lat_lng[0], lat_lng[1]).city_name\n",
    "    \n",
    "    # If the city is unique, then add it to a our cities list\n",
    "    if city not in cities:\n",
    "        cities.append(city)\n",
    "\n",
    "# Print the city count to confirm sufficient count\n",
    "len(cities)"
   ]
  },
  {
   "cell_type": "markdown",
   "metadata": {},
   "source": [
    "### Perform API Calls\n",
    "* Perform a weather check on each city using a series of successive API calls.\n",
    "* Include a print log of each city as it'sbeing processed (with the city number and city name).\n"
   ]
  },
  {
   "cell_type": "code",
   "execution_count": 3,
   "metadata": {
    "scrolled": true
   },
   "outputs": [
    {
     "name": "stdout",
     "output_type": "stream",
     "text": [
      "Beginning Data Retrieval\n",
      "-----------------------------\n",
      "Processing Record 1 of Set 1 | vaini\n",
      "Processing Record 2 of Set 1 | texarkana\n",
      "Processing Record 3 of Set 1 | jamestown\n",
      "Processing Record 4 of Set 1 | haines junction\n",
      "Processing Record 5 of Set 1 | zhigansk\n",
      "Processing Record 6 of Set 1 | santa maria\n",
      "Processing Record 7 of Set 1 | saldanha\n",
      "Processing Record 8 of Set 1 | cherskiy\n",
      "Processing Record 9 of Set 1 | bluff\n",
      "Processing Record 10 of Set 1 | esperance\n",
      "Processing Record 11 of Set 1 | clarence town\n",
      "Processing Record 12 of Set 1 | hermanus\n",
      "Processing Record 13 of Set 1 | dikson\n",
      "Processing Record 14 of Set 1 | doha\n",
      "Processing Record 15 of Set 1 | puerto ayora\n",
      "Processing Record 16 of Set 1 | mataura\n",
      "Processing Record 17 of Set 1 | ushtobe\n",
      "Processing Record 18 of Set 1 | punta arenas\n",
      "Processing Record 19 of Set 1 | devyatka\n",
      "Processing Record 20 of Set 1 | ust-bolsheretsk\n",
      "Processing Record 21 of Set 1 | jerome\n",
      "Processing Record 22 of Set 1 | ribeira grande\n",
      "Processing Record 23 of Set 1 | cidreira\n",
      "Processing Record 24 of Set 1 | kavieng\n",
      "Processing Record 25 of Set 1 | mahebourg\n",
      "Processing Record 26 of Set 1 | chapleau\n",
      "Processing Record 27 of Set 1 | ushuaia\n",
      "Processing Record 28 of Set 1 | tsihombe\n",
      "Processing Record 29 of Set 1 | port alfred\n",
      "Processing Record 30 of Set 1 | hilo\n",
      "Processing Record 31 of Set 1 | khuzdar\n",
      "Processing Record 32 of Set 1 | raudeberg\n",
      "Processing Record 33 of Set 1 | belushya guba\n",
      "Processing Record 34 of Set 1 | severo-kurilsk\n",
      "Processing Record 35 of Set 1 | nantucket\n",
      "Processing Record 36 of Set 1 | hobart\n",
      "Processing Record 37 of Set 1 | contamana\n",
      "Processing Record 38 of Set 1 | cape town\n",
      "Processing Record 39 of Set 1 | vila velha\n",
      "Processing Record 40 of Set 1 | rocha\n",
      "Processing Record 41 of Set 1 | east london\n",
      "Processing Record 42 of Set 1 | beringovskiy\n",
      "Processing Record 43 of Set 1 | torbay\n",
      "Processing Record 44 of Set 1 | saint-philippe\n",
      "Processing Record 45 of Set 1 | tari\n",
      "Processing Record 46 of Set 1 | busselton\n",
      "Processing Record 47 of Set 1 | carman\n",
      "Processing Record 48 of Set 1 | atuona\n",
      "Processing Record 49 of Set 1 | aklavik\n",
      "Processing Record 50 of Set 1 | anadyr\n",
      "Processing Record 51 of Set 1 | tura\n",
      "Processing Record 52 of Set 1 | taolanaro\n",
      "Processing Record 53 of Set 1 | barrow\n",
      "Processing Record 54 of Set 1 | qaanaaq\n",
      "Processing Record 55 of Set 1 | chicama\n",
      "Processing Record 56 of Set 1 | bonavista\n",
      "Processing Record 57 of Set 1 | barentsburg\n",
      "Processing Record 58 of Set 1 | bako\n",
      "Processing Record 59 of Set 1 | castro\n",
      "Processing Record 60 of Set 1 | saskylakh\n",
      "Processing Record 61 of Set 1 | cagayan de tawi-tawi\n",
      "Processing Record 62 of Set 1 | laval\n",
      "Processing Record 63 of Set 1 | quatre cocos\n",
      "Processing Record 64 of Set 1 | fukue\n",
      "Processing Record 65 of Set 1 | jalu\n",
      "Processing Record 66 of Set 1 | jackson\n",
      "Processing Record 67 of Set 1 | bandarbeyla\n",
      "Processing Record 68 of Set 1 | bethel\n",
      "Processing Record 69 of Set 1 | longyearbyen\n",
      "Processing Record 70 of Set 1 | butaritari\n",
      "Processing Record 71 of Set 1 | kapaa\n",
      "Processing Record 72 of Set 1 | berlevag\n",
      "Processing Record 73 of Set 1 | lasa\n",
      "Processing Record 74 of Set 1 | nikolskoye\n",
      "Processing Record 75 of Set 1 | maridi\n",
      "Processing Record 76 of Set 1 | hokitika\n",
      "Processing Record 77 of Set 1 | salvador\n",
      "Processing Record 78 of Set 1 | ponta do sol\n",
      "Processing Record 79 of Set 1 | vilhena\n",
      "Processing Record 80 of Set 1 | udgir\n",
      "Processing Record 81 of Set 1 | tuktoyaktuk\n",
      "Processing Record 82 of Set 1 | rikitea\n",
      "Processing Record 83 of Set 1 | chokurdakh\n",
      "Processing Record 84 of Set 1 | rio gallegos\n",
      "Processing Record 85 of Set 1 | mount isa\n",
      "Processing Record 86 of Set 1 | iqaluit\n",
      "Processing Record 87 of Set 1 | bastia\n",
      "Processing Record 88 of Set 1 | bonoua\n",
      "Processing Record 89 of Set 1 | lyuban\n",
      "Processing Record 90 of Set 1 | mascote\n",
      "Processing Record 91 of Set 1 | sioux lookout\n",
      "Processing Record 92 of Set 1 | victoria\n",
      "Processing Record 93 of Set 1 | xiongzhou\n",
      "Processing Record 94 of Set 1 | lata\n",
      "Processing Record 95 of Set 1 | san patricio\n",
      "Processing Record 96 of Set 1 | naze\n",
      "Processing Record 97 of Set 1 | fortuna\n",
      "Processing Record 98 of Set 1 | baoying\n",
      "Processing Record 99 of Set 1 | tasiilaq\n",
      "Processing Record 100 of Set 1 | cockburn town\n",
      "Processing Record 101 of Set 1 | viedma\n",
      "Processing Record 102 of Set 1 | ola\n",
      "Processing Record 103 of Set 1 | bilibino\n",
      "Processing Record 104 of Set 1 | hamilton\n",
      "Processing Record 105 of Set 1 | albany\n",
      "Processing Record 106 of Set 1 | lebu\n",
      "Processing Record 107 of Set 1 | kaitangata\n",
      "Processing Record 108 of Set 1 | kariba\n",
      "Processing Record 109 of Set 1 | new norfolk\n",
      "Processing Record 110 of Set 1 | alofi\n",
      "Processing Record 111 of Set 1 | kodiak\n",
      "Processing Record 112 of Set 1 | liaozhong\n",
      "Processing Record 113 of Set 1 | yashkul\n",
      "Processing Record 114 of Set 1 | kamenskoye\n",
      "Processing Record 115 of Set 1 | ahipara\n",
      "Processing Record 116 of Set 1 | tiksi\n",
      "Processing Record 117 of Set 1 | charters towers\n",
      "Processing Record 118 of Set 1 | dubenskiy\n",
      "Processing Record 119 of Set 1 | mitsamiouli\n",
      "Processing Record 120 of Set 1 | vaitupu\n",
      "Processing Record 121 of Set 1 | plouzane\n",
      "Processing Record 122 of Set 1 | hualmay\n",
      "Processing Record 123 of Set 1 | nguiu\n",
      "Processing Record 124 of Set 1 | lagos\n",
      "Processing Record 125 of Set 1 | ostrovnoy\n",
      "Processing Record 126 of Set 1 | tigpalay\n",
      "Processing Record 127 of Set 1 | saint-joseph\n",
      "Processing Record 128 of Set 1 | huron\n",
      "Processing Record 129 of Set 1 | ayr\n",
      "Processing Record 130 of Set 1 | avarua\n",
      "Processing Record 131 of Set 1 | zhezkazgan\n",
      "Processing Record 132 of Set 1 | mys shmidta\n",
      "Processing Record 133 of Set 1 | hobyo\n",
      "Processing Record 134 of Set 1 | havre-saint-pierre\n",
      "Processing Record 135 of Set 1 | samarai\n",
      "Processing Record 136 of Set 1 | krasnopavlivka\n",
      "Processing Record 137 of Set 1 | greytown\n",
      "Processing Record 138 of Set 1 | hithadhoo\n",
      "Processing Record 139 of Set 1 | praia\n",
      "Processing Record 140 of Set 1 | kedougou\n",
      "Processing Record 141 of Set 1 | solovetskiy\n",
      "Processing Record 142 of Set 1 | asau\n",
      "Processing Record 143 of Set 1 | dejen\n",
      "Processing Record 144 of Set 1 | carutapera\n",
      "Processing Record 145 of Set 1 | osakarovka\n",
      "Processing Record 146 of Set 1 | blythe\n",
      "Processing Record 147 of Set 1 | petropavlovsk-kamchatskiy\n",
      "Processing Record 148 of Set 1 | kautokeino\n",
      "Processing Record 149 of Set 1 | georgetown\n",
      "Processing Record 150 of Set 1 | kenai\n",
      "Processing Record 151 of Set 1 | churachandpur\n",
      "Processing Record 152 of Set 1 | yellowknife\n",
      "Processing Record 153 of Set 1 | bredasdorp\n",
      "Processing Record 154 of Set 1 | talara\n",
      "Processing Record 155 of Set 1 | turiacu\n",
      "Processing Record 156 of Set 1 | troitskoye\n",
      "Processing Record 157 of Set 1 | namatanai\n",
      "Processing Record 158 of Set 1 | burica\n",
      "Processing Record 159 of Set 1 | fez\n",
      "Processing Record 160 of Set 1 | khatanga\n",
      "Processing Record 161 of Set 1 | illoqqortoormiut\n",
      "Processing Record 162 of Set 1 | tyler\n",
      "Processing Record 163 of Set 1 | mar del plata\n",
      "Processing Record 164 of Set 1 | thompson\n",
      "Processing Record 165 of Set 1 | sao miguel do araguaia\n",
      "Processing Record 166 of Set 1 | tuatapere\n",
      "Processing Record 167 of Set 1 | phan rang\n",
      "Processing Record 168 of Set 1 | souillac\n",
      "Processing Record 169 of Set 1 | pevek\n",
      "Processing Record 170 of Set 1 | hunza\n",
      "Processing Record 171 of Set 1 | korla\n",
      "Processing Record 172 of Set 1 | sabzevar\n",
      "Processing Record 173 of Set 1 | umzimvubu\n",
      "Processing Record 174 of Set 1 | coquimbo\n",
      "Processing Record 175 of Set 1 | srednekolymsk\n",
      "Processing Record 176 of Set 1 | khelyulya\n",
      "Processing Record 177 of Set 1 | florencia\n",
      "Processing Record 178 of Set 1 | broken hill\n",
      "Processing Record 179 of Set 1 | balabac\n",
      "Processing Record 180 of Set 1 | yining\n",
      "Processing Record 181 of Set 1 | port hardy\n",
      "Processing Record 182 of Set 1 | eyl\n",
      "Processing Record 183 of Set 1 | kruisfontein\n",
      "Processing Record 184 of Set 1 | grand gaube\n",
      "Processing Record 185 of Set 1 | westport\n",
      "Processing Record 186 of Set 1 | flinders\n",
      "Processing Record 187 of Set 1 | katiola\n",
      "Processing Record 188 of Set 1 | ukiah\n",
      "Processing Record 189 of Set 1 | constitucion\n",
      "Processing Record 190 of Set 1 | galle\n",
      "Processing Record 191 of Set 1 | faya\n",
      "Processing Record 192 of Set 1 | marcona\n",
      "Processing Record 193 of Set 1 | dagami\n",
      "Processing Record 194 of Set 1 | guerrero negro\n",
      "Processing Record 195 of Set 1 | clyde river\n"
     ]
    },
    {
     "name": "stdout",
     "output_type": "stream",
     "text": [
      "Processing Record 196 of Set 1 | carnarvon\n",
      "Processing Record 197 of Set 1 | port blair\n",
      "Processing Record 198 of Set 1 | ulladulla\n",
      "Processing Record 199 of Set 1 | abeche\n",
      "Processing Record 200 of Set 1 | pangnirtung\n",
      "Processing Record 201 of Set 1 | svetlyy\n",
      "Processing Record 202 of Set 1 | henties bay\n",
      "Processing Record 203 of Set 1 | batemans bay\n",
      "Processing Record 204 of Set 1 | oranjemund\n",
      "Processing Record 205 of Set 1 | san miguel\n",
      "Processing Record 206 of Set 1 | kalaleh\n",
      "Processing Record 207 of Set 1 | manta\n",
      "Processing Record 208 of Set 1 | camabatela\n",
      "Processing Record 209 of Set 1 | cabo san lucas\n",
      "Processing Record 210 of Set 1 | provideniya\n",
      "Processing Record 211 of Set 1 | port-de-paix\n",
      "Processing Record 212 of Set 1 | qaqortoq\n",
      "Processing Record 213 of Set 1 | atar\n",
      "Processing Record 214 of Set 1 | paragominas\n",
      "Processing Record 215 of Set 1 | tumannyy\n",
      "Processing Record 216 of Set 1 | beloha\n",
      "Processing Record 217 of Set 1 | catamarca\n",
      "Processing Record 218 of Set 1 | omsukchan\n",
      "Processing Record 219 of Set 1 | lagoa\n",
      "Processing Record 220 of Set 1 | sorvag\n",
      "Processing Record 221 of Set 1 | ferme-neuve\n",
      "Processing Record 222 of Set 1 | yanam\n",
      "Processing Record 223 of Set 1 | mabaruma\n",
      "Processing Record 224 of Set 1 | yar-sale\n",
      "Processing Record 225 of Set 1 | tiznit\n",
      "Processing Record 226 of Set 1 | gamba\n",
      "Processing Record 227 of Set 1 | mount gambier\n",
      "Processing Record 228 of Set 1 | nabire\n",
      "Processing Record 229 of Set 1 | makakilo city\n",
      "Processing Record 230 of Set 1 | mareeba\n",
      "Processing Record 231 of Set 1 | cayenne\n",
      "Processing Record 232 of Set 1 | brae\n",
      "Processing Record 233 of Set 1 | sosnovka\n",
      "Processing Record 234 of Set 1 | tasbuget\n",
      "Processing Record 235 of Set 1 | kampong chhnang\n",
      "Processing Record 236 of Set 1 | royal leamington spa\n",
      "Processing Record 237 of Set 1 | aswan\n",
      "Processing Record 238 of Set 1 | ngukurr\n",
      "Processing Record 239 of Set 1 | ancud\n",
      "Processing Record 240 of Set 1 | moyale\n",
      "Processing Record 241 of Set 1 | arraial do cabo\n",
      "Processing Record 242 of Set 1 | kibala\n",
      "Processing Record 243 of Set 1 | bonthe\n",
      "Processing Record 244 of Set 1 | kavaratti\n",
      "Processing Record 245 of Set 1 | vrangel\n",
      "Processing Record 246 of Set 1 | vestmannaeyjar\n",
      "Processing Record 247 of Set 1 | bolobo\n",
      "Processing Record 248 of Set 1 | geraldton\n",
      "Processing Record 249 of Set 1 | padang\n",
      "Processing Record 250 of Set 1 | punta alta\n",
      "Processing Record 251 of Set 1 | huai yot\n",
      "Processing Record 252 of Set 1 | biltine\n",
      "Processing Record 253 of Set 1 | casablanca\n",
      "Processing Record 254 of Set 1 | sentyabrskiy\n",
      "Processing Record 255 of Set 1 | chai badan\n",
      "Processing Record 256 of Set 1 | malakal\n",
      "Processing Record 257 of Set 1 | cam pha\n",
      "Processing Record 258 of Set 1 | utiroa\n",
      "Processing Record 259 of Set 1 | kiruna\n",
      "Processing Record 260 of Set 1 | puro\n",
      "Processing Record 261 of Set 1 | kahului\n",
      "Processing Record 262 of Set 1 | monte patria\n",
      "Processing Record 263 of Set 1 | hasaki\n",
      "Processing Record 264 of Set 1 | meadow lake\n",
      "Processing Record 265 of Set 1 | nanortalik\n",
      "Processing Record 266 of Set 1 | sao filipe\n",
      "Processing Record 267 of Set 1 | weligama\n",
      "Processing Record 268 of Set 1 | sinnamary\n",
      "Processing Record 269 of Set 1 | chake chake\n",
      "Processing Record 270 of Set 1 | tanjong malim\n",
      "Processing Record 271 of Set 1 | saltpond\n",
      "Processing Record 272 of Set 1 | esmeraldas\n",
      "Processing Record 273 of Set 1 | sur\n",
      "Processing Record 274 of Set 1 | port moresby\n",
      "Processing Record 275 of Set 1 | tual\n",
      "Processing Record 276 of Set 1 | magadan\n",
      "Processing Record 277 of Set 1 | yerbogachen\n",
      "Processing Record 278 of Set 1 | moron\n",
      "Processing Record 279 of Set 1 | komsomolskiy\n",
      "Processing Record 280 of Set 1 | upernavik\n",
      "Processing Record 281 of Set 1 | jagdalpur\n",
      "Processing Record 282 of Set 1 | marrakesh\n",
      "Processing Record 283 of Set 1 | klaksvik\n",
      "Processing Record 284 of Set 1 | arucas\n",
      "Processing Record 285 of Set 1 | airai\n",
      "Processing Record 286 of Set 1 | lolua\n",
      "Processing Record 287 of Set 1 | leningradskiy\n",
      "Processing Record 288 of Set 1 | bathsheba\n",
      "Processing Record 289 of Set 1 | lavrentiya\n",
      "Processing Record 290 of Set 1 | lompoc\n",
      "Processing Record 291 of Set 1 | bokspits\n",
      "Processing Record 292 of Set 1 | tambura\n",
      "Processing Record 293 of Set 1 | salinas\n",
      "Processing Record 294 of Set 1 | shimoda\n",
      "Processing Record 295 of Set 1 | vestbygda\n",
      "Processing Record 296 of Set 1 | san quintin\n",
      "Processing Record 297 of Set 1 | astoria\n",
      "Processing Record 298 of Set 1 | segovia\n",
      "Processing Record 299 of Set 1 | port elizabeth\n",
      "Processing Record 300 of Set 1 | altay\n",
      "Processing Record 301 of Set 1 | avera\n",
      "Processing Record 302 of Set 1 | sumbawa\n",
      "Processing Record 303 of Set 1 | husavik\n",
      "Processing Record 304 of Set 1 | santa marinella\n",
      "Processing Record 305 of Set 1 | taree\n",
      "Processing Record 306 of Set 1 | chuy\n",
      "Processing Record 307 of Set 1 | buariki\n",
      "Processing Record 308 of Set 1 | puerto carreno\n",
      "Processing Record 309 of Set 1 | oistins\n",
      "Processing Record 310 of Set 1 | nurota\n",
      "Processing Record 311 of Set 1 | saint-francois\n",
      "Processing Record 312 of Set 1 | placido de castro\n",
      "Processing Record 313 of Set 1 | port lincoln\n",
      "Processing Record 314 of Set 1 | samusu\n",
      "Processing Record 315 of Set 1 | nome\n",
      "Processing Record 316 of Set 1 | gevrai\n",
      "Processing Record 317 of Set 1 | yinchuan\n",
      "Processing Record 318 of Set 1 | wa\n",
      "Processing Record 319 of Set 1 | raymondville\n",
      "Processing Record 320 of Set 1 | labuhan\n",
      "Processing Record 321 of Set 1 | birao\n",
      "Processing Record 322 of Set 1 | ust-nera\n",
      "Processing Record 323 of Set 1 | meix-devant-virton\n",
      "Processing Record 324 of Set 1 | mikasa\n",
      "Processing Record 325 of Set 1 | norman wells\n",
      "Processing Record 326 of Set 1 | mgandu\n",
      "Processing Record 327 of Set 1 | kasongo-lunda\n",
      "Processing Record 328 of Set 1 | lerwick\n",
      "Processing Record 329 of Set 1 | marv dasht\n",
      "Processing Record 330 of Set 1 | turukhansk\n",
      "Processing Record 331 of Set 1 | collie\n",
      "Processing Record 332 of Set 1 | san ramon de la nueva oran\n",
      "Processing Record 333 of Set 1 | wanning\n",
      "Processing Record 334 of Set 1 | caravelas\n",
      "Processing Record 335 of Set 1 | douglas\n",
      "Processing Record 336 of Set 1 | yenagoa\n",
      "Processing Record 337 of Set 1 | port-gentil\n",
      "Processing Record 338 of Set 1 | kibre mengist\n",
      "Processing Record 339 of Set 1 | poum\n",
      "Processing Record 340 of Set 1 | kilindoni\n",
      "Processing Record 341 of Set 1 | san cristobal\n",
      "Processing Record 342 of Set 1 | vanavara\n",
      "Processing Record 343 of Set 1 | vryburg\n",
      "Processing Record 344 of Set 1 | sitka\n",
      "Processing Record 345 of Set 1 | concepcion del oro\n",
      "Processing Record 346 of Set 1 | riyadh\n",
      "Processing Record 347 of Set 1 | pingliang\n",
      "Processing Record 348 of Set 1 | keratea\n",
      "Processing Record 349 of Set 1 | nishihara\n",
      "Processing Record 350 of Set 1 | sechura\n",
      "Processing Record 351 of Set 1 | katangli\n",
      "Processing Record 352 of Set 1 | tir pol\n",
      "Processing Record 353 of Set 1 | bowen\n",
      "Processing Record 354 of Set 1 | emmett\n",
      "Processing Record 355 of Set 1 | nelson bay\n",
      "Processing Record 356 of Set 1 | san felipe\n",
      "Processing Record 357 of Set 1 | harper\n",
      "Processing Record 358 of Set 1 | antalaha\n",
      "Processing Record 359 of Set 1 | vardo\n",
      "Processing Record 360 of Set 1 | mehriz\n",
      "Processing Record 361 of Set 1 | pangai\n",
      "Processing Record 362 of Set 1 | dauriya\n",
      "Processing Record 363 of Set 1 | masunga\n",
      "Processing Record 364 of Set 1 | dawson creek\n",
      "Processing Record 365 of Set 1 | oxbow\n",
      "Processing Record 366 of Set 1 | luderitz\n",
      "Processing Record 367 of Set 1 | stephenville\n",
      "Processing Record 368 of Set 1 | bani\n",
      "Processing Record 369 of Set 1 | pisco\n",
      "Processing Record 370 of Set 1 | bambous virieux\n",
      "Processing Record 371 of Set 1 | goderich\n",
      "Processing Record 372 of Set 1 | angoche\n",
      "Processing Record 373 of Set 1 | valka\n",
      "Processing Record 374 of Set 1 | mullaitivu\n",
      "Processing Record 375 of Set 1 | mayahi\n",
      "Processing Record 376 of Set 1 | billings\n",
      "Processing Record 377 of Set 1 | shingu\n",
      "Processing Record 378 of Set 1 | rovnoye\n",
      "Processing Record 379 of Set 1 | asahikawa\n",
      "Processing Record 380 of Set 1 | dondo\n",
      "Processing Record 381 of Set 1 | huanan\n",
      "Processing Record 382 of Set 1 | ugoofaaru\n",
      "Processing Record 383 of Set 1 | lanzhou\n",
      "Processing Record 384 of Set 1 | vaitape\n",
      "Processing Record 385 of Set 1 | rey bouba\n",
      "Processing Record 386 of Set 1 | touros\n",
      "Processing Record 387 of Set 1 | sayabec\n",
      "Processing Record 388 of Set 1 | louisbourg\n",
      "Processing Record 389 of Set 1 | asfi\n"
     ]
    },
    {
     "name": "stdout",
     "output_type": "stream",
     "text": [
      "Processing Record 390 of Set 1 | daokou\n",
      "Processing Record 391 of Set 1 | matagami\n",
      "Processing Record 392 of Set 1 | verkh-suetka\n",
      "Processing Record 393 of Set 1 | kununurra\n",
      "Processing Record 394 of Set 1 | amderma\n",
      "Processing Record 395 of Set 1 | itarema\n",
      "Processing Record 396 of Set 1 | port hedland\n",
      "Processing Record 397 of Set 1 | palmer\n",
      "Processing Record 398 of Set 1 | bella union\n",
      "Processing Record 399 of Set 1 | portland\n",
      "Processing Record 400 of Set 1 | chulman\n",
      "Processing Record 401 of Set 1 | marawi\n",
      "Processing Record 402 of Set 1 | bay roberts\n",
      "Processing Record 403 of Set 1 | come\n",
      "Processing Record 404 of Set 1 | alcaniz\n",
      "Processing Record 405 of Set 1 | roswell\n",
      "Processing Record 406 of Set 1 | camapua\n",
      "Processing Record 407 of Set 1 | kjollefjord\n",
      "Processing Record 408 of Set 1 | japura\n",
      "Processing Record 409 of Set 1 | khoy\n",
      "Processing Record 410 of Set 1 | carmen\n",
      "Processing Record 411 of Set 1 | tripoli\n",
      "Processing Record 412 of Set 1 | sungairaya\n",
      "Processing Record 413 of Set 1 | abu samrah\n",
      "Processing Record 414 of Set 1 | coahuayana\n",
      "Processing Record 415 of Set 1 | yanan\n",
      "Processing Record 416 of Set 1 | safwah\n",
      "Processing Record 417 of Set 1 | vila franca do campo\n",
      "Processing Record 418 of Set 1 | aguada de pasajeros\n",
      "Processing Record 419 of Set 1 | abha\n",
      "Processing Record 420 of Set 1 | shaygino\n",
      "Processing Record 421 of Set 1 | nador\n",
      "Processing Record 422 of Set 1 | passo de camaragibe\n",
      "Processing Record 423 of Set 1 | shawville\n",
      "Processing Record 424 of Set 1 | tagbac\n",
      "Processing Record 425 of Set 1 | saleaula\n",
      "Processing Record 426 of Set 1 | rundu\n",
      "Processing Record 427 of Set 1 | tawau\n",
      "Processing Record 428 of Set 1 | ronne\n",
      "Processing Record 429 of Set 1 | abu dhabi\n",
      "Processing Record 430 of Set 1 | aleksandrovskiy zavod\n",
      "Processing Record 431 of Set 1 | hambantota\n",
      "Processing Record 432 of Set 1 | arles\n",
      "Processing Record 433 of Set 1 | coihaique\n",
      "Processing Record 434 of Set 1 | nacozari\n",
      "Processing Record 435 of Set 1 | faanui\n",
      "Processing Record 436 of Set 1 | vysokogornyy\n",
      "Processing Record 437 of Set 1 | college\n",
      "Processing Record 438 of Set 1 | utete\n",
      "Processing Record 439 of Set 1 | sakaiminato\n",
      "Processing Record 440 of Set 1 | vao\n",
      "Processing Record 441 of Set 1 | palabuhanratu\n",
      "Processing Record 442 of Set 1 | waingapu\n",
      "Processing Record 443 of Set 1 | jibuti\n",
      "Processing Record 444 of Set 1 | kamenka\n",
      "Processing Record 445 of Set 1 | kailua\n",
      "Processing Record 446 of Set 1 | cockburn harbour\n",
      "Processing Record 447 of Set 1 | rawson\n",
      "Processing Record 448 of Set 1 | lugo\n",
      "Processing Record 449 of Set 1 | macapa\n",
      "Processing Record 450 of Set 1 | toliary\n",
      "Processing Record 451 of Set 1 | hovd\n",
      "Processing Record 452 of Set 1 | gondanglegi\n",
      "Processing Record 453 of Set 1 | tres picos\n",
      "Processing Record 454 of Set 1 | sembakung\n",
      "Processing Record 455 of Set 1 | fort nelson\n",
      "Processing Record 456 of Set 1 | antofagasta\n",
      "Processing Record 457 of Set 1 | kita\n",
      "Processing Record 458 of Set 1 | okhotsk\n",
      "Processing Record 459 of Set 1 | ambon\n",
      "Processing Record 460 of Set 1 | tumpat\n",
      "Processing Record 461 of Set 1 | grand river south east\n",
      "Processing Record 462 of Set 1 | porvoo\n",
      "Processing Record 463 of Set 1 | bolungarvik\n",
      "Processing Record 464 of Set 1 | plymouth\n",
      "Processing Record 465 of Set 1 | nizwa\n",
      "Processing Record 466 of Set 1 | codrington\n",
      "Processing Record 467 of Set 1 | hit\n",
      "Processing Record 468 of Set 1 | gohana\n",
      "Processing Record 469 of Set 1 | taltal\n",
      "Processing Record 470 of Set 1 | boyolangu\n",
      "Processing Record 471 of Set 1 | wad madani\n",
      "Processing Record 472 of Set 1 | talnakh\n",
      "Processing Record 473 of Set 1 | san policarpo\n",
      "Processing Record 474 of Set 1 | chunskiy\n",
      "Processing Record 475 of Set 1 | krasnyy yar\n",
      "Processing Record 476 of Set 1 | broome\n",
      "Processing Record 477 of Set 1 | oriximina\n",
      "Processing Record 478 of Set 1 | balikpapan\n",
      "Processing Record 479 of Set 1 | bengkulu\n",
      "Processing Record 480 of Set 1 | pokosnoye\n",
      "Processing Record 481 of Set 1 | bosobolo\n",
      "Processing Record 482 of Set 1 | atambua\n",
      "Processing Record 483 of Set 1 | yagodnoye\n",
      "Processing Record 484 of Set 1 | uyemskiy\n",
      "Processing Record 485 of Set 1 | deep river\n",
      "Processing Record 486 of Set 1 | dakar\n",
      "Processing Record 487 of Set 1 | mehamn\n",
      "Processing Record 488 of Set 1 | marsh harbour\n",
      "Processing Record 489 of Set 1 | zhangjiakou\n",
      "Processing Record 490 of Set 1 | stornoway\n",
      "Processing Record 491 of Set 1 | matay\n",
      "Processing Record 492 of Set 1 | ksenyevka\n",
      "Processing Record 493 of Set 1 | grand-santi\n",
      "Processing Record 494 of Set 1 | quisqueya\n",
      "Processing Record 495 of Set 1 | churapcha\n",
      "Processing Record 496 of Set 1 | mrirt\n",
      "Processing Record 497 of Set 1 | noumea\n",
      "Processing Record 498 of Set 1 | te anau\n",
      "Processing Record 499 of Set 1 | uthal\n",
      "Processing Record 500 of Set 1 | kyzyl-suu\n",
      "Processing Record 501 of Set 1 | matara\n",
      "Processing Record 502 of Set 1 | aitape\n",
      "Processing Record 503 of Set 1 | candido mendes\n",
      "Processing Record 504 of Set 1 | pandan\n",
      "Processing Record 505 of Set 1 | celestun\n",
      "Processing Record 506 of Set 1 | zambezi\n",
      "Processing Record 507 of Set 1 | oktyabrskoye\n",
      "Processing Record 508 of Set 1 | san juan bautista\n",
      "Processing Record 509 of Set 1 | male\n",
      "Processing Record 510 of Set 1 | kitimat\n",
      "Processing Record 511 of Set 1 | bad sooden-allendorf\n",
      "Processing Record 512 of Set 1 | borogontsy\n",
      "Processing Record 513 of Set 1 | ornskoldsvik\n",
      "Processing Record 514 of Set 1 | karaul\n",
      "Processing Record 515 of Set 1 | llanes\n",
      "Processing Record 516 of Set 1 | lorengau\n",
      "Processing Record 517 of Set 1 | tigzirt\n",
      "Processing Record 518 of Set 1 | port macquarie\n",
      "Processing Record 519 of Set 1 | diamantino\n",
      "Processing Record 520 of Set 1 | bur gabo\n",
      "Processing Record 521 of Set 1 | lisieux\n",
      "Processing Record 522 of Set 1 | dickinson\n",
      "Processing Record 523 of Set 1 | coruche\n",
      "Processing Record 524 of Set 1 | bud\n",
      "Processing Record 525 of Set 1 | sargatskoye\n",
      "Processing Record 526 of Set 1 | katsuura\n",
      "Processing Record 527 of Set 1 | shelburne\n",
      "Processing Record 528 of Set 1 | warrnambool\n",
      "Processing Record 529 of Set 1 | dunedin\n",
      "Processing Record 530 of Set 1 | thinadhoo\n",
      "Processing Record 531 of Set 1 | margate\n",
      "Processing Record 532 of Set 1 | deputatskiy\n",
      "Processing Record 533 of Set 1 | isangel\n",
      "Processing Record 534 of Set 1 | kuito\n",
      "Processing Record 535 of Set 1 | nanga eboko\n",
      "Processing Record 536 of Set 1 | stykkisholmur\n",
      "Processing Record 537 of Set 1 | novyy kostek\n",
      "Processing Record 538 of Set 1 | chardara\n",
      "Processing Record 539 of Set 1 | la romana\n",
      "Processing Record 540 of Set 1 | filadelfia\n",
      "Processing Record 541 of Set 1 | rauma\n",
      "Processing Record 542 of Set 1 | bundaberg\n",
      "Processing Record 543 of Set 1 | kamloops\n",
      "Processing Record 544 of Set 1 | igarka\n",
      "Processing Record 545 of Set 1 | attawapiskat\n",
      "Processing Record 546 of Set 1 | verkhoyansk\n",
      "Processing Record 547 of Set 1 | santa rosalia\n",
      "Processing Record 548 of Set 1 | ilebo\n",
      "Processing Record 549 of Set 1 | idah\n",
      "Processing Record 550 of Set 1 | acarau\n",
      "Processing Record 551 of Set 1 | dingle\n",
      "Processing Record 552 of Set 1 | sao felix do xingu\n",
      "Processing Record 553 of Set 1 | nyurba\n",
      "Processing Record 554 of Set 1 | olafsvik\n",
      "Processing Record 555 of Set 1 | itoman\n",
      "Processing Record 556 of Set 1 | pop\n",
      "Processing Record 557 of Set 1 | chimbote\n",
      "Processing Record 558 of Set 1 | srandakan\n",
      "Processing Record 559 of Set 1 | phangnga\n",
      "Processing Record 560 of Set 1 | saint-pierre\n",
      "Processing Record 561 of Set 1 | luba\n",
      "Processing Record 562 of Set 1 | najran\n",
      "Processing Record 563 of Set 1 | suntar\n",
      "Processing Record 564 of Set 1 | buala\n",
      "Processing Record 565 of Set 1 | nizhneyansk\n",
      "Processing Record 566 of Set 1 | ponta delgada\n",
      "Processing Record 567 of Set 1 | pontianak\n",
      "Processing Record 568 of Set 1 | at-bashi\n",
      "Processing Record 569 of Set 1 | namibe\n",
      "Processing Record 570 of Set 1 | sumenep\n",
      "Processing Record 571 of Set 1 | abapo\n",
      "Processing Record 572 of Set 1 | muzhi\n",
      "Processing Record 573 of Set 1 | cumbum\n",
      "Processing Record 574 of Set 1 | kalabo\n",
      "Processing Record 575 of Set 1 | barbar\n",
      "Processing Record 576 of Set 1 | anjiang\n",
      "Processing Record 577 of Set 1 | eydhafushi\n",
      "Processing Record 578 of Set 1 | rorvik\n",
      "Processing Record 579 of Set 1 | kiama\n",
      "Processing Record 580 of Set 1 | dong hoi\n",
      "Processing Record 581 of Set 1 | ambodifototra\n",
      "Processing Record 582 of Set 1 | ngunguru\n",
      "Processing Record 583 of Set 1 | yankton\n"
     ]
    },
    {
     "name": "stdout",
     "output_type": "stream",
     "text": [
      "Processing Record 584 of Set 1 | ketchikan\n",
      "Processing Record 585 of Set 1 | williams lake\n",
      "Processing Record 586 of Set 1 | teeli\n",
      "Processing Record 587 of Set 1 | qasigiannguit\n",
      "Processing Record 588 of Set 1 | guane\n",
      "Processing Record 589 of Set 1 | warrington\n",
      "Processing Record 590 of Set 1 | shunyi\n",
      "Processing Record 591 of Set 1 | saint george\n",
      "Processing Record 592 of Set 1 | sarakhs\n",
      "Processing Record 593 of Set 1 | nemuro\n",
      "Processing Record 594 of Set 1 | gardendale\n",
      "Processing Record 595 of Set 1 | kostino\n",
      "Processing Record 596 of Set 1 | viligili\n",
      "Processing Record 597 of Set 1 | champerico\n",
      "Processing Record 598 of Set 1 | sovetskoye\n",
      "Processing Record 599 of Set 1 | rio grande\n",
      "Processing Record 600 of Set 1 | shahgarh\n",
      "Processing Record 601 of Set 1 | eureka\n",
      "Processing Record 602 of Set 1 | kapchorwa\n",
      "Processing Record 603 of Set 1 | ambilobe\n",
      "Processing Record 604 of Set 1 | gazojak\n",
      "Processing Record 605 of Set 1 | acapulco\n"
     ]
    }
   ],
   "source": [
    "import time\n",
    "import requests\n",
    "import json\n",
    "from pprint import pprint\n",
    "url = \"http://api.openweathermap.org/data/2.5/weather?\"\n",
    "count=1\n",
    "lats=[]\n",
    "temps=[]\n",
    "humidities=[]\n",
    "clouds=[]\n",
    "speeds=[]\n",
    "print(\"Beginning Data Retrieval\")\n",
    "print(\"-----------------------------\")\n",
    "for city in cities:\n",
    "#    url=f\"http://api.openweathermap.org/data/2.5/weather?q=\"city\"&appid={weather_api_key}\"\n",
    "    query_url = url + \"q=\" + city + \"&appid=\" + weather_api_key\n",
    "    response_json=requests.get(query_url).json()\n",
    "    #print(response_json)\n",
    "    try:\n",
    "        lats.append(response_json[\"coord\"][\"lat\"])\n",
    "        temps.append(response_json[\"main\"][\"temp\"])\n",
    "        humidities.append(response_json[\"main\"][\"humidity\"])\n",
    "        clouds.append(response_json[\"clouds\"][\"all\"])\n",
    "        speeds.append(response_json[\"wind\"][\"speed\"])\n",
    "    except:\n",
    "        next\n",
    "    print(\"Processing Record \"+str(count)+\" of Set 1 | \"+city)\n",
    "    count=count+1\n",
    "    time.sleep(1.01694915255)"
   ]
  },
  {
   "cell_type": "markdown",
   "metadata": {},
   "source": [
    "### Convert Raw Data to DataFrame\n",
    "* Export the city data into a .csv.\n",
    "* Display the DataFrame"
   ]
  },
  {
   "cell_type": "code",
   "execution_count": 4,
   "metadata": {},
   "outputs": [
    {
     "data": {
      "text/html": [
       "<div>\n",
       "<style scoped>\n",
       "    .dataframe tbody tr th:only-of-type {\n",
       "        vertical-align: middle;\n",
       "    }\n",
       "\n",
       "    .dataframe tbody tr th {\n",
       "        vertical-align: top;\n",
       "    }\n",
       "\n",
       "    .dataframe thead th {\n",
       "        text-align: right;\n",
       "    }\n",
       "</style>\n",
       "<table border=\"1\" class=\"dataframe\">\n",
       "  <thead>\n",
       "    <tr style=\"text-align: right;\">\n",
       "      <th></th>\n",
       "      <th>Latitudes</th>\n",
       "      <th>Temperatures (F)</th>\n",
       "      <th>Humidities (percents)</th>\n",
       "      <th>Cloud Cover (percents)</th>\n",
       "      <th>Wind Speeds (mph)</th>\n",
       "    </tr>\n",
       "  </thead>\n",
       "  <tbody>\n",
       "    <tr>\n",
       "      <th>0</th>\n",
       "      <td>-21.2000</td>\n",
       "      <td>135.905</td>\n",
       "      <td>100</td>\n",
       "      <td>75</td>\n",
       "      <td>2.57</td>\n",
       "    </tr>\n",
       "    <tr>\n",
       "      <th>1</th>\n",
       "      <td>33.4251</td>\n",
       "      <td>184.415</td>\n",
       "      <td>59</td>\n",
       "      <td>20</td>\n",
       "      <td>1.34</td>\n",
       "    </tr>\n",
       "    <tr>\n",
       "      <th>2</th>\n",
       "      <td>42.0970</td>\n",
       "      <td>119.930</td>\n",
       "      <td>70</td>\n",
       "      <td>75</td>\n",
       "      <td>4.47</td>\n",
       "    </tr>\n",
       "    <tr>\n",
       "      <th>3</th>\n",
       "      <td>60.7522</td>\n",
       "      <td>104.900</td>\n",
       "      <td>51</td>\n",
       "      <td>0</td>\n",
       "      <td>1.48</td>\n",
       "    </tr>\n",
       "    <tr>\n",
       "      <th>4</th>\n",
       "      <td>66.7697</td>\n",
       "      <td>96.170</td>\n",
       "      <td>48</td>\n",
       "      <td>3</td>\n",
       "      <td>1.69</td>\n",
       "    </tr>\n",
       "    <tr>\n",
       "      <th>...</th>\n",
       "      <td>...</td>\n",
       "      <td>...</td>\n",
       "      <td>...</td>\n",
       "      <td>...</td>\n",
       "      <td>...</td>\n",
       "    </tr>\n",
       "    <tr>\n",
       "      <th>542</th>\n",
       "      <td>40.8021</td>\n",
       "      <td>98.465</td>\n",
       "      <td>84</td>\n",
       "      <td>57</td>\n",
       "      <td>2.24</td>\n",
       "    </tr>\n",
       "    <tr>\n",
       "      <th>543</th>\n",
       "      <td>1.3965</td>\n",
       "      <td>103.640</td>\n",
       "      <td>82</td>\n",
       "      <td>100</td>\n",
       "      <td>1.95</td>\n",
       "    </tr>\n",
       "    <tr>\n",
       "      <th>544</th>\n",
       "      <td>-13.2000</td>\n",
       "      <td>129.785</td>\n",
       "      <td>69</td>\n",
       "      <td>7</td>\n",
       "      <td>2.93</td>\n",
       "    </tr>\n",
       "    <tr>\n",
       "      <th>545</th>\n",
       "      <td>41.1875</td>\n",
       "      <td>166.640</td>\n",
       "      <td>15</td>\n",
       "      <td>43</td>\n",
       "      <td>5.52</td>\n",
       "    </tr>\n",
       "    <tr>\n",
       "      <th>546</th>\n",
       "      <td>16.8634</td>\n",
       "      <td>162.050</td>\n",
       "      <td>70</td>\n",
       "      <td>90</td>\n",
       "      <td>1.03</td>\n",
       "    </tr>\n",
       "  </tbody>\n",
       "</table>\n",
       "<p>547 rows × 5 columns</p>\n",
       "</div>"
      ],
      "text/plain": [
       "     Latitudes  Temperatures (F)  Humidities (percents)  \\\n",
       "0     -21.2000           135.905                    100   \n",
       "1      33.4251           184.415                     59   \n",
       "2      42.0970           119.930                     70   \n",
       "3      60.7522           104.900                     51   \n",
       "4      66.7697            96.170                     48   \n",
       "..         ...               ...                    ...   \n",
       "542    40.8021            98.465                     84   \n",
       "543     1.3965           103.640                     82   \n",
       "544   -13.2000           129.785                     69   \n",
       "545    41.1875           166.640                     15   \n",
       "546    16.8634           162.050                     70   \n",
       "\n",
       "     Cloud Cover (percents)  Wind Speeds (mph)  \n",
       "0                        75               2.57  \n",
       "1                        20               1.34  \n",
       "2                        75               4.47  \n",
       "3                         0               1.48  \n",
       "4                         3               1.69  \n",
       "..                      ...                ...  \n",
       "542                      57               2.24  \n",
       "543                     100               1.95  \n",
       "544                       7               2.93  \n",
       "545                      43               5.52  \n",
       "546                      90               1.03  \n",
       "\n",
       "[547 rows x 5 columns]"
      ]
     },
     "execution_count": 4,
     "metadata": {},
     "output_type": "execute_result"
    }
   ],
   "source": [
    "Fs=[]\n",
    "for temp in temps:\n",
    "    Fs.append((temp-273.15)*4.5+32)\n",
    "makedict={\"Latitudes\":lats,\"Temperatures (F)\":Fs,\"Humidities (percents)\":humidities,\"Cloud Cover (percents)\":clouds,\"Wind Speeds (mph)\":speeds}\n",
    "weathercities_df=pd.DataFrame(makedict)\n",
    "weathercities_df"
   ]
  },
  {
   "cell_type": "code",
   "execution_count": 5,
   "metadata": {},
   "outputs": [
    {
     "data": {
      "text/html": [
       "<div>\n",
       "<style scoped>\n",
       "    .dataframe tbody tr th:only-of-type {\n",
       "        vertical-align: middle;\n",
       "    }\n",
       "\n",
       "    .dataframe tbody tr th {\n",
       "        vertical-align: top;\n",
       "    }\n",
       "\n",
       "    .dataframe thead th {\n",
       "        text-align: right;\n",
       "    }\n",
       "</style>\n",
       "<table border=\"1\" class=\"dataframe\">\n",
       "  <thead>\n",
       "    <tr style=\"text-align: right;\">\n",
       "      <th></th>\n",
       "      <th>Latitudes</th>\n",
       "      <th>Temperatures (F)</th>\n",
       "      <th>Humidities (percents)</th>\n",
       "      <th>Cloud Cover (percents)</th>\n",
       "      <th>Wind Speeds (mph)</th>\n",
       "    </tr>\n",
       "  </thead>\n",
       "  <tbody>\n",
       "    <tr>\n",
       "      <th>count</th>\n",
       "      <td>547.000000</td>\n",
       "      <td>547.000000</td>\n",
       "      <td>547.000000</td>\n",
       "      <td>547.000000</td>\n",
       "      <td>547.000000</td>\n",
       "    </tr>\n",
       "    <tr>\n",
       "      <th>mean</th>\n",
       "      <td>19.150823</td>\n",
       "      <td>128.179150</td>\n",
       "      <td>66.952468</td>\n",
       "      <td>51.930530</td>\n",
       "      <td>3.580475</td>\n",
       "    </tr>\n",
       "    <tr>\n",
       "      <th>std</th>\n",
       "      <td>33.008849</td>\n",
       "      <td>35.417719</td>\n",
       "      <td>21.629953</td>\n",
       "      <td>37.538048</td>\n",
       "      <td>2.468373</td>\n",
       "    </tr>\n",
       "    <tr>\n",
       "      <th>min</th>\n",
       "      <td>-54.800000</td>\n",
       "      <td>29.120000</td>\n",
       "      <td>10.000000</td>\n",
       "      <td>0.000000</td>\n",
       "      <td>0.000000</td>\n",
       "    </tr>\n",
       "    <tr>\n",
       "      <th>25%</th>\n",
       "      <td>-7.175000</td>\n",
       "      <td>100.602500</td>\n",
       "      <td>55.000000</td>\n",
       "      <td>14.500000</td>\n",
       "      <td>1.760000</td>\n",
       "    </tr>\n",
       "    <tr>\n",
       "      <th>50%</th>\n",
       "      <td>21.402200</td>\n",
       "      <td>133.385000</td>\n",
       "      <td>72.000000</td>\n",
       "      <td>55.000000</td>\n",
       "      <td>3.050000</td>\n",
       "    </tr>\n",
       "    <tr>\n",
       "      <th>75%</th>\n",
       "      <td>46.202300</td>\n",
       "      <td>153.950000</td>\n",
       "      <td>84.000000</td>\n",
       "      <td>90.000000</td>\n",
       "      <td>5.085000</td>\n",
       "    </tr>\n",
       "    <tr>\n",
       "      <th>max</th>\n",
       "      <td>78.218600</td>\n",
       "      <td>218.975000</td>\n",
       "      <td>100.000000</td>\n",
       "      <td>100.000000</td>\n",
       "      <td>13.240000</td>\n",
       "    </tr>\n",
       "  </tbody>\n",
       "</table>\n",
       "</div>"
      ],
      "text/plain": [
       "        Latitudes  Temperatures (F)  Humidities (percents)  \\\n",
       "count  547.000000        547.000000             547.000000   \n",
       "mean    19.150823        128.179150              66.952468   \n",
       "std     33.008849         35.417719              21.629953   \n",
       "min    -54.800000         29.120000              10.000000   \n",
       "25%     -7.175000        100.602500              55.000000   \n",
       "50%     21.402200        133.385000              72.000000   \n",
       "75%     46.202300        153.950000              84.000000   \n",
       "max     78.218600        218.975000             100.000000   \n",
       "\n",
       "       Cloud Cover (percents)  Wind Speeds (mph)  \n",
       "count              547.000000         547.000000  \n",
       "mean                51.930530           3.580475  \n",
       "std                 37.538048           2.468373  \n",
       "min                  0.000000           0.000000  \n",
       "25%                 14.500000           1.760000  \n",
       "50%                 55.000000           3.050000  \n",
       "75%                 90.000000           5.085000  \n",
       "max                100.000000          13.240000  "
      ]
     },
     "execution_count": 5,
     "metadata": {},
     "output_type": "execute_result"
    }
   ],
   "source": [
    "descript_df=weathercities_df.describe()\n",
    "descript_df"
   ]
  },
  {
   "cell_type": "markdown",
   "metadata": {},
   "source": [
    "## Inspect the data and remove the cities where the humidity > 100%.\n",
    "----\n",
    "Skip this step if there are no cities that have humidity > 100%. "
   ]
  },
  {
   "cell_type": "markdown",
   "metadata": {},
   "source": [
    "## Plotting the Data\n",
    "* Use proper labeling of the plots using plot titles (including date of analysis) and axes labels.\n",
    "* Save the plotted figures as .pngs."
   ]
  },
  {
   "cell_type": "markdown",
   "metadata": {},
   "source": [
    "## Latitude vs. Temperature Plot"
   ]
  },
  {
   "cell_type": "code",
   "execution_count": 6,
   "metadata": {
    "scrolled": true
   },
   "outputs": [
    {
     "name": "stdout",
     "output_type": "stream",
     "text": [
      "Here I am plotting temperature in fahrenheit against latitude.\n"
     ]
    },
    {
     "data": {
      "image/png": "[encoded data removed]",
      "text/plain": [
       "<Figure size 432x288 with 1 Axes>"
      ]
     },
     "metadata": {
      "needs_background": "light"
     },
     "output_type": "display_data"
    }
   ],
   "source": [
    "plt.scatter(lats,Fs)\n",
    "plt.xlabel(\"Latitudes\")\n",
    "plt.ylabel(\"Temperatures (F)\")\n",
    "plt.title(\"City Latitudes vs. City Temperatures (F)\")\n",
    "plt.savefig(\"lattem.png\")\n",
    "print(\"Here I am plotting temperature in fahrenheit against latitude.\")"
   ]
  },
  {
   "cell_type": "markdown",
   "metadata": {},
   "source": [
    "## Latitude vs. Humidity Plot"
   ]
  },
  {
   "cell_type": "code",
   "execution_count": 7,
   "metadata": {},
   "outputs": [
    {
     "name": "stdout",
     "output_type": "stream",
     "text": [
      "Here I am plotting % humidity against latitude.\n"
     ]
    },
    {
     "data": {
      "image/png": "[encoded data removed]",
      "text/plain": [
       "<Figure size 432x288 with 1 Axes>"
      ]
     },
     "metadata": {
      "needs_background": "light"
     },
     "output_type": "display_data"
    }
   ],
   "source": [
    "plt.scatter(lats,humidities)\n",
    "plt.xlabel(\"Latitudes\")\n",
    "plt.ylabel(\"Humidities (%)\")\n",
    "plt.title(\"City Latitudes vs. City Humidities (%)\")\n",
    "plt.savefig(\"lathum.png\")\n",
    "print(\"Here I am plotting % humidity against latitude.\")"
   ]
  },
  {
   "cell_type": "markdown",
   "metadata": {},
   "source": [
    "## Latitude vs. Cloudiness Plot"
   ]
  },
  {
   "cell_type": "code",
   "execution_count": 8,
   "metadata": {},
   "outputs": [
    {
     "name": "stdout",
     "output_type": "stream",
     "text": [
      "Here I am plotting % cloud cover against latitude.\n"
     ]
    },
    {
     "data": {
      "image/png": "[encoded data removed]",
      "text/plain": [
       "<Figure size 432x288 with 1 Axes>"
      ]
     },
     "metadata": {
      "needs_background": "light"
     },
     "output_type": "display_data"
    }
   ],
   "source": [
    "plt.scatter(lats,clouds)\n",
    "plt.xlabel(\"Latitudes\")\n",
    "plt.ylabel(\"Cloud Cover (%)\")\n",
    "plt.title(\"City Latitudes vs. City Cloud Cover (%)\")\n",
    "plt.savefig(\"latclo.png\")\n",
    "print(\"Here I am plotting % cloud cover against latitude.\")"
   ]
  },
  {
   "cell_type": "markdown",
   "metadata": {},
   "source": [
    "## Latitude vs. Wind Speed Plot"
   ]
  },
  {
   "cell_type": "code",
   "execution_count": 9,
   "metadata": {},
   "outputs": [
    {
     "name": "stdout",
     "output_type": "stream",
     "text": [
      "Here I am plotting wind speeds, in miles per hour, against latitude.\n"
     ]
    },
    {
     "data": {
      "image/png": "[encoded data removed]",
      "text/plain": [
       "<Figure size 432x288 with 1 Axes>"
      ]
     },
     "metadata": {
      "needs_background": "light"
     },
     "output_type": "display_data"
    }
   ],
   "source": [
    "plt.scatter(lats,speeds)\n",
    "plt.xlabel(\"Latitudes\")\n",
    "plt.ylabel(\"Wind Speeds (mph)\")\n",
    "plt.title(\"City Latitudes vs. City Wind Speeds (%)\")\n",
    "plt.savefig(\"latspe.png\")\n",
    "print(\"Here I am plotting wind speeds, in miles per hour, against latitude.\")"
   ]
  },
  {
   "cell_type": "markdown",
   "metadata": {},
   "source": [
    "## Linear Regression"
   ]
  },
  {
   "cell_type": "code",
   "execution_count": 10,
   "metadata": {},
   "outputs": [
    {
     "data": {
      "text/html": [
       "<div>\n",
       "<style scoped>\n",
       "    .dataframe tbody tr th:only-of-type {\n",
       "        vertical-align: middle;\n",
       "    }\n",
       "\n",
       "    .dataframe tbody tr th {\n",
       "        vertical-align: top;\n",
       "    }\n",
       "\n",
       "    .dataframe thead th {\n",
       "        text-align: right;\n",
       "    }\n",
       "</style>\n",
       "<table border=\"1\" class=\"dataframe\">\n",
       "  <thead>\n",
       "    <tr style=\"text-align: right;\">\n",
       "      <th></th>\n",
       "      <th>Latitudes</th>\n",
       "      <th>Temperatures (F)</th>\n",
       "      <th>Humidities (percents)</th>\n",
       "      <th>Cloud Cover (percents)</th>\n",
       "      <th>Wind Speeds (mph)</th>\n",
       "    </tr>\n",
       "  </thead>\n",
       "  <tbody>\n",
       "    <tr>\n",
       "      <th>Latitudes</th>\n",
       "      <td>1.000000</td>\n",
       "      <td>-0.035639</td>\n",
       "      <td>0.009333</td>\n",
       "      <td>0.161764</td>\n",
       "      <td>-0.083438</td>\n",
       "    </tr>\n",
       "    <tr>\n",
       "      <th>Temperatures (F)</th>\n",
       "      <td>-0.035639</td>\n",
       "      <td>1.000000</td>\n",
       "      <td>-0.353575</td>\n",
       "      <td>-0.158123</td>\n",
       "      <td>0.017282</td>\n",
       "    </tr>\n",
       "    <tr>\n",
       "      <th>Humidities (percents)</th>\n",
       "      <td>0.009333</td>\n",
       "      <td>-0.353575</td>\n",
       "      <td>1.000000</td>\n",
       "      <td>0.389293</td>\n",
       "      <td>-0.076027</td>\n",
       "    </tr>\n",
       "    <tr>\n",
       "      <th>Cloud Cover (percents)</th>\n",
       "      <td>0.161764</td>\n",
       "      <td>-0.158123</td>\n",
       "      <td>0.389293</td>\n",
       "      <td>1.000000</td>\n",
       "      <td>-0.005378</td>\n",
       "    </tr>\n",
       "    <tr>\n",
       "      <th>Wind Speeds (mph)</th>\n",
       "      <td>-0.083438</td>\n",
       "      <td>0.017282</td>\n",
       "      <td>-0.076027</td>\n",
       "      <td>-0.005378</td>\n",
       "      <td>1.000000</td>\n",
       "    </tr>\n",
       "  </tbody>\n",
       "</table>\n",
       "</div>"
      ],
      "text/plain": [
       "                        Latitudes  Temperatures (F)  Humidities (percents)  \\\n",
       "Latitudes                1.000000         -0.035639               0.009333   \n",
       "Temperatures (F)        -0.035639          1.000000              -0.353575   \n",
       "Humidities (percents)    0.009333         -0.353575               1.000000   \n",
       "Cloud Cover (percents)   0.161764         -0.158123               0.389293   \n",
       "Wind Speeds (mph)       -0.083438          0.017282              -0.076027   \n",
       "\n",
       "                        Cloud Cover (percents)  Wind Speeds (mph)  \n",
       "Latitudes                             0.161764          -0.083438  \n",
       "Temperatures (F)                     -0.158123           0.017282  \n",
       "Humidities (percents)                 0.389293          -0.076027  \n",
       "Cloud Cover (percents)                1.000000          -0.005378  \n",
       "Wind Speeds (mph)                    -0.005378           1.000000  "
      ]
     },
     "execution_count": 10,
     "metadata": {},
     "output_type": "execute_result"
    }
   ],
   "source": [
    "weathercities_df.corr()"
   ]
  },
  {
   "cell_type": "markdown",
   "metadata": {},
   "source": [
    "####  Northern Hemisphere - Max Temp vs. Latitude Linear Regression"
   ]
  },
  {
   "cell_type": "code",
   "execution_count": 44,
   "metadata": {},
   "outputs": [
    {
     "data": {
      "image/png": "[encoded data removed]",
      "text/plain": [
       "<Figure size 432x288 with 1 Axes>"
      ]
     },
     "metadata": {
      "needs_background": "light"
     },
     "output_type": "display_data"
    },
    {
     "name": "stdout",
     "output_type": "stream",
     "text": [
      "Here, I am plotting latitude against maximum recorded temperature in the Northern Hemisphere.\n"
     ]
    }
   ],
   "source": [
    "northtemp_df=weathercities_df.loc[weathercities_df[\"Latitudes\"]>0]\n",
    "x=northtemp_df[\"Latitudes\"]\n",
    "y=northtemp_df[\"Temperatures (F)\"]\n",
    "res=linregress(x, y)\n",
    "plt.plot(x, y, 'o', label='original data')\n",
    "plt.plot(x, res.intercept + res.slope*x, 'r', label='fitted line')\n",
    "plt.legend()\n",
    "plt.show()\n",
    "print(\"Here, I am plotting latitude against maximum recorded temperature in the Northern Hemisphere.\")"
   ]
  },
  {
   "cell_type": "markdown",
   "metadata": {},
   "source": [
    "####  Southern Hemisphere - Max Temp vs. Latitude Linear Regression"
   ]
  },
  {
   "cell_type": "code",
   "execution_count": 45,
   "metadata": {},
   "outputs": [
    {
     "data": {
      "image/png": "[encoded data removed]",
      "text/plain": [
       "<Figure size 432x288 with 1 Axes>"
      ]
     },
     "metadata": {
      "needs_background": "light"
     },
     "output_type": "display_data"
    },
    {
     "name": "stdout",
     "output_type": "stream",
     "text": [
      "Here, I am plotting latitude against maximum recorded temperature in the Southern Hemisphere.\n"
     ]
    }
   ],
   "source": [
    "southtemp_df=weathercities_df.loc[weathercities_df[\"Latitudes\"]<0]\n",
    "x=southtemp_df[\"Latitudes\"]\n",
    "y=southtemp_df[\"Temperatures (F)\"]\n",
    "res=linregress(x, y)\n",
    "plt.plot(x, y, 'o', label='original data')\n",
    "plt.plot(x, res.intercept + res.slope*x, 'r', label='fitted line')\n",
    "plt.legend()\n",
    "plt.show()\n",
    "print(\"Here, I am plotting latitude against maximum recorded temperature in the Southern Hemisphere.\")"
   ]
  },
  {
   "cell_type": "markdown",
   "metadata": {},
   "source": [
    "####  Northern Hemisphere - Humidity (%) vs. Latitude Linear Regression"
   ]
  },
  {
   "cell_type": "code",
   "execution_count": 46,
   "metadata": {},
   "outputs": [
    {
     "data": {
      "image/png": "[encoded data removed]",
      "text/plain": [
       "<Figure size 432x288 with 1 Axes>"
      ]
     },
     "metadata": {
      "needs_background": "light"
     },
     "output_type": "display_data"
    },
    {
     "name": "stdout",
     "output_type": "stream",
     "text": [
      "Here, I am plotting latitude against maximum recorded temperature in the Northern Hemisphere.\n"
     ]
    }
   ],
   "source": [
    "northhum_df=weathercities_df.loc[weathercities_df[\"Latitudes\"]>0]\n",
    "x=northhum_df[\"Latitudes\"]\n",
    "y=northhum_df[\"Humidities (percents)\"]\n",
    "res=linregress(x, y)\n",
    "plt.plot(x, y, 'o', label='original data')\n",
    "plt.plot(x, res.intercept + res.slope*x, 'r', label='fitted line')\n",
    "plt.legend()\n",
    "plt.show()\n",
    "print(\"Here, I am plotting latitude against maximum recorded temperature in the Northern Hemisphere.\")"
   ]
  },
  {
   "cell_type": "markdown",
   "metadata": {},
   "source": [
    "####  Southern Hemisphere - Humidity (%) vs. Latitude Linear Regression"
   ]
  },
  {
   "cell_type": "code",
   "execution_count": 47,
   "metadata": {},
   "outputs": [
    {
     "data": {
      "image/png": "[encoded data removed]",
      "text/plain": [
       "<Figure size 432x288 with 1 Axes>"
      ]
     },
     "metadata": {
      "needs_background": "light"
     },
     "output_type": "display_data"
    },
    {
     "name": "stdout",
     "output_type": "stream",
     "text": [
      "Here, I am plotting latitude against maximum recorded temperature in the Southern Hemisphere.\n"
     ]
    }
   ],
   "source": [
    "southhum_df=weathercities_df.loc[weathercities_df[\"Latitudes\"]<0]\n",
    "x=southhum_df[\"Latitudes\"]\n",
    "y=southhum_df[\"Humidities (percents)\"]\n",
    "res=linregress(x, y)\n",
    "plt.plot(x, y, 'o', label='original data')\n",
    "plt.plot(x, res.intercept + res.slope*x, 'r', label='fitted line')\n",
    "plt.legend()\n",
    "plt.show()\n",
    "print(\"Here, I am plotting latitude against maximum recorded temperature in the Southern Hemisphere.\")"
   ]
  },
  {
   "cell_type": "markdown",
   "metadata": {},
   "source": [
    "####  Northern Hemisphere - Cloudiness (%) vs. Latitude Linear Regression"
   ]
  },
  {
   "cell_type": "code",
   "execution_count": 48,
   "metadata": {},
   "outputs": [
    {
     "data": {
      "image/png": "[encoded data removed]",
      "text/plain": [
       "<Figure size 432x288 with 1 Axes>"
      ]
     },
     "metadata": {
      "needs_background": "light"
     },
     "output_type": "display_data"
    },
    {
     "name": "stdout",
     "output_type": "stream",
     "text": [
      "Here, I am plotting latitude against maximum recorded temperature in the Northern Hemisphere.\n"
     ]
    }
   ],
   "source": [
    "northcloud_df=weathercities_df.loc[weathercities_df[\"Latitudes\"]>0]\n",
    "x=northcloud_df[\"Latitudes\"]\n",
    "y=northcloud_df[\"Cloud Cover (percents)\"]\n",
    "res=linregress(x, y)\n",
    "plt.plot(x, y, 'o', label='original data')\n",
    "plt.plot(x, res.intercept + res.slope*x, 'r', label='fitted line')\n",
    "plt.legend()\n",
    "plt.show()\n",
    "print(\"Here, I am plotting latitude against maximum recorded temperature in the Northern Hemisphere.\")"
   ]
  },
  {
   "cell_type": "markdown",
   "metadata": {},
   "source": [
    "####  Southern Hemisphere - Cloudiness (%) vs. Latitude Linear Regression"
   ]
  },
  {
   "cell_type": "code",
   "execution_count": 49,
   "metadata": {},
   "outputs": [
    {
     "data": {
      "image/png": "[encoded data removed]",
      "text/plain": [
       "<Figure size 432x288 with 1 Axes>"
      ]
     },
     "metadata": {
      "needs_background": "light"
     },
     "output_type": "display_data"
    },
    {
     "name": "stdout",
     "output_type": "stream",
     "text": [
      "Here, I am plotting latitude against maximum recorded temperature in the Southern Hemisphere.\n"
     ]
    }
   ],
   "source": [
    "southcloud_df=weathercities_df.loc[weathercities_df[\"Latitudes\"]<0]\n",
    "x=southcloud_df[\"Latitudes\"]\n",
    "y=southcloud_df[\"Cloud Cover (percents)\"]\n",
    "res=linregress(x, y)\n",
    "plt.plot(x, y, 'o', label='original data')\n",
    "plt.plot(x, res.intercept + res.slope*x, 'r', label='fitted line')\n",
    "plt.legend()\n",
    "plt.show()\n",
    "print(\"Here, I am plotting latitude against maximum recorded temperature in the Southern Hemisphere.\")"
   ]
  },
  {
   "cell_type": "markdown",
   "metadata": {},
   "source": [
    "####  Northern Hemisphere - Wind Speed (mph) vs. Latitude Linear Regression"
   ]
  },
  {
   "cell_type": "code",
   "execution_count": 50,
   "metadata": {},
   "outputs": [
    {
     "data": {
      "image/png": "[encoded data removed]",
      "text/plain": [
       "<Figure size 432x288 with 1 Axes>"
      ]
     },
     "metadata": {
      "needs_background": "light"
     },
     "output_type": "display_data"
    },
    {
     "name": "stdout",
     "output_type": "stream",
     "text": [
      "Here, I am plotting latitude against maximum recorded temperature in the Northern Hemisphere.\n"
     ]
    }
   ],
   "source": [
    "northwind_df=weathercities_df.loc[weathercities_df[\"Latitudes\"]>0]\n",
    "x=northwind_df[\"Latitudes\"]\n",
    "y=northwind_df[\"Wind Speeds (mph)\"]\n",
    "res=linregress(x, y)\n",
    "plt.plot(x, y, 'o', label='original data')\n",
    "plt.plot(x, res.intercept + res.slope*x, 'r', label='fitted line')\n",
    "plt.legend()\n",
    "plt.show()\n",
    "print(\"Here, I am plotting latitude against maximum recorded temperature in the Northern Hemisphere.\")"
   ]
  },
  {
   "cell_type": "markdown",
   "metadata": {},
   "source": [
    "####  Southern Hemisphere - Wind Speed (mph) vs. Latitude Linear Regression"
   ]
  },
  {
   "cell_type": "code",
   "execution_count": 51,
   "metadata": {},
   "outputs": [
    {
     "data": {
      "image/png": "[encoded data removed]",
      "text/plain": [
       "<Figure size 432x288 with 1 Axes>"
      ]
     },
     "metadata": {
      "needs_background": "light"
     },
     "output_type": "display_data"
    },
    {
     "name": "stdout",
     "output_type": "stream",
     "text": [
      "Here, I am plotting latitude against maximum recorded temperature in the Southern Hemisphere.\n"
     ]
    }
   ],
   "source": [
    "southwind_df=weathercities_df.loc[weathercities_df[\"Latitudes\"]<0]\n",
    "x=southwind_df[\"Latitudes\"]\n",
    "y=southwind_df[\"Wind Speeds (mph)\"]\n",
    "res=linregress(x, y)\n",
    "plt.plot(x, y, 'o', label='original data')\n",
    "plt.plot(x, res.intercept + res.slope*x, 'r', label='fitted line')\n",
    "plt.legend()\n",
    "plt.show()\n",
    "print(\"Here, I am plotting latitude against maximum recorded temperature in the Southern Hemisphere.\")"
   ]
  },
  {
   "cell_type": "code",
   "execution_count": null,
   "metadata": {},
   "outputs": [],
   "source": []
  }
 ],
 "metadata": {
  "anaconda-cloud": {},
  "kernel_info": {
   "name": "python3"
  },
  "kernelspec": {
   "display_name": "Python 3",
   "language": "python",
   "name": "python3"
  },
  "language_info": {
   "codemirror_mode": {
    "name": "ipython",
    "version": 3
   },
   "file_extension": ".py",
   "mimetype": "text/x-python",
   "name": "python",
   "nbconvert_exporter": "python",
   "pygments_lexer": "ipython3",
   "version": "3.8.3"
  },
  "latex_envs": {
   "LaTeX_envs_menu_present": true,
   "autoclose": false,
   "autocomplete": true,
   "bibliofile": "biblio.bib",
   "cite_by": "apalike",
   "current_citInitial": 1,
   "eqLabelWithNumbers": true,
   "eqNumInitial": 1,
   "hotkeys": {
    "equation": "Ctrl-E",
    "itemize": "Ctrl-I"
   },
   "labels_anchors": false,
   "latex_user_defs": false,
   "report_style_numbering": false,
   "user_envs_cfg": false
  },
  "nteract": {
   "version": "0.12.3"
  }
 },
 "nbformat": 4,
 "nbformat_minor": 2
}
