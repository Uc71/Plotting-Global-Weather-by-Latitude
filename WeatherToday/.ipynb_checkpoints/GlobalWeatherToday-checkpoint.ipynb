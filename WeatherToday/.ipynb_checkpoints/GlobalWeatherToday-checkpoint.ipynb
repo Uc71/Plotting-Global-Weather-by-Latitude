{
 "cells": [
  {
   "cell_type": "markdown",
   "metadata": {},
   "source": [
    "# Plotting Global Weather by Latitude"
   ]
  },
  {
   "cell_type": "code",
   "execution_count": 1,
   "metadata": {
    "scrolled": true
   },
   "outputs": [],
   "source": [
    "#I import my dependencies.\n",
    "import matplotlib.pyplot as plt\n",
    "import pandas as pd\n",
    "import numpy as np\n",
    "import requests\n",
    "import time\n",
    "from scipy.stats import linregress\n",
    "\n",
    "#I Import my API key.\n",
    "from config import weather_api_key\n",
    "\n",
    "#I incorporated citipy to determine cities based on latitude and longitude.\n",
    "import citipy\n",
    "from citipy import citipy\n",
    "\n",
    "#I set up an output file (CSV).\n",
    "output_data_file = \"output_data/cities.csv\"\n",
    "\n",
    "#I determine the proper ranges of latitudes and longitudes to cover Earth.\n",
    "lat_range = (-90, 90)\n",
    "lng_range = (-180, 180)"
   ]
  },
  {
   "cell_type": "markdown",
   "metadata": {},
   "source": [
    "## Generate Cities List"
   ]
  },
  {
   "cell_type": "code",
   "execution_count": 3,
   "metadata": {},
   "outputs": [
    {
     "data": {
      "text/plain": [
       "603"
      ]
     },
     "execution_count": 3,
     "metadata": {},
     "output_type": "execute_result"
    }
   ],
   "source": [
    "#I make a list for holding lat_lngs and another list for cities.\n",
    "lat_lngs = []\n",
    "cities = []\n",
    "\n",
    "#I create a set of random lat and lng combinations.\n",
    "lats = np.random.uniform(lat_range[0], lat_range[1], size=1500)\n",
    "lngs = np.random.uniform(lng_range[0], lng_range[1], size=1500)\n",
    "lat_lngs = zip(lats, lngs)\n",
    "\n",
    "#I identify the nearest city for each lat, lng combination using citipy.\n",
    "for lat_lng in lat_lngs:\n",
    "    city = citipy.nearest_city(lat_lng[0], lat_lng[1]).city_name\n",
    "    \n",
    "    #If the city is unique, then I add it to the cities list.\n",
    "    if city not in cities:\n",
    "        cities.append(city)\n",
    "\n",
    "#I print the city count to confirm sufficient count.\n",
    "len(cities)"
   ]
  },
  {
   "cell_type": "markdown",
   "metadata": {},
   "source": [
    "### Perform API Calls\n",
    "* Perform a weather check on each city using a series of successive API calls.\n",
    "* Include a print log of each city as it'sbeing processed (with the city number and city name).\n"
   ]
  },
  {
   "cell_type": "code",
   "execution_count": 4,
   "metadata": {
    "scrolled": true
   },
   "outputs": [
    {
     "name": "stdout",
     "output_type": "stream",
     "text": [
      "Beginning Data Retrieval\n",
      "-----------------------------\n",
      "Processing Record 1 of Set 1 | punta arenas\n",
      "Processing Record 2 of Set 1 | kapaa\n",
      "Processing Record 3 of Set 1 | kaitangata\n",
      "Processing Record 4 of Set 1 | cocobeach\n",
      "Processing Record 5 of Set 1 | samusu\n",
      "Processing Record 6 of Set 1 | port alfred\n",
      "Processing Record 7 of Set 1 | ancud\n",
      "Processing Record 8 of Set 1 | college\n",
      "Processing Record 9 of Set 1 | codrington\n",
      "Processing Record 10 of Set 1 | severo-kurilsk\n",
      "Processing Record 11 of Set 1 | ilulissat\n",
      "Processing Record 12 of Set 1 | airai\n",
      "Processing Record 13 of Set 1 | cape town\n",
      "Processing Record 14 of Set 1 | uk\n",
      "Processing Record 15 of Set 1 | wonthaggi\n",
      "Processing Record 16 of Set 1 | yar-sale\n",
      "Processing Record 17 of Set 1 | new norfolk\n",
      "Processing Record 18 of Set 1 | pangnirtung\n",
      "Processing Record 19 of Set 1 | nikolskoye\n",
      "Processing Record 20 of Set 1 | tiksi\n",
      "Processing Record 21 of Set 1 | hithadhoo\n",
      "Processing Record 22 of Set 1 | rikitea\n",
      "Processing Record 23 of Set 1 | puerto ayora\n",
      "Processing Record 24 of Set 1 | butaritari\n",
      "Processing Record 25 of Set 1 | saskylakh\n",
      "Processing Record 26 of Set 1 | tekirdag\n",
      "Processing Record 27 of Set 1 | arraial do cabo\n",
      "Processing Record 28 of Set 1 | bluff\n",
      "Processing Record 29 of Set 1 | winnemucca\n",
      "Processing Record 30 of Set 1 | mataura\n",
      "Processing Record 31 of Set 1 | llangefni\n",
      "Processing Record 32 of Set 1 | bengkulu\n",
      "Processing Record 33 of Set 1 | torbay\n",
      "Processing Record 34 of Set 1 | busselton\n",
      "Processing Record 35 of Set 1 | cidreira\n",
      "Processing Record 36 of Set 1 | cabo san lucas\n",
      "Processing Record 37 of Set 1 | goderich\n",
      "Processing Record 38 of Set 1 | osmena\n",
      "Processing Record 39 of Set 1 | upernavik\n",
      "Processing Record 40 of Set 1 | atuona\n",
      "Processing Record 41 of Set 1 | yefira\n",
      "Processing Record 42 of Set 1 | avarua\n",
      "Processing Record 43 of Set 1 | kununurra\n",
      "Processing Record 44 of Set 1 | banda aceh\n",
      "Processing Record 45 of Set 1 | lufilufi\n",
      "Processing Record 46 of Set 1 | cloquet\n",
      "Processing Record 47 of Set 1 | dingle\n",
      "Processing Record 48 of Set 1 | bambous virieux\n",
      "Processing Record 49 of Set 1 | provideniya\n",
      "Processing Record 50 of Set 1 | tokur\n",
      "Processing Record 51 of Set 1 | oksfjord\n",
      "Processing Record 52 of Set 1 | saint-philippe\n",
      "Processing Record 53 of Set 1 | bentiu\n",
      "Processing Record 54 of Set 1 | mahebourg\n",
      "Processing Record 55 of Set 1 | udachnyy\n",
      "Processing Record 56 of Set 1 | fortuna\n",
      "Processing Record 57 of Set 1 | jhelum\n",
      "Processing Record 58 of Set 1 | tashtyp\n",
      "Processing Record 59 of Set 1 | albany\n",
      "Processing Record 60 of Set 1 | portobelo\n",
      "Processing Record 61 of Set 1 | kailua\n",
      "Processing Record 62 of Set 1 | hobart\n",
      "Processing Record 63 of Set 1 | rocha\n",
      "Processing Record 64 of Set 1 | capitao poco\n",
      "Processing Record 65 of Set 1 | hamilton\n",
      "Processing Record 66 of Set 1 | haines junction\n",
      "Processing Record 67 of Set 1 | jamestown\n",
      "Processing Record 68 of Set 1 | sentyabrskiy\n",
      "Processing Record 69 of Set 1 | port lincoln\n",
      "Processing Record 70 of Set 1 | berlevag\n",
      "Processing Record 71 of Set 1 | hefei\n",
      "Processing Record 72 of Set 1 | cherskiy\n",
      "Processing Record 73 of Set 1 | vaini\n",
      "Processing Record 74 of Set 1 | belushya guba\n",
      "Processing Record 75 of Set 1 | pokhara\n",
      "Processing Record 76 of Set 1 | vallenar\n",
      "Processing Record 77 of Set 1 | lebu\n",
      "Processing Record 78 of Set 1 | faanui\n",
      "Processing Record 79 of Set 1 | esperance\n",
      "Processing Record 80 of Set 1 | hilo\n",
      "Processing Record 81 of Set 1 | hawera\n",
      "Processing Record 82 of Set 1 | elko\n",
      "Processing Record 83 of Set 1 | crestview\n",
      "Processing Record 84 of Set 1 | biak\n",
      "Processing Record 85 of Set 1 | hermanus\n",
      "Processing Record 86 of Set 1 | waingapu\n",
      "Processing Record 87 of Set 1 | ushuaia\n",
      "Processing Record 88 of Set 1 | dikson\n",
      "Processing Record 89 of Set 1 | binghamton\n",
      "Processing Record 90 of Set 1 | aksu\n",
      "Processing Record 91 of Set 1 | benha\n",
      "Processing Record 92 of Set 1 | inuvik\n",
      "Processing Record 93 of Set 1 | bethel\n",
      "Processing Record 94 of Set 1 | dunedin\n",
      "Processing Record 95 of Set 1 | avera\n",
      "Processing Record 96 of Set 1 | kidal\n",
      "Processing Record 97 of Set 1 | goya\n",
      "Processing Record 98 of Set 1 | chincha alta\n",
      "Processing Record 99 of Set 1 | hambantota\n",
      "Processing Record 100 of Set 1 | marshall\n",
      "Processing Record 101 of Set 1 | sechura\n",
      "Processing Record 102 of Set 1 | illoqqortoormiut\n",
      "Processing Record 103 of Set 1 | tuggurt\n",
      "Processing Record 104 of Set 1 | katsuura\n",
      "Processing Record 105 of Set 1 | clyde river\n",
      "Processing Record 106 of Set 1 | khatanga\n",
      "Processing Record 107 of Set 1 | port shepstone\n",
      "Processing Record 108 of Set 1 | makakilo city\n",
      "Processing Record 109 of Set 1 | san cristobal\n",
      "Processing Record 110 of Set 1 | kavieng\n",
      "Processing Record 111 of Set 1 | vaitupu\n",
      "Processing Record 112 of Set 1 | durango\n",
      "Processing Record 113 of Set 1 | lavrentiya\n",
      "Processing Record 114 of Set 1 | butembo\n",
      "Processing Record 115 of Set 1 | castro\n",
      "Processing Record 116 of Set 1 | thano bula khan\n",
      "Processing Record 117 of Set 1 | marcona\n",
      "Processing Record 118 of Set 1 | jujuy\n",
      "Processing Record 119 of Set 1 | mabaruma\n",
      "Processing Record 120 of Set 1 | berbera\n",
      "Processing Record 121 of Set 1 | ribeira grande\n",
      "Processing Record 122 of Set 1 | mao\n",
      "Processing Record 123 of Set 1 | moosomin\n",
      "Processing Record 124 of Set 1 | poshekhonye\n",
      "Processing Record 125 of Set 1 | yellowknife\n",
      "Processing Record 126 of Set 1 | glasgow\n",
      "Processing Record 127 of Set 1 | kodiak\n",
      "Processing Record 128 of Set 1 | klaksvik\n",
      "Processing Record 129 of Set 1 | arcos\n",
      "Processing Record 130 of Set 1 | jijiang\n",
      "Processing Record 131 of Set 1 | tolaga bay\n",
      "Processing Record 132 of Set 1 | aykhal\n",
      "Processing Record 133 of Set 1 | lasa\n",
      "Processing Record 134 of Set 1 | thompson\n",
      "Processing Record 135 of Set 1 | awbari\n",
      "Processing Record 136 of Set 1 | raahe\n",
      "Processing Record 137 of Set 1 | marawi\n",
      "Processing Record 138 of Set 1 | severo-yeniseyskiy\n",
      "Processing Record 139 of Set 1 | teguise\n",
      "Processing Record 140 of Set 1 | okhotsk\n",
      "Processing Record 141 of Set 1 | taolanaro\n",
      "Processing Record 142 of Set 1 | san patricio\n",
      "Processing Record 143 of Set 1 | yuli\n",
      "Processing Record 144 of Set 1 | isangel\n",
      "Processing Record 145 of Set 1 | mormugao\n",
      "Processing Record 146 of Set 1 | bulgan\n",
      "Processing Record 147 of Set 1 | mar del plata\n",
      "Processing Record 148 of Set 1 | kathmandu\n",
      "Processing Record 149 of Set 1 | sibu\n",
      "Processing Record 150 of Set 1 | shelburne\n",
      "Processing Record 151 of Set 1 | cockburn town\n",
      "Processing Record 152 of Set 1 | wamba\n",
      "Processing Record 153 of Set 1 | belmonte\n",
      "Processing Record 154 of Set 1 | pevek\n",
      "Processing Record 155 of Set 1 | norman wells\n",
      "Processing Record 156 of Set 1 | kamenskoye\n",
      "Processing Record 157 of Set 1 | hofn\n",
      "Processing Record 158 of Set 1 | todos santos\n",
      "Processing Record 159 of Set 1 | baie-comeau\n",
      "Processing Record 160 of Set 1 | vardo\n",
      "Processing Record 161 of Set 1 | wasilla\n",
      "Processing Record 162 of Set 1 | te anau\n",
      "Processing Record 163 of Set 1 | barrow\n",
      "Processing Record 164 of Set 1 | barentsburg\n",
      "Processing Record 165 of Set 1 | kutum\n",
      "Processing Record 166 of Set 1 | ponta do sol\n",
      "Processing Record 167 of Set 1 | srednekolymsk\n",
      "Processing Record 168 of Set 1 | saldanha\n",
      "Processing Record 169 of Set 1 | erzin\n",
      "Processing Record 170 of Set 1 | caceres\n",
      "Processing Record 171 of Set 1 | birjand\n",
      "Processing Record 172 of Set 1 | sedelnikovo\n",
      "Processing Record 173 of Set 1 | bacuit\n",
      "Processing Record 174 of Set 1 | srandakan\n",
      "Processing Record 175 of Set 1 | wenzhou\n",
      "Processing Record 176 of Set 1 | omboue\n",
      "Processing Record 177 of Set 1 | tabuk\n",
      "Processing Record 178 of Set 1 | high level\n",
      "Processing Record 179 of Set 1 | dwarka\n",
      "Processing Record 180 of Set 1 | yarmouth\n",
      "Processing Record 181 of Set 1 | grand gaube\n",
      "Processing Record 182 of Set 1 | vadso\n",
      "Processing Record 183 of Set 1 | maldonado\n",
      "Processing Record 184 of Set 1 | barkly west\n",
      "Processing Record 185 of Set 1 | senador jose porfirio\n",
      "Processing Record 186 of Set 1 | atar\n",
      "Processing Record 187 of Set 1 | coahuayana\n",
      "Processing Record 188 of Set 1 | mana\n",
      "Processing Record 189 of Set 1 | beyneu\n",
      "Processing Record 190 of Set 1 | hasaki\n",
      "Processing Record 191 of Set 1 | lompoc\n",
      "Processing Record 192 of Set 1 | fez\n",
      "Processing Record 193 of Set 1 | ajaccio\n",
      "Processing Record 194 of Set 1 | karratha\n",
      "Processing Record 195 of Set 1 | yoichi\n",
      "Processing Record 196 of Set 1 | bisho\n"
     ]
    },
    {
     "name": "stdout",
     "output_type": "stream",
     "text": [
      "Processing Record 197 of Set 1 | margate\n",
      "Processing Record 198 of Set 1 | thai binh\n",
      "Processing Record 199 of Set 1 | vila franca do campo\n",
      "Processing Record 200 of Set 1 | tasiilaq\n",
      "Processing Record 201 of Set 1 | bertoua\n",
      "Processing Record 202 of Set 1 | leh\n",
      "Processing Record 203 of Set 1 | bonnyville\n",
      "Processing Record 204 of Set 1 | qaanaaq\n",
      "Processing Record 205 of Set 1 | elliot lake\n",
      "Processing Record 206 of Set 1 | langenburg\n",
      "Processing Record 207 of Set 1 | bredasdorp\n",
      "Processing Record 208 of Set 1 | yerbogachen\n",
      "Processing Record 209 of Set 1 | port blair\n",
      "Processing Record 210 of Set 1 | hobyo\n",
      "Processing Record 211 of Set 1 | grand river south east\n",
      "Processing Record 212 of Set 1 | iisalmi\n",
      "Processing Record 213 of Set 1 | paramonga\n",
      "Processing Record 214 of Set 1 | totness\n",
      "Processing Record 215 of Set 1 | mys shmidta\n",
      "Processing Record 216 of Set 1 | hirado\n",
      "Processing Record 217 of Set 1 | vestmannaeyjar\n",
      "Processing Record 218 of Set 1 | bukama\n",
      "Processing Record 219 of Set 1 | faya\n",
      "Processing Record 220 of Set 1 | zavitinsk\n",
      "Processing Record 221 of Set 1 | mosalsk\n",
      "Processing Record 222 of Set 1 | coihaique\n",
      "Processing Record 223 of Set 1 | nizhneyansk\n",
      "Processing Record 224 of Set 1 | eyl\n",
      "Processing Record 225 of Set 1 | pierre\n",
      "Processing Record 226 of Set 1 | kerema\n",
      "Processing Record 227 of Set 1 | edd\n",
      "Processing Record 228 of Set 1 | kibala\n",
      "Processing Record 229 of Set 1 | marsa matruh\n",
      "Processing Record 230 of Set 1 | tahta\n",
      "Processing Record 231 of Set 1 | manaure\n",
      "Processing Record 232 of Set 1 | attawapiskat\n",
      "Processing Record 233 of Set 1 | port elizabeth\n",
      "Processing Record 234 of Set 1 | bria\n",
      "Processing Record 235 of Set 1 | padang\n",
      "Processing Record 236 of Set 1 | hailar\n",
      "Processing Record 237 of Set 1 | sam chuk\n",
      "Processing Record 238 of Set 1 | santa eulalia del rio\n",
      "Processing Record 239 of Set 1 | chuy\n",
      "Processing Record 240 of Set 1 | roald\n",
      "Processing Record 241 of Set 1 | carnarvon\n",
      "Processing Record 242 of Set 1 | lorengau\n",
      "Processing Record 243 of Set 1 | ballina\n",
      "Processing Record 244 of Set 1 | ganganagar\n",
      "Processing Record 245 of Set 1 | otradnoye\n",
      "Processing Record 246 of Set 1 | lapua\n",
      "Processing Record 247 of Set 1 | batagay-alyta\n",
      "Processing Record 248 of Set 1 | mogadishu\n",
      "Processing Record 249 of Set 1 | taoudenni\n",
      "Processing Record 250 of Set 1 | iquitos\n",
      "Processing Record 251 of Set 1 | pedasi\n",
      "Processing Record 252 of Set 1 | ostrovnoy\n",
      "Processing Record 253 of Set 1 | nuzvid\n",
      "Processing Record 254 of Set 1 | salmas\n",
      "Processing Record 255 of Set 1 | georgetown\n",
      "Processing Record 256 of Set 1 | mawlaik\n",
      "Processing Record 257 of Set 1 | namibe\n",
      "Processing Record 258 of Set 1 | selimpasa\n",
      "Processing Record 259 of Set 1 | oranjemund\n",
      "Processing Record 260 of Set 1 | east london\n",
      "Processing Record 261 of Set 1 | longyearbyen\n",
      "Processing Record 262 of Set 1 | vila\n",
      "Processing Record 263 of Set 1 | neyshabur\n",
      "Processing Record 264 of Set 1 | zilair\n",
      "Processing Record 265 of Set 1 | barra do corda\n",
      "Processing Record 266 of Set 1 | kadykchan\n",
      "Processing Record 267 of Set 1 | vao\n",
      "Processing Record 268 of Set 1 | takoradi\n",
      "Processing Record 269 of Set 1 | vestmanna\n",
      "Processing Record 270 of Set 1 | gorno-chuyskiy\n",
      "Processing Record 271 of Set 1 | bathsheba\n",
      "Processing Record 272 of Set 1 | tabiauea\n",
      "Processing Record 273 of Set 1 | amapa\n",
      "Processing Record 274 of Set 1 | kruisfontein\n",
      "Processing Record 275 of Set 1 | coquimbo\n",
      "Processing Record 276 of Set 1 | trojan\n",
      "Processing Record 277 of Set 1 | half moon bay\n",
      "Processing Record 278 of Set 1 | amderma\n",
      "Processing Record 279 of Set 1 | hastings\n",
      "Processing Record 280 of Set 1 | isla vista\n",
      "Processing Record 281 of Set 1 | divnomorskoye\n",
      "Processing Record 282 of Set 1 | vila velha\n",
      "Processing Record 283 of Set 1 | maputo\n",
      "Processing Record 284 of Set 1 | asau\n",
      "Processing Record 285 of Set 1 | fairbanks\n",
      "Processing Record 286 of Set 1 | ilinsko-podomskoye\n",
      "Processing Record 287 of Set 1 | lewisporte\n",
      "Processing Record 288 of Set 1 | yumen\n",
      "Processing Record 289 of Set 1 | aklavik\n",
      "Processing Record 290 of Set 1 | dunda\n",
      "Processing Record 291 of Set 1 | fatezh\n",
      "Processing Record 292 of Set 1 | bud\n",
      "Processing Record 293 of Set 1 | acajutla\n",
      "Processing Record 294 of Set 1 | marzuq\n",
      "Processing Record 295 of Set 1 | tsihombe\n",
      "Processing Record 296 of Set 1 | skalistyy\n",
      "Processing Record 297 of Set 1 | warqla\n",
      "Processing Record 298 of Set 1 | korla\n",
      "Processing Record 299 of Set 1 | santa isabel do rio negro\n",
      "Processing Record 300 of Set 1 | kavaratti\n",
      "Processing Record 301 of Set 1 | bubaque\n",
      "Processing Record 302 of Set 1 | ulladulla\n",
      "Processing Record 303 of Set 1 | markova\n",
      "Processing Record 304 of Set 1 | yueyang\n",
      "Processing Record 305 of Set 1 | sinkat\n",
      "Processing Record 306 of Set 1 | zhigansk\n",
      "Processing Record 307 of Set 1 | auki\n",
      "Processing Record 308 of Set 1 | touros\n",
      "Processing Record 309 of Set 1 | filadelfia\n",
      "Processing Record 310 of Set 1 | tevaitoa\n",
      "Processing Record 311 of Set 1 | iqaluit\n",
      "Processing Record 312 of Set 1 | zhenjiang\n",
      "Processing Record 313 of Set 1 | guliston\n",
      "Processing Record 314 of Set 1 | mareeba\n",
      "Processing Record 315 of Set 1 | harper\n",
      "Processing Record 316 of Set 1 | los llanos de aridane\n",
      "Processing Record 317 of Set 1 | sao filipe\n",
      "Processing Record 318 of Set 1 | lagoa\n",
      "Processing Record 319 of Set 1 | sioux lookout\n",
      "Processing Record 320 of Set 1 | solec kujawski\n",
      "Processing Record 321 of Set 1 | beloha\n",
      "Processing Record 322 of Set 1 | kanchanaburi\n",
      "Processing Record 323 of Set 1 | louisbourg\n",
      "Processing Record 324 of Set 1 | leningradskiy\n",
      "Processing Record 325 of Set 1 | jakar\n",
      "Processing Record 326 of Set 1 | jaena\n",
      "Processing Record 327 of Set 1 | sao lourenco do oeste\n",
      "Processing Record 328 of Set 1 | ahuimanu\n",
      "Processing Record 329 of Set 1 | monrovia\n",
      "Processing Record 330 of Set 1 | chifeng\n",
      "Processing Record 331 of Set 1 | narsaq\n",
      "Processing Record 332 of Set 1 | tecpan\n",
      "Processing Record 333 of Set 1 | puerto baquerizo moreno\n",
      "Processing Record 334 of Set 1 | ko samui\n",
      "Processing Record 335 of Set 1 | tuktoyaktuk\n",
      "Processing Record 336 of Set 1 | mehamn\n",
      "Processing Record 337 of Set 1 | ailigandi\n",
      "Processing Record 338 of Set 1 | villa carlos paz\n",
      "Processing Record 339 of Set 1 | atyuryevo\n",
      "Processing Record 340 of Set 1 | port hardy\n",
      "Processing Record 341 of Set 1 | mago\n",
      "Processing Record 342 of Set 1 | yuancheng\n",
      "Processing Record 343 of Set 1 | talnakh\n",
      "Processing Record 344 of Set 1 | pyapon\n",
      "Processing Record 345 of Set 1 | lumeje\n",
      "Processing Record 346 of Set 1 | loa janan\n",
      "Processing Record 347 of Set 1 | senneterre\n",
      "Processing Record 348 of Set 1 | ocsod\n",
      "Processing Record 349 of Set 1 | christchurch\n",
      "Processing Record 350 of Set 1 | mayo\n",
      "Processing Record 351 of Set 1 | okha\n",
      "Processing Record 352 of Set 1 | tromso\n",
      "Processing Record 353 of Set 1 | san juan evangelista\n",
      "Processing Record 354 of Set 1 | kloulklubed\n",
      "Processing Record 355 of Set 1 | wanning\n",
      "Processing Record 356 of Set 1 | barcelos\n",
      "Processing Record 357 of Set 1 | aygedzor\n",
      "Processing Record 358 of Set 1 | gilgit\n",
      "Processing Record 359 of Set 1 | beringovskiy\n",
      "Processing Record 360 of Set 1 | bonanza\n",
      "Processing Record 361 of Set 1 | shangzhi\n",
      "Processing Record 362 of Set 1 | palabuhanratu\n",
      "Processing Record 363 of Set 1 | nadym\n",
      "Processing Record 364 of Set 1 | surat\n",
      "Processing Record 365 of Set 1 | alta floresta\n",
      "Processing Record 366 of Set 1 | abu zabad\n",
      "Processing Record 367 of Set 1 | olafsvik\n",
      "Processing Record 368 of Set 1 | calbuco\n",
      "Processing Record 369 of Set 1 | broome\n",
      "Processing Record 370 of Set 1 | santa helena\n",
      "Processing Record 371 of Set 1 | lata\n",
      "Processing Record 372 of Set 1 | porto santo\n",
      "Processing Record 373 of Set 1 | malwan\n",
      "Processing Record 374 of Set 1 | george town\n",
      "Processing Record 375 of Set 1 | saleaula\n",
      "Processing Record 376 of Set 1 | makuyuni\n",
      "Processing Record 377 of Set 1 | saint george\n",
      "Processing Record 378 of Set 1 | windhoek\n",
      "Processing Record 379 of Set 1 | manaus\n",
      "Processing Record 380 of Set 1 | hohhot\n",
      "Processing Record 381 of Set 1 | el tigre\n",
      "Processing Record 382 of Set 1 | hami\n",
      "Processing Record 383 of Set 1 | nikolsk\n",
      "Processing Record 384 of Set 1 | richards bay\n",
      "Processing Record 385 of Set 1 | adelaide\n",
      "Processing Record 386 of Set 1 | tibu\n",
      "Processing Record 387 of Set 1 | hay river\n",
      "Processing Record 388 of Set 1 | derzhavinsk\n",
      "Processing Record 389 of Set 1 | souillac\n"
     ]
    },
    {
     "name": "stdout",
     "output_type": "stream",
     "text": [
      "Processing Record 390 of Set 1 | ucluelet\n",
      "Processing Record 391 of Set 1 | chynadiyovo\n",
      "Processing Record 392 of Set 1 | alofi\n",
      "Processing Record 393 of Set 1 | agen\n",
      "Processing Record 394 of Set 1 | turbana\n",
      "Processing Record 395 of Set 1 | alyangula\n",
      "Processing Record 396 of Set 1 | hakkari\n",
      "Processing Record 397 of Set 1 | mrirt\n",
      "Processing Record 398 of Set 1 | skjervoy\n",
      "Processing Record 399 of Set 1 | bolobo\n",
      "Processing Record 400 of Set 1 | andenes\n",
      "Processing Record 401 of Set 1 | cayenne\n",
      "Processing Record 402 of Set 1 | jumla\n",
      "Processing Record 403 of Set 1 | livingston\n",
      "Processing Record 404 of Set 1 | tessalit\n",
      "Processing Record 405 of Set 1 | milkovo\n",
      "Processing Record 406 of Set 1 | san quintin\n",
      "Processing Record 407 of Set 1 | jati\n",
      "Processing Record 408 of Set 1 | kostomuksha\n",
      "Processing Record 409 of Set 1 | pacific grove\n",
      "Processing Record 410 of Set 1 | waiblingen\n",
      "Processing Record 411 of Set 1 | mutare\n",
      "Processing Record 412 of Set 1 | mkokotoni\n",
      "Processing Record 413 of Set 1 | trairi\n",
      "Processing Record 414 of Set 1 | londonderry\n",
      "Processing Record 415 of Set 1 | sitka\n",
      "Processing Record 416 of Set 1 | tuatapere\n",
      "Processing Record 417 of Set 1 | wajima\n",
      "Processing Record 418 of Set 1 | puerto del rosario\n",
      "Processing Record 419 of Set 1 | nanortalik\n",
      "Processing Record 420 of Set 1 | shubarkuduk\n",
      "Processing Record 421 of Set 1 | calvia\n",
      "Processing Record 422 of Set 1 | nanaimo\n",
      "Processing Record 423 of Set 1 | kahului\n",
      "Processing Record 424 of Set 1 | kyra\n",
      "Processing Record 425 of Set 1 | nyurba\n",
      "Processing Record 426 of Set 1 | epe\n",
      "Processing Record 427 of Set 1 | camana\n",
      "Processing Record 428 of Set 1 | ormara\n",
      "Processing Record 429 of Set 1 | sorong\n",
      "Processing Record 430 of Set 1 | moyale\n",
      "Processing Record 431 of Set 1 | bandarbeyla\n",
      "Processing Record 432 of Set 1 | longlac\n",
      "Processing Record 433 of Set 1 | acapulco\n",
      "Processing Record 434 of Set 1 | itoman\n",
      "Processing Record 435 of Set 1 | ukiah\n",
      "Processing Record 436 of Set 1 | ovsyanka\n",
      "Processing Record 437 of Set 1 | portland\n",
      "Processing Record 438 of Set 1 | setermoen\n",
      "Processing Record 439 of Set 1 | la palma\n",
      "Processing Record 440 of Set 1 | viedma\n",
      "Processing Record 441 of Set 1 | vanimo\n",
      "Processing Record 442 of Set 1 | riyadh\n",
      "Processing Record 443 of Set 1 | shar\n",
      "Processing Record 444 of Set 1 | lokosovo\n",
      "Processing Record 445 of Set 1 | mananjary\n",
      "Processing Record 446 of Set 1 | barbar\n",
      "Processing Record 447 of Set 1 | rovnoye\n",
      "Processing Record 448 of Set 1 | gotsu\n",
      "Processing Record 449 of Set 1 | nalut\n",
      "Processing Record 450 of Set 1 | ugoofaaru\n",
      "Processing Record 451 of Set 1 | marshfield\n",
      "Processing Record 452 of Set 1 | tezu\n",
      "Processing Record 453 of Set 1 | opuwo\n",
      "Processing Record 454 of Set 1 | talara\n",
      "Processing Record 455 of Set 1 | satitoa\n",
      "Processing Record 456 of Set 1 | belen\n",
      "Processing Record 457 of Set 1 | palu\n",
      "Processing Record 458 of Set 1 | nemuro\n",
      "Processing Record 459 of Set 1 | ust-kuyga\n",
      "Processing Record 460 of Set 1 | lima\n",
      "Processing Record 461 of Set 1 | port augusta\n",
      "Processing Record 462 of Set 1 | tubruq\n",
      "Processing Record 463 of Set 1 | aflu\n",
      "Processing Record 464 of Set 1 | tyrma\n",
      "Processing Record 465 of Set 1 | yirol\n",
      "Processing Record 466 of Set 1 | karema\n",
      "Processing Record 467 of Set 1 | karaul\n",
      "Processing Record 468 of Set 1 | sorvag\n",
      "Processing Record 469 of Set 1 | solnechnyy\n",
      "Processing Record 470 of Set 1 | nizhniy kuranakh\n",
      "Processing Record 471 of Set 1 | poum\n",
      "Processing Record 472 of Set 1 | sur\n",
      "Processing Record 473 of Set 1 | sobolevo\n",
      "Processing Record 474 of Set 1 | tripoli\n",
      "Processing Record 475 of Set 1 | slave lake\n",
      "Processing Record 476 of Set 1 | moron\n",
      "Processing Record 477 of Set 1 | kaili\n",
      "Processing Record 478 of Set 1 | kamien pomorski\n",
      "Processing Record 479 of Set 1 | chokurdakh\n",
      "Processing Record 480 of Set 1 | nogliki\n",
      "Processing Record 481 of Set 1 | camacha\n",
      "Processing Record 482 of Set 1 | rungata\n",
      "Processing Record 483 of Set 1 | porgera\n",
      "Processing Record 484 of Set 1 | baykit\n",
      "Processing Record 485 of Set 1 | pisco\n",
      "Processing Record 486 of Set 1 | nelson bay\n",
      "Processing Record 487 of Set 1 | samalaeulu\n",
      "Processing Record 488 of Set 1 | shimoda\n",
      "Processing Record 489 of Set 1 | colares\n",
      "Processing Record 490 of Set 1 | kaitong\n",
      "Processing Record 491 of Set 1 | tarudant\n",
      "Processing Record 492 of Set 1 | santa maria\n",
      "Processing Record 493 of Set 1 | waipawa\n",
      "Processing Record 494 of Set 1 | becerril\n",
      "Processing Record 495 of Set 1 | jalu\n",
      "Processing Record 496 of Set 1 | kachiry\n",
      "Processing Record 497 of Set 1 | trinidad\n",
      "Processing Record 498 of Set 1 | lagdo\n",
      "Processing Record 499 of Set 1 | mongo\n",
      "Processing Record 500 of Set 1 | tarauaca\n",
      "Processing Record 501 of Set 1 | ranchuelo\n",
      "Processing Record 502 of Set 1 | salta\n",
      "Processing Record 503 of Set 1 | lhuntshi\n",
      "Processing Record 504 of Set 1 | komsomolskiy\n",
      "Processing Record 505 of Set 1 | anshun\n",
      "Processing Record 506 of Set 1 | corralillo\n",
      "Processing Record 507 of Set 1 | caravelas\n",
      "Processing Record 508 of Set 1 | fuerte\n",
      "Processing Record 509 of Set 1 | evensk\n",
      "Processing Record 510 of Set 1 | melilla\n",
      "Processing Record 511 of Set 1 | la ronge\n",
      "Processing Record 512 of Set 1 | praia\n",
      "Processing Record 513 of Set 1 | saint anthony\n",
      "Processing Record 514 of Set 1 | batticaloa\n",
      "Processing Record 515 of Set 1 | dongsheng\n",
      "Processing Record 516 of Set 1 | barabai\n",
      "Processing Record 517 of Set 1 | coracora\n",
      "Processing Record 518 of Set 1 | owando\n",
      "Processing Record 519 of Set 1 | hualmay\n",
      "Processing Record 520 of Set 1 | peniche\n",
      "Processing Record 521 of Set 1 | brus\n",
      "Processing Record 522 of Set 1 | piedras negras\n",
      "Processing Record 523 of Set 1 | jalapa\n",
      "Processing Record 524 of Set 1 | shingu\n",
      "Processing Record 525 of Set 1 | darhan\n",
      "Processing Record 526 of Set 1 | asheboro\n",
      "Processing Record 527 of Set 1 | pangkalanbuun\n",
      "Processing Record 528 of Set 1 | iralaya\n",
      "Processing Record 529 of Set 1 | victoria\n",
      "Processing Record 530 of Set 1 | mount gambier\n",
      "Processing Record 531 of Set 1 | kawalu\n",
      "Processing Record 532 of Set 1 | srednebelaya\n",
      "Processing Record 533 of Set 1 | galbshtadt\n",
      "Processing Record 534 of Set 1 | barreirinhas\n",
      "Processing Record 535 of Set 1 | tura\n",
      "Processing Record 536 of Set 1 | yabrud\n",
      "Processing Record 537 of Set 1 | cam ranh\n",
      "Processing Record 538 of Set 1 | kirillov\n",
      "Processing Record 539 of Set 1 | shintomi\n",
      "Processing Record 540 of Set 1 | tarpon springs\n",
      "Processing Record 541 of Set 1 | lolua\n",
      "Processing Record 542 of Set 1 | tumannyy\n",
      "Processing Record 543 of Set 1 | provost\n",
      "Processing Record 544 of Set 1 | fort saint james\n",
      "Processing Record 545 of Set 1 | chapais\n",
      "Processing Record 546 of Set 1 | grand baie\n",
      "Processing Record 547 of Set 1 | sibolga\n",
      "Processing Record 548 of Set 1 | sandakan\n",
      "Processing Record 549 of Set 1 | kota tinggi\n",
      "Processing Record 550 of Set 1 | berdigestyakh\n",
      "Processing Record 551 of Set 1 | balabac\n",
      "Processing Record 552 of Set 1 | esmeraldas\n",
      "Processing Record 553 of Set 1 | san jeronimo\n",
      "Processing Record 554 of Set 1 | laurel\n",
      "Processing Record 555 of Set 1 | pumiao\n",
      "Processing Record 556 of Set 1 | mosquera\n",
      "Processing Record 557 of Set 1 | tutoia\n",
      "Processing Record 558 of Set 1 | meulaboh\n",
      "Processing Record 559 of Set 1 | krasnyy yar\n",
      "Processing Record 560 of Set 1 | myitkyina\n",
      "Processing Record 561 of Set 1 | inyonga\n",
      "Processing Record 562 of Set 1 | pafos\n",
      "Processing Record 563 of Set 1 | kushiro\n",
      "Processing Record 564 of Set 1 | nuuk\n",
      "Processing Record 565 of Set 1 | blackwater\n",
      "Processing Record 566 of Set 1 | careiro da varzea\n",
      "Processing Record 567 of Set 1 | ahipara\n",
      "Processing Record 568 of Set 1 | abashiri\n",
      "Processing Record 569 of Set 1 | charlestown\n",
      "Processing Record 570 of Set 1 | bara\n",
      "Processing Record 571 of Set 1 | takapau\n",
      "Processing Record 572 of Set 1 | karoi\n",
      "Processing Record 573 of Set 1 | dickinson\n",
      "Processing Record 574 of Set 1 | benguela\n",
      "Processing Record 575 of Set 1 | puro\n",
      "Processing Record 576 of Set 1 | guerrero negro\n",
      "Processing Record 577 of Set 1 | along\n",
      "Processing Record 578 of Set 1 | farah\n",
      "Processing Record 579 of Set 1 | busembatia\n",
      "Processing Record 580 of Set 1 | chagda\n",
      "Processing Record 581 of Set 1 | brownsville\n",
      "Processing Record 582 of Set 1 | lishu\n",
      "Processing Record 583 of Set 1 | carutapera\n",
      "Processing Record 584 of Set 1 | tibati\n",
      "Processing Record 585 of Set 1 | necochea\n",
      "Processing Record 586 of Set 1 | prince rupert\n"
     ]
    },
    {
     "name": "stdout",
     "output_type": "stream",
     "text": [
      "Processing Record 587 of Set 1 | nhulunbuy\n",
      "Processing Record 588 of Set 1 | pizarro\n",
      "Processing Record 589 of Set 1 | san luis\n",
      "Processing Record 590 of Set 1 | chipiona\n",
      "Processing Record 591 of Set 1 | gallup\n",
      "Processing Record 592 of Set 1 | shakiso\n",
      "Processing Record 593 of Set 1 | medicine hat\n",
      "Processing Record 594 of Set 1 | verkhoyansk\n",
      "Processing Record 595 of Set 1 | zwedru\n",
      "Processing Record 596 of Set 1 | tautira\n",
      "Processing Record 597 of Set 1 | north bend\n",
      "Processing Record 598 of Set 1 | mount pleasant\n",
      "Processing Record 599 of Set 1 | oktyabrskiy\n",
      "Processing Record 600 of Set 1 | mandera\n",
      "Processing Record 601 of Set 1 | sita buzaului\n",
      "Processing Record 602 of Set 1 | conakry\n",
      "Processing Record 603 of Set 1 | russell\n"
     ]
    }
   ],
   "source": [
    "#I Import more dependencies.\n",
    "import time\n",
    "import requests\n",
    "import json\n",
    "from pprint import pprint\n",
    "#I include the url of the API I will use and make 5 lists, one for each of the variables I am interested in.\n",
    "url = \"http://api.openweathermap.org/data/2.5/weather?\"\n",
    "count=1\n",
    "lats=[]\n",
    "temps=[]\n",
    "humidities=[]\n",
    "clouds=[]\n",
    "speeds=[]\n",
    "#I print my opening statement and begin checking for data on each listed city from the API.\n",
    "print(\"Beginning Data Retrieval\")\n",
    "print(\"-----------------------------\")\n",
    "for city in cities:\n",
    "    query_url = url + \"q=\" + city + \"&appid=\" + weather_api_key\n",
    "    response_json=requests.get(query_url).json()\n",
    "    #I include a try and except chunk to ensure that, if the for loop fails to find data for a given city in the API, it\n",
    "    #will continue checking the other cities and simply omit the one(s) without data.\n",
    "    try:\n",
    "        lats.append(response_json[\"coord\"][\"lat\"])\n",
    "        temps.append(response_json[\"main\"][\"temp\"])\n",
    "        humidities.append(response_json[\"main\"][\"humidity\"])\n",
    "        clouds.append(response_json[\"clouds\"][\"all\"])\n",
    "        speeds.append(response_json[\"wind\"][\"speed\"])\n",
    "    except:\n",
    "        next\n",
    "    print(\"Processing Record \"+str(count)+\" of Set 1 | \"+city)\n",
    "    count=count+1\n",
    "    #I include a time function to avoid overcalling the API and getting locked out or having to pay money.\n",
    "    time.sleep(1.01694915255)"
   ]
  },
  {
   "cell_type": "markdown",
   "metadata": {},
   "source": [
    "### Convert Raw Data to DataFrame\n",
    "* Export the city data into a .csv.\n",
    "* Display the DataFrame"
   ]
  },
  {
   "cell_type": "code",
   "execution_count": 5,
   "metadata": {},
   "outputs": [
    {
     "data": {
      "text/html": [
       "<div>\n",
       "<style scoped>\n",
       "    .dataframe tbody tr th:only-of-type {\n",
       "        vertical-align: middle;\n",
       "    }\n",
       "\n",
       "    .dataframe tbody tr th {\n",
       "        vertical-align: top;\n",
       "    }\n",
       "\n",
       "    .dataframe thead th {\n",
       "        text-align: right;\n",
       "    }\n",
       "</style>\n",
       "<table border=\"1\" class=\"dataframe\">\n",
       "  <thead>\n",
       "    <tr style=\"text-align: right;\">\n",
       "      <th></th>\n",
       "      <th>Latitudes</th>\n",
       "      <th>Maximum Temperatures (F)</th>\n",
       "      <th>Humidities (percents)</th>\n",
       "      <th>Cloud Cover (percents)</th>\n",
       "      <th>Wind Speeds (mph)</th>\n",
       "    </tr>\n",
       "  </thead>\n",
       "  <tbody>\n",
       "    <tr>\n",
       "      <th>0</th>\n",
       "      <td>-53.1500</td>\n",
       "      <td>59.270</td>\n",
       "      <td>70</td>\n",
       "      <td>0</td>\n",
       "      <td>3.09</td>\n",
       "    </tr>\n",
       "    <tr>\n",
       "      <th>1</th>\n",
       "      <td>22.0752</td>\n",
       "      <td>152.465</td>\n",
       "      <td>77</td>\n",
       "      <td>90</td>\n",
       "      <td>1.79</td>\n",
       "    </tr>\n",
       "    <tr>\n",
       "      <th>2</th>\n",
       "      <td>-46.2817</td>\n",
       "      <td>79.340</td>\n",
       "      <td>62</td>\n",
       "      <td>57</td>\n",
       "      <td>2.57</td>\n",
       "    </tr>\n",
       "    <tr>\n",
       "      <th>3</th>\n",
       "      <td>1.0002</td>\n",
       "      <td>148.820</td>\n",
       "      <td>86</td>\n",
       "      <td>94</td>\n",
       "      <td>4.16</td>\n",
       "    </tr>\n",
       "    <tr>\n",
       "      <th>4</th>\n",
       "      <td>-33.5906</td>\n",
       "      <td>117.950</td>\n",
       "      <td>34</td>\n",
       "      <td>0</td>\n",
       "      <td>2.84</td>\n",
       "    </tr>\n",
       "    <tr>\n",
       "      <th>...</th>\n",
       "      <td>...</td>\n",
       "      <td>...</td>\n",
       "      <td>...</td>\n",
       "      <td>...</td>\n",
       "      <td>...</td>\n",
       "    </tr>\n",
       "    <tr>\n",
       "      <th>546</th>\n",
       "      <td>54.4815</td>\n",
       "      <td>125.195</td>\n",
       "      <td>51</td>\n",
       "      <td>25</td>\n",
       "      <td>1.67</td>\n",
       "    </tr>\n",
       "    <tr>\n",
       "      <th>547</th>\n",
       "      <td>3.9366</td>\n",
       "      <td>140.675</td>\n",
       "      <td>64</td>\n",
       "      <td>100</td>\n",
       "      <td>8.23</td>\n",
       "    </tr>\n",
       "    <tr>\n",
       "      <th>548</th>\n",
       "      <td>45.6500</td>\n",
       "      <td>102.785</td>\n",
       "      <td>100</td>\n",
       "      <td>6</td>\n",
       "      <td>1.53</td>\n",
       "    </tr>\n",
       "    <tr>\n",
       "      <th>549</th>\n",
       "      <td>9.5380</td>\n",
       "      <td>148.730</td>\n",
       "      <td>78</td>\n",
       "      <td>100</td>\n",
       "      <td>3.00</td>\n",
       "    </tr>\n",
       "    <tr>\n",
       "      <th>550</th>\n",
       "      <td>32.3502</td>\n",
       "      <td>154.490</td>\n",
       "      <td>65</td>\n",
       "      <td>20</td>\n",
       "      <td>0.00</td>\n",
       "    </tr>\n",
       "  </tbody>\n",
       "</table>\n",
       "<p>551 rows × 5 columns</p>\n",
       "</div>"
      ],
      "text/plain": [
       "     Latitudes  Maximum Temperatures (F)  Humidities (percents)  \\\n",
       "0     -53.1500                    59.270                     70   \n",
       "1      22.0752                   152.465                     77   \n",
       "2     -46.2817                    79.340                     62   \n",
       "3       1.0002                   148.820                     86   \n",
       "4     -33.5906                   117.950                     34   \n",
       "..         ...                       ...                    ...   \n",
       "546    54.4815                   125.195                     51   \n",
       "547     3.9366                   140.675                     64   \n",
       "548    45.6500                   102.785                    100   \n",
       "549     9.5380                   148.730                     78   \n",
       "550    32.3502                   154.490                     65   \n",
       "\n",
       "     Cloud Cover (percents)  Wind Speeds (mph)  \n",
       "0                         0               3.09  \n",
       "1                        90               1.79  \n",
       "2                        57               2.57  \n",
       "3                        94               4.16  \n",
       "4                         0               2.84  \n",
       "..                      ...                ...  \n",
       "546                      25               1.67  \n",
       "547                     100               8.23  \n",
       "548                       6               1.53  \n",
       "549                     100               3.00  \n",
       "550                      20               0.00  \n",
       "\n",
       "[551 rows x 5 columns]"
      ]
     },
     "execution_count": 5,
     "metadata": {},
     "output_type": "execute_result"
    }
   ],
   "source": [
    "#I create a function to transform Celsius data into Fahrenheit data and put the results into the Fs list.\n",
    "Fs=[]\n",
    "for temp in temps:\n",
    "    Fs.append((temp-273.15)*4.5+32)\n",
    "#I assemble all of my variables into a dictionary, rename each key, then make a dataframe out of this dict.\n",
    "makedict={\"Latitudes\":lats,\"Maximum Temperatures (F)\":Fs,\"Humidities (percents)\":humidities,\"Cloud Cover (percents)\":clouds,\"Wind Speeds (mph)\":speeds}\n",
    "weathercities_df=pd.DataFrame(makedict)\n",
    "weathercities_df"
   ]
  },
  {
   "cell_type": "code",
   "execution_count": 6,
   "metadata": {},
   "outputs": [
    {
     "data": {
      "text/html": [
       "<div>\n",
       "<style scoped>\n",
       "    .dataframe tbody tr th:only-of-type {\n",
       "        vertical-align: middle;\n",
       "    }\n",
       "\n",
       "    .dataframe tbody tr th {\n",
       "        vertical-align: top;\n",
       "    }\n",
       "\n",
       "    .dataframe thead th {\n",
       "        text-align: right;\n",
       "    }\n",
       "</style>\n",
       "<table border=\"1\" class=\"dataframe\">\n",
       "  <thead>\n",
       "    <tr style=\"text-align: right;\">\n",
       "      <th></th>\n",
       "      <th>Latitudes</th>\n",
       "      <th>Maximum Temperatures (F)</th>\n",
       "      <th>Humidities (percents)</th>\n",
       "      <th>Cloud Cover (percents)</th>\n",
       "      <th>Wind Speeds (mph)</th>\n",
       "    </tr>\n",
       "  </thead>\n",
       "  <tbody>\n",
       "    <tr>\n",
       "      <th>count</th>\n",
       "      <td>551.000000</td>\n",
       "      <td>551.000000</td>\n",
       "      <td>551.000000</td>\n",
       "      <td>551.000000</td>\n",
       "      <td>551.000000</td>\n",
       "    </tr>\n",
       "    <tr>\n",
       "      <th>mean</th>\n",
       "      <td>20.579643</td>\n",
       "      <td>123.170572</td>\n",
       "      <td>71.404719</td>\n",
       "      <td>54.019964</td>\n",
       "      <td>3.188258</td>\n",
       "    </tr>\n",
       "    <tr>\n",
       "      <th>std</th>\n",
       "      <td>32.559914</td>\n",
       "      <td>32.353074</td>\n",
       "      <td>20.413131</td>\n",
       "      <td>39.313583</td>\n",
       "      <td>2.482492</td>\n",
       "    </tr>\n",
       "    <tr>\n",
       "      <th>min</th>\n",
       "      <td>-54.800000</td>\n",
       "      <td>44.060000</td>\n",
       "      <td>8.000000</td>\n",
       "      <td>0.000000</td>\n",
       "      <td>0.000000</td>\n",
       "    </tr>\n",
       "    <tr>\n",
       "      <th>25%</th>\n",
       "      <td>-2.754400</td>\n",
       "      <td>98.982500</td>\n",
       "      <td>62.000000</td>\n",
       "      <td>12.500000</td>\n",
       "      <td>1.465000</td>\n",
       "    </tr>\n",
       "    <tr>\n",
       "      <th>50%</th>\n",
       "      <td>24.833300</td>\n",
       "      <td>127.130000</td>\n",
       "      <td>76.000000</td>\n",
       "      <td>58.000000</td>\n",
       "      <td>2.530000</td>\n",
       "    </tr>\n",
       "    <tr>\n",
       "      <th>75%</th>\n",
       "      <td>47.283300</td>\n",
       "      <td>149.090000</td>\n",
       "      <td>87.000000</td>\n",
       "      <td>96.000000</td>\n",
       "      <td>4.225000</td>\n",
       "    </tr>\n",
       "    <tr>\n",
       "      <th>max</th>\n",
       "      <td>78.218600</td>\n",
       "      <td>212.855000</td>\n",
       "      <td>100.000000</td>\n",
       "      <td>100.000000</td>\n",
       "      <td>16.770000</td>\n",
       "    </tr>\n",
       "  </tbody>\n",
       "</table>\n",
       "</div>"
      ],
      "text/plain": [
       "        Latitudes  Maximum Temperatures (F)  Humidities (percents)  \\\n",
       "count  551.000000                551.000000             551.000000   \n",
       "mean    20.579643                123.170572              71.404719   \n",
       "std     32.559914                 32.353074              20.413131   \n",
       "min    -54.800000                 44.060000               8.000000   \n",
       "25%     -2.754400                 98.982500              62.000000   \n",
       "50%     24.833300                127.130000              76.000000   \n",
       "75%     47.283300                149.090000              87.000000   \n",
       "max     78.218600                212.855000             100.000000   \n",
       "\n",
       "       Cloud Cover (percents)  Wind Speeds (mph)  \n",
       "count              551.000000         551.000000  \n",
       "mean                54.019964           3.188258  \n",
       "std                 39.313583           2.482492  \n",
       "min                  0.000000           0.000000  \n",
       "25%                 12.500000           1.465000  \n",
       "50%                 58.000000           2.530000  \n",
       "75%                 96.000000           4.225000  \n",
       "max                100.000000          16.770000  "
      ]
     },
     "execution_count": 6,
     "metadata": {},
     "output_type": "execute_result"
    }
   ],
   "source": [
    "#I run basic statistics on each variable.\n",
    "descript_df=weathercities_df.describe()\n",
    "descript_df"
   ]
  },
  {
   "cell_type": "markdown",
   "metadata": {},
   "source": [
    "## Inspect the data and remove the cities where the humidity > 100%.\n",
    "----\n",
    "Skip this step if there are no cities that have humidity > 100%. "
   ]
  },
  {
   "cell_type": "markdown",
   "metadata": {},
   "source": [
    "## Plotting the Data\n",
    "* Use proper labeling of the plots using plot titles (including date of analysis) and axes labels.\n",
    "* Save the plotted figures as .pngs."
   ]
  },
  {
   "cell_type": "markdown",
   "metadata": {},
   "source": [
    "## Latitude vs. Temperature Plot"
   ]
  },
  {
   "cell_type": "code",
   "execution_count": 28,
   "metadata": {
    "scrolled": true
   },
   "outputs": [
    {
     "data": {
      "image/png": "[encoded data removed]",
      "text/plain": [
       "<Figure size 432x288 with 1 Axes>"
      ]
     },
     "metadata": {
      "needs_background": "light"
     },
     "output_type": "display_data"
    },
    {
     "name": "stdout",
     "output_type": "stream",
     "text": [
      "Here, I am plotting maximum observed temperature in Fahrenheit against latitude.\n"
     ]
    }
   ],
   "source": [
    "plt.scatter(lats,Fs)\n",
    "plt.xlabel(\"Latitudes\")\n",
    "plt.ylabel(\"Temperatures (F)\")\n",
    "plt.title(\"City Latitudes vs. Maximum City Temperatures (F)\")\n",
    "#I save my figure to the repository.\n",
    "plt.savefig(\"lattem.png\")\n",
    "plt.show()\n",
    "print(\"Here, I am plotting maximum observed temperature in Fahrenheit against latitude.\")"
   ]
  },
  {
   "cell_type": "markdown",
   "metadata": {},
   "source": [
    "## Latitude vs. Humidity Plot"
   ]
  },
  {
   "cell_type": "code",
   "execution_count": 29,
   "metadata": {},
   "outputs": [
    {
     "data": {
      "image/png": "[encoded data removed]",
      "text/plain": [
       "<Figure size 432x288 with 1 Axes>"
      ]
     },
     "metadata": {
      "needs_background": "light"
     },
     "output_type": "display_data"
    },
    {
     "name": "stdout",
     "output_type": "stream",
     "text": [
      "Here, I am plotting % humidity against latitude.\n"
     ]
    }
   ],
   "source": [
    "plt.scatter(lats,humidities)\n",
    "plt.xlabel(\"Latitudes\")\n",
    "plt.ylabel(\"Humidities (%)\")\n",
    "plt.title(\"City Latitudes vs. City Humidities (%)\")\n",
    "#I save my figure to the repository.\n",
    "plt.savefig(\"lathum.png\")\n",
    "plt.show()\n",
    "print(\"Here, I am plotting % humidity against latitude.\")"
   ]
  },
  {
   "cell_type": "markdown",
   "metadata": {},
   "source": [
    "## Latitude vs. Cloudiness Plot"
   ]
  },
  {
   "cell_type": "code",
   "execution_count": 30,
   "metadata": {},
   "outputs": [
    {
     "data": {
      "image/png": "[encoded data removed]",
      "text/plain": [
       "<Figure size 432x288 with 1 Axes>"
      ]
     },
     "metadata": {
      "needs_background": "light"
     },
     "output_type": "display_data"
    },
    {
     "name": "stdout",
     "output_type": "stream",
     "text": [
      "Here, I am plotting % cloud cover against latitude.\n"
     ]
    }
   ],
   "source": [
    "plt.scatter(lats,clouds)\n",
    "plt.xlabel(\"Latitudes\")\n",
    "plt.ylabel(\"Cloud Cover (%)\")\n",
    "plt.title(\"City Latitudes vs. City Cloud Cover (%)\")\n",
    "#I save my figure to the repository.\n",
    "plt.savefig(\"latclo.png\")\n",
    "plt.show()\n",
    "print(\"Here, I am plotting % cloud cover against latitude.\")"
   ]
  },
  {
   "cell_type": "markdown",
   "metadata": {},
   "source": [
    "## Latitude vs. Wind Speed Plot"
   ]
  },
  {
   "cell_type": "code",
   "execution_count": 31,
   "metadata": {},
   "outputs": [
    {
     "data": {
      "image/png": "[encoded data removed]",
      "text/plain": [
       "<Figure size 432x288 with 1 Axes>"
      ]
     },
     "metadata": {
      "needs_background": "light"
     },
     "output_type": "display_data"
    },
    {
     "name": "stdout",
     "output_type": "stream",
     "text": [
      "Here, I am plotting wind speeds, in miles per hour, against latitude.\n"
     ]
    }
   ],
   "source": [
    "plt.scatter(lats,speeds)\n",
    "plt.xlabel(\"Latitudes\")\n",
    "plt.ylabel(\"Wind Speeds (mph)\")\n",
    "plt.title(\"City Latitudes vs. City Wind Speeds (%)\")\n",
    "#I save my figure to the repository.\n",
    "plt.savefig(\"latspe.png\")\n",
    "plt.show()\n",
    "print(\"Here, I am plotting wind speeds, in miles per hour, against latitude.\")"
   ]
  },
  {
   "cell_type": "markdown",
   "metadata": {},
   "source": [
    "## Linear Regression"
   ]
  },
  {
   "cell_type": "code",
   "execution_count": 32,
   "metadata": {},
   "outputs": [
    {
     "data": {
      "text/html": [
       "<div>\n",
       "<style scoped>\n",
       "    .dataframe tbody tr th:only-of-type {\n",
       "        vertical-align: middle;\n",
       "    }\n",
       "\n",
       "    .dataframe tbody tr th {\n",
       "        vertical-align: top;\n",
       "    }\n",
       "\n",
       "    .dataframe thead th {\n",
       "        text-align: right;\n",
       "    }\n",
       "</style>\n",
       "<table border=\"1\" class=\"dataframe\">\n",
       "  <thead>\n",
       "    <tr style=\"text-align: right;\">\n",
       "      <th></th>\n",
       "      <th>Latitudes</th>\n",
       "      <th>Maximum Temperatures (F)</th>\n",
       "      <th>Humidities (percents)</th>\n",
       "      <th>Cloud Cover (percents)</th>\n",
       "      <th>Wind Speeds (mph)</th>\n",
       "    </tr>\n",
       "  </thead>\n",
       "  <tbody>\n",
       "    <tr>\n",
       "      <th>Latitudes</th>\n",
       "      <td>1.000000</td>\n",
       "      <td>0.020283</td>\n",
       "      <td>-0.010424</td>\n",
       "      <td>0.166177</td>\n",
       "      <td>0.010233</td>\n",
       "    </tr>\n",
       "    <tr>\n",
       "      <th>Maximum Temperatures (F)</th>\n",
       "      <td>0.020283</td>\n",
       "      <td>1.000000</td>\n",
       "      <td>-0.287576</td>\n",
       "      <td>-0.053244</td>\n",
       "      <td>0.016154</td>\n",
       "    </tr>\n",
       "    <tr>\n",
       "      <th>Humidities (percents)</th>\n",
       "      <td>-0.010424</td>\n",
       "      <td>-0.287576</td>\n",
       "      <td>1.000000</td>\n",
       "      <td>0.343246</td>\n",
       "      <td>-0.073202</td>\n",
       "    </tr>\n",
       "    <tr>\n",
       "      <th>Cloud Cover (percents)</th>\n",
       "      <td>0.166177</td>\n",
       "      <td>-0.053244</td>\n",
       "      <td>0.343246</td>\n",
       "      <td>1.000000</td>\n",
       "      <td>0.037237</td>\n",
       "    </tr>\n",
       "    <tr>\n",
       "      <th>Wind Speeds (mph)</th>\n",
       "      <td>0.010233</td>\n",
       "      <td>0.016154</td>\n",
       "      <td>-0.073202</td>\n",
       "      <td>0.037237</td>\n",
       "      <td>1.000000</td>\n",
       "    </tr>\n",
       "  </tbody>\n",
       "</table>\n",
       "</div>"
      ],
      "text/plain": [
       "                          Latitudes  Maximum Temperatures (F)  \\\n",
       "Latitudes                  1.000000                  0.020283   \n",
       "Maximum Temperatures (F)   0.020283                  1.000000   \n",
       "Humidities (percents)     -0.010424                 -0.287576   \n",
       "Cloud Cover (percents)     0.166177                 -0.053244   \n",
       "Wind Speeds (mph)          0.010233                  0.016154   \n",
       "\n",
       "                          Humidities (percents)  Cloud Cover (percents)  \\\n",
       "Latitudes                             -0.010424                0.166177   \n",
       "Maximum Temperatures (F)              -0.287576               -0.053244   \n",
       "Humidities (percents)                  1.000000                0.343246   \n",
       "Cloud Cover (percents)                 0.343246                1.000000   \n",
       "Wind Speeds (mph)                     -0.073202                0.037237   \n",
       "\n",
       "                          Wind Speeds (mph)  \n",
       "Latitudes                          0.010233  \n",
       "Maximum Temperatures (F)           0.016154  \n",
       "Humidities (percents)             -0.073202  \n",
       "Cloud Cover (percents)             0.037237  \n",
       "Wind Speeds (mph)                  1.000000  "
      ]
     },
     "execution_count": 32,
     "metadata": {},
     "output_type": "execute_result"
    }
   ],
   "source": [
    "#I use .corr() to find the correlation coefficients between each pair of variables, considering all data from both \n",
    "#hemispheres. These are r values.\n",
    "weathercities_df.corr()"
   ]
  },
  {
   "cell_type": "markdown",
   "metadata": {},
   "source": [
    "####  Northern Hemisphere - Max Temp vs. Latitude Linear Regression"
   ]
  },
  {
   "cell_type": "code",
   "execution_count": 33,
   "metadata": {},
   "outputs": [
    {
     "data": {
      "image/png": "[encoded data removed]",
      "text/plain": [
       "<Figure size 432x288 with 1 Axes>"
      ]
     },
     "metadata": {
      "needs_background": "light"
     },
     "output_type": "display_data"
    },
    {
     "name": "stdout",
     "output_type": "stream",
     "text": [
      "Here, I am plotting latitude against maximum temperature in the Northern Hemisphere.\n",
      "r=-0.631, linear regression model: y=-0.98*x+164.945\n"
     ]
    }
   ],
   "source": [
    "#I isolate data for the Northern Hemisphere by using .loc to get only latitudes>0 into a new dataframe.\n",
    "northtemp_df=weathercities_df.loc[weathercities_df[\"Latitudes\"]>0]\n",
    "#I assign latitude and temperature to be my x and y variables, respectively.\n",
    "x=northtemp_df[\"Latitudes\"]\n",
    "y=northtemp_df[\"Maximum Temperatures (F)\"]\n",
    "#I run a linear regression analysis.\n",
    "res=linregress(x, y)\n",
    "#I make my scatterplot, title, labels, legend, and regression line.\n",
    "plt.plot(x, y, 'o', label='original data')\n",
    "plt.plot(x, res.intercept + res.slope*x, 'r', label='fitted line')\n",
    "plt.legend()\n",
    "plt.ylabel(\"Temperatures (F)\")\n",
    "plt.xlabel(\"Latitudes\")\n",
    "plt.title(\"Northern Hemisphere Cities: Latitude vs. Maximum Temperature (F)\")\n",
    "#I save my figure to the repository.\n",
    "plt.savefig(\"notemp.png\")\n",
    "plt.show()\n",
    "print(\"Here, I am plotting latitude against maximum temperature in the Northern Hemisphere.\")\n",
    "#I print the correlation coefficient and the linear regression equation, with numbers rounded to 3 places for easier reading.\n",
    "print(f\"r={round(res.rvalue,3)}, linear regression model: y={round(res.slope,3)}*x+{round(res.intercept,3)}\")"
   ]
  },
  {
   "cell_type": "markdown",
   "metadata": {},
   "source": [
    "####  Southern Hemisphere - Max Temp vs. Latitude Linear Regression"
   ]
  },
  {
   "cell_type": "code",
   "execution_count": 34,
   "metadata": {},
   "outputs": [
    {
     "data": {
      "image/png": "[encoded data removed]",
      "text/plain": [
       "<Figure size 432x288 with 1 Axes>"
      ]
     },
     "metadata": {
      "needs_background": "light"
     },
     "output_type": "display_data"
    },
    {
     "name": "stdout",
     "output_type": "stream",
     "text": [
      "Here, I am plotting latitude against maximum temperature in the Southern Hemisphere.\n",
      "r=0.813, linear regression model: y=1.745*x+147.438\n"
     ]
    }
   ],
   "source": [
    "#I isolate data for the Southern Hemisphere by using .loc to get only latitudes<0 into a new dataframe.\n",
    "southtemp_df=weathercities_df.loc[weathercities_df[\"Latitudes\"]<0]\n",
    "#I assign latitude and temperature to be my x and y variables, respectively.\n",
    "x=southtemp_df[\"Latitudes\"]\n",
    "y=southtemp_df[\"Maximum Temperatures (F)\"]\n",
    "#I run a linear regression analysis.\n",
    "res=linregress(x, y)\n",
    "#I make my scatterplot, title, labels, legend, and regression line.\n",
    "plt.plot(x, y, 'o', label='original data')\n",
    "plt.plot(x, res.intercept + res.slope*x, 'r', label='fitted line')\n",
    "plt.legend()\n",
    "plt.ylabel(\"Maximum Temperatures (F)\")\n",
    "plt.xlabel(\"Latitudes\")\n",
    "plt.title(\"Southern Hemisphere Cities: Latitude vs. Temperature (F)\")\n",
    "#I save my figure to the repository.\n",
    "plt.savefig(\"sotemp.png\")\n",
    "plt.show()\n",
    "print(\"Here, I am plotting latitude against maximum temperature in the Southern Hemisphere.\")\n",
    "##I print the correlation coefficient and the linear regression equation, with numbers rounded to 3 places for easier reading.\n",
    "print(f\"r={round(res.rvalue,3)}, linear regression model: y={round(res.slope,3)}*x+{round(res.intercept,3)}\")"
   ]
  },
  {
   "cell_type": "markdown",
   "metadata": {},
   "source": [
    "####  Northern Hemisphere - Humidity (%) vs. Latitude Linear Regression"
   ]
  },
  {
   "cell_type": "code",
   "execution_count": 35,
   "metadata": {},
   "outputs": [
    {
     "data": {
      "image/png": "[encoded data removed]",
      "text/plain": [
       "<Figure size 432x288 with 1 Axes>"
      ]
     },
     "metadata": {
      "needs_background": "light"
     },
     "output_type": "display_data"
    },
    {
     "name": "stdout",
     "output_type": "stream",
     "text": [
      "Here, I am plotting latitude against % humidity in the Northern Hemisphere.\n",
      "r=-0.12, linear regression model: y=-0.127*x+76.662\n"
     ]
    }
   ],
   "source": [
    "#I isolate data for the Northern Hemisphere by using .loc to get only latitudes>0 into a new dataframe.\n",
    "northhum_df=weathercities_df.loc[weathercities_df[\"Latitudes\"]>0]\n",
    "#I assign latitude and humidity to be my x and y variables, respectively.\n",
    "x=northhum_df[\"Latitudes\"]\n",
    "y=northhum_df[\"Humidities (percents)\"]\n",
    "#I run a linear regression analysis.\n",
    "res=linregress(x, y)\n",
    "#I make my scatterplot, title, labels, legend, and regression line.\n",
    "plt.plot(x, y, 'o', label='original data')\n",
    "plt.plot(x, res.intercept + res.slope*x, 'r', label='fitted line')\n",
    "plt.legend()\n",
    "plt.ylabel(\"% Humidity\")\n",
    "plt.xlabel(\"Latitudes\")\n",
    "plt.title(\"Northern Hemisphere Cities: Latitude vs. % Humidity\")\n",
    "#I save my figure to the repository.\n",
    "plt.savefig(\"nohum.png\")\n",
    "plt.show()\n",
    "print(\"Here, I am plotting latitude against % humidity in the Northern Hemisphere.\")\n",
    "##I print the correlation coefficient and the linear regression equation, with numbers rounded to 3 places for easier reading.\n",
    "print(f\"r={round(res.rvalue,3)}, linear regression model: y={round(res.slope,3)}*x+{round(res.intercept,3)}\")"
   ]
  },
  {
   "cell_type": "markdown",
   "metadata": {},
   "source": [
    "####  Southern Hemisphere - Humidity (%) vs. Latitude Linear Regression"
   ]
  },
  {
   "cell_type": "code",
   "execution_count": 36,
   "metadata": {},
   "outputs": [
    {
     "data": {
      "image/png": "[encoded data removed]",
      "text/plain": [
       "<Figure size 432x288 with 1 Axes>"
      ]
     },
     "metadata": {
      "needs_background": "light"
     },
     "output_type": "display_data"
    },
    {
     "name": "stdout",
     "output_type": "stream",
     "text": [
      "Here, I am plotting latitude against % humidity in the Southern Hemisphere.\n",
      "r=0.131, linear regression model: y=0.159*x+73.495\n"
     ]
    }
   ],
   "source": [
    "#I isolate data for the Southern Hemisphere by using .loc to get only latitudes<0 into a new dataframe.\n",
    "southhum_df=weathercities_df.loc[weathercities_df[\"Latitudes\"]<0]\n",
    "#I assign latitude and humidity to be my x and y variables, respectively.\n",
    "x=southhum_df[\"Latitudes\"]\n",
    "y=southhum_df[\"Humidities (percents)\"]\n",
    "#I run a linear regression analysis.\n",
    "res=linregress(x, y)\n",
    "#I make my scatterplot, title, labels, legend, and regression line.\n",
    "plt.plot(x, y, 'o', label='original data')\n",
    "plt.plot(x, res.intercept + res.slope*x, 'r', label='fitted line')\n",
    "plt.legend()\n",
    "plt.ylabel(\"% Humidity\")\n",
    "plt.xlabel(\"Latitudes\")\n",
    "plt.title(\"Southern Hemisphere Cities: Latitude vs. % Humidity\")\n",
    "#I save my figure to the repository.\n",
    "plt.savefig(\"sohum.png\")\n",
    "plt.show()\n",
    "print(\"Here, I am plotting latitude against % humidity in the Southern Hemisphere.\")\n",
    "##I print the correlation coefficient and the linear regression equation, with numbers rounded to 3 places for easier reading.\n",
    "print(f\"r={round(res.rvalue,3)}, linear regression model: y={round(res.slope,3)}*x+{round(res.intercept,3)}\")"
   ]
  },
  {
   "cell_type": "markdown",
   "metadata": {},
   "source": [
    "####  Northern Hemisphere - Cloudiness (%) vs. Latitude Linear Regression"
   ]
  },
  {
   "cell_type": "code",
   "execution_count": 37,
   "metadata": {},
   "outputs": [
    {
     "data": {
      "image/png": "[encoded data removed]",
      "text/plain": [
       "<Figure size 432x288 with 1 Axes>"
      ]
     },
     "metadata": {
      "needs_background": "light"
     },
     "output_type": "display_data"
    },
    {
     "name": "stdout",
     "output_type": "stream",
     "text": [
      "Here, I am plotting latitude against % cloud cover in the Northern Hemisphere.\n",
      "r=-0.034, linear regression model: y=-0.066*x+61.624\n"
     ]
    }
   ],
   "source": [
    "#I isolate data for the Northern Hemisphere by using .loc to get only latitudes>0 into a new dataframe.\n",
    "northcloud_df=weathercities_df.loc[weathercities_df[\"Latitudes\"]>0]\n",
    "#I assign latitude and cloud cover to be my x and y variables, respectively.\n",
    "x=northcloud_df[\"Latitudes\"]\n",
    "y=northcloud_df[\"Cloud Cover (percents)\"]\n",
    "#I run a linear regression analysis.\n",
    "res=linregress(x, y)\n",
    "#I make my scatterplot, title, labels, legend, and regression line.\n",
    "plt.plot(x, y, 'o', label='original data')\n",
    "plt.plot(x, res.intercept + res.slope*x, 'r', label='fitted line')\n",
    "plt.legend()\n",
    "plt.ylabel(\"% Cloud Cover\")\n",
    "plt.xlabel(\"Latitudes\")\n",
    "plt.title(\"Northern Hemisphere Cities: Latitude vs. % Cloud Cover\")\n",
    "#I save my figure to the repository.\n",
    "plt.savefig(\"nocloud.png\")\n",
    "plt.show()\n",
    "print(\"Here, I am plotting latitude against % cloud cover in the Northern Hemisphere.\")\n",
    "##I print the correlation coefficient and the linear regression equation, with numbers rounded to 3 places for easier reading.\n",
    "print(f\"r={round(res.rvalue,3)}, linear regression model: y={round(res.slope,3)}*x+{round(res.intercept,3)}\")"
   ]
  },
  {
   "cell_type": "markdown",
   "metadata": {},
   "source": [
    "####  Southern Hemisphere - Cloudiness (%) vs. Latitude Linear Regression"
   ]
  },
  {
   "cell_type": "code",
   "execution_count": 38,
   "metadata": {},
   "outputs": [
    {
     "data": {
      "image/png": "[encoded data removed]",
      "text/plain": [
       "<Figure size 432x288 with 1 Axes>"
      ]
     },
     "metadata": {
      "needs_background": "light"
     },
     "output_type": "display_data"
    },
    {
     "name": "stdout",
     "output_type": "stream",
     "text": [
      "Here, I am plotting latitude against % cloud cover in the Southern Hemisphere.\n",
      "r=0.129, linear regression model: y=0.326*x+48.313\n"
     ]
    }
   ],
   "source": [
    "#I isolate data for the Southern Hemisphere by using .loc to get only latitudes<0 into a new dataframe.\n",
    "southcloud_df=weathercities_df.loc[weathercities_df[\"Latitudes\"]<0]\n",
    "#I assign latitude and cloud cover to be my x and y variables, respectively.\n",
    "x=southcloud_df[\"Latitudes\"]\n",
    "y=southcloud_df[\"Cloud Cover (percents)\"]\n",
    "#I run a linear regression analysis.\n",
    "res=linregress(x, y)\n",
    "#I make my scatterplot, title, labels, legend, and regression line.\n",
    "plt.plot(x, y, 'o', label='original data')\n",
    "plt.plot(x, res.intercept + res.slope*x, 'r', label='fitted line')\n",
    "plt.legend()\n",
    "plt.ylabel(\"% Cloud Cover\")\n",
    "plt.xlabel(\"Latitudes\")\n",
    "plt.title(\"Southern Hemisphere Cities: Latitude vs. % Cloud Cover\")\n",
    "#I save my figure to the repository.\n",
    "plt.savefig(\"socloud.png\")\n",
    "plt.show()\n",
    "print(\"Here, I am plotting latitude against % cloud cover in the Southern Hemisphere.\")\n",
    "##I print the correlation coefficient and the linear regression equation, with numbers rounded to 3 places for easier reading.\n",
    "print(f\"r={round(res.rvalue,3)}, linear regression model: y={round(res.slope,3)}*x+{round(res.intercept,3)}\")"
   ]
  },
  {
   "cell_type": "markdown",
   "metadata": {},
   "source": [
    "####  Northern Hemisphere - Wind Speed (mph) vs. Latitude Linear Regression"
   ]
  },
  {
   "cell_type": "code",
   "execution_count": 39,
   "metadata": {},
   "outputs": [
    {
     "data": {
      "image/png": "[encoded data removed]",
      "text/plain": [
       "<Figure size 432x288 with 1 Axes>"
      ]
     },
     "metadata": {
      "needs_background": "light"
     },
     "output_type": "display_data"
    },
    {
     "name": "stdout",
     "output_type": "stream",
     "text": [
      "Here, I am plotting latitude against wind speed in the Northern Hemisphere.\n",
      "r=0.02, linear regression model: y=0.003*x+3.108\n"
     ]
    }
   ],
   "source": [
    "#I isolate data for the Northern Hemisphere by using .loc to get only latitudes>0 into a new dataframe.\n",
    "northwind_df=weathercities_df.loc[weathercities_df[\"Latitudes\"]>0]\n",
    "#I assign latitude and wind speed to be my x and y variables, respectively.\n",
    "x=northwind_df[\"Latitudes\"]\n",
    "y=northwind_df[\"Wind Speeds (mph)\"]\n",
    "#I run a linear regression analysis.\n",
    "res=linregress(x, y)\n",
    "#I make my scatterplot, title, labels, legend, and regression line.\n",
    "plt.plot(x, y, 'o', label='original data')\n",
    "plt.plot(x, res.intercept + res.slope*x, 'r', label='fitted line')\n",
    "plt.legend()\n",
    "plt.ylabel(\"Wind Speeds (mph)\")\n",
    "plt.xlabel(\"Latitudes\")\n",
    "plt.title(\"Northern Hemisphere Cities: Latitude vs. Wind Speed (mph)\")\n",
    "#I save my figure to the repository.\n",
    "plt.savefig(\"nowind.png\")\n",
    "plt.show()\n",
    "print(\"Here, I am plotting latitude against wind speed in the Northern Hemisphere.\")\n",
    "##I print the correlation coefficient and the linear regression equation, with numbers rounded to 3 places for easier reading.\n",
    "print(f\"r={round(res.rvalue,3)}, linear regression model: y={round(res.slope,3)}*x+{round(res.intercept,3)}\")"
   ]
  },
  {
   "cell_type": "markdown",
   "metadata": {},
   "source": [
    "####  Southern Hemisphere - Wind Speed (mph) vs. Latitude Linear Regression"
   ]
  },
  {
   "cell_type": "code",
   "execution_count": 40,
   "metadata": {},
   "outputs": [
    {
     "data": {
      "image/png": "[encoded data removed]",
      "text/plain": [
       "<Figure size 432x288 with 1 Axes>"
      ]
     },
     "metadata": {
      "needs_background": "light"
     },
     "output_type": "display_data"
    },
    {
     "name": "stdout",
     "output_type": "stream",
     "text": [
      "Here, I am plotting latitude against wind speed in the Southern Hemisphere.\n",
      "r=-0.086, linear regression model: y=-0.012*x+2.881\n"
     ]
    }
   ],
   "source": [
    "#I isolate data for the Southern Hemisphere by using .loc to get only latitudes<0 into a new dataframe.\n",
    "southwind_df=weathercities_df.loc[weathercities_df[\"Latitudes\"]<0]\n",
    "#I assign latitude and wind speed to be my x and y variables, respectively.\n",
    "x=southwind_df[\"Latitudes\"]\n",
    "y=southwind_df[\"Wind Speeds (mph)\"]\n",
    "#I run a linear regression analysis.\n",
    "res=linregress(x, y)\n",
    "#I make my scatterplot, title, labels, legend, and regression line.\n",
    "plt.plot(x, y, 'o', label='original data')\n",
    "plt.plot(x, res.intercept + res.slope*x, 'r', label='fitted line')\n",
    "plt.legend()\n",
    "plt.ylabel(\"Wind Speeds (mph)\")\n",
    "plt.xlabel(\"Latitudes\")\n",
    "plt.title(\"Southern Hemisphere Cities: Latitude vs. Wind Speed (mph)\")\n",
    "#I save my figure to the repository.\n",
    "plt.savefig(\"sowind.png\")\n",
    "plt.show()\n",
    "print(\"Here, I am plotting latitude against wind speed in the Southern Hemisphere.\")\n",
    "##I print the correlation coefficient and the linear regression equation, with numbers rounded to 3 places for easier reading.\n",
    "print(f\"r={round(res.rvalue,3)}, linear regression model: y={round(res.slope,3)}*x+{round(res.intercept,3)}\")"
   ]
  }
 ],
 "metadata": {
  "anaconda-cloud": {},
  "kernel_info": {
   "name": "python3"
  },
  "kernelspec": {
   "display_name": "Python 3",
   "language": "python",
   "name": "python3"
  },
  "language_info": {
   "codemirror_mode": {
    "name": "ipython",
    "version": 3
   },
   "file_extension": ".py",
   "mimetype": "text/x-python",
   "name": "python",
   "nbconvert_exporter": "python",
   "pygments_lexer": "ipython3",
   "version": "3.8.3"
  },
  "latex_envs": {
   "LaTeX_envs_menu_present": true,
   "autoclose": false,
   "autocomplete": true,
   "bibliofile": "biblio.bib",
   "cite_by": "apalike",
   "current_citInitial": 1,
   "eqLabelWithNumbers": true,
   "eqNumInitial": 1,
   "hotkeys": {
    "equation": "Ctrl-E",
    "itemize": "Ctrl-I"
   },
   "labels_anchors": false,
   "latex_user_defs": false,
   "report_style_numbering": false,
   "user_envs_cfg": false
  },
  "nteract": {
   "version": "0.12.3"
  }
 },
 "nbformat": 4,
 "nbformat_minor": 2
}
